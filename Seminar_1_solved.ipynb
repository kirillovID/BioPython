{
 "cells": [
  {
   "cell_type": "markdown",
   "id": "4206213e",
   "metadata": {
    "slideshow": {
     "slide_type": "slide"
    }
   },
   "source": [
    "# Немного теории"
   ]
  },
  {
   "cell_type": "markdown",
   "id": "812e2562",
   "metadata": {
    "slideshow": {
     "slide_type": "slide"
    }
   },
   "source": [
    "## Про input()"
   ]
  },
  {
   "cell_type": "code",
   "execution_count": null,
   "id": "1e0336cf",
   "metadata": {
    "slideshow": {
     "slide_type": "subslide"
    }
   },
   "outputs": [],
   "source": [
    "phrase = input()\n",
    "print(phrase)"
   ]
  },
  {
   "cell_type": "code",
   "execution_count": null,
   "id": "66a1b092",
   "metadata": {
    "slideshow": {
     "slide_type": "subslide"
    }
   },
   "outputs": [],
   "source": [
    "phrase = input(\"Введите строку: \")\n",
    "print(phrase)"
   ]
  },
  {
   "cell_type": "code",
   "execution_count": null,
   "id": "8ac3634c",
   "metadata": {
    "slideshow": {
     "slide_type": "subslide"
    }
   },
   "outputs": [],
   "source": [
    "int_number = input()\n",
    "float_number = input()\n",
    "print(int_number + float_number)"
   ]
  },
  {
   "cell_type": "code",
   "execution_count": null,
   "id": "fafbdae5-4ece-4965-ab8d-0ea9c3fa1105",
   "metadata": {
    "slideshow": {
     "slide_type": "fragment"
    }
   },
   "outputs": [],
   "source": [
    "# Как надо:\n",
    "int_number = int(input())\n",
    "float_number = float(input())\n",
    "print(int_number + float_number)"
   ]
  },
  {
   "cell_type": "markdown",
   "id": "8de1e339",
   "metadata": {
    "slideshow": {
     "slide_type": "slide"
    }
   },
   "source": [
    "## Про f-строки (понадобится в домашке)"
   ]
  },
  {
   "cell_type": "code",
   "execution_count": null,
   "id": "12728572",
   "metadata": {
    "slideshow": {
     "slide_type": "subslide"
    }
   },
   "outputs": [],
   "source": [
    "variable = 42\n",
    "print(f\"Здесь что-то написано: {variable:0>9}, и здесь что-то написано\")\n",
    "print(f\"Здесь что-то написано: {'хммм':.<9}, и здесь что-то написано\")\n",
    "print(f\"Здесь что-то написано: {39:0^9}, и здесь что-то написано\")\n",
    "print(f\"Здесь что-то написано: {4 + 2:0^9}, и здесь что-то написано\")"
   ]
  },
  {
   "cell_type": "code",
   "execution_count": null,
   "id": "9b08209f",
   "metadata": {
    "slideshow": {
     "slide_type": "subslide"
    }
   },
   "outputs": [],
   "source": [
    "name = \"Zeliboba\"\n",
    "phone = 123456\n",
    "print(f\"{name:10} ==> {phone:10d}\")\n",
    "print(f\"{name:10} ==> {phone:010}\")"
   ]
  },
  {
   "cell_type": "code",
   "execution_count": null,
   "id": "25e2ecd9",
   "metadata": {
    "slideshow": {
     "slide_type": "subslide"
    }
   },
   "outputs": [],
   "source": [
    "bugs = \"roaches\"\n",
    "count = 13\n",
    "area = \"living room\"\n",
    "print(f\"Debugging {bugs=} {count=} {area=}\")"
   ]
  },
  {
   "cell_type": "markdown",
   "id": "1536622b",
   "metadata": {
    "slideshow": {
     "slide_type": "slide"
    }
   },
   "source": [
    "## Новое: условные операторы — if, else, elif etc."
   ]
  },
  {
   "cell_type": "code",
   "execution_count": null,
   "id": "dcc14152",
   "metadata": {
    "slideshow": {
     "slide_type": "subslide"
    }
   },
   "outputs": [],
   "source": [
    "yesterday_temp = int(input())\n",
    "today_temp = int(input())\n",
    "\n",
    "if today_temp > yesterday_temp:\n",
    "    print(\"Сегодня теплее, чем вчера.\")\n",
    "elif today_temp < yesterday_temp:\n",
    "    print(\"Сегодня холоднее, чем вчера.\")\n",
    "else:\n",
    "    print(\"Сегодня такая же температура, как вчера.\")"
   ]
  },
  {
   "cell_type": "code",
   "execution_count": null,
   "id": "c36d6c4b",
   "metadata": {
    "slideshow": {
     "slide_type": "subslide"
    }
   },
   "outputs": [],
   "source": [
    "text = input()\n",
    "\n",
    "if \"добр\" in text:\n",
    "    print(\"Встретилось 'доброе' слово.\")\n",
    "else:\n",
    "    print(\"Добрых слов не найдено.\")"
   ]
  },
  {
   "cell_type": "markdown",
   "id": "aee1c93b",
   "metadata": {
    "slideshow": {
     "slide_type": "slide"
    }
   },
   "source": [
    "## Python и ООП (попробуем...)"
   ]
  },
  {
   "cell_type": "markdown",
   "id": "ef01f740",
   "metadata": {
    "slideshow": {
     "slide_type": "subslide"
    }
   },
   "source": [
    "### На примере строк"
   ]
  },
  {
   "cell_type": "code",
   "execution_count": null,
   "id": "f7861eba",
   "metadata": {
    "slideshow": {
     "slide_type": "fragment"
    }
   },
   "outputs": [],
   "source": [
    "# Можно применять функции к объектам\n",
    "s = \"Hello!\"\n",
    "print(s, len(s))"
   ]
  },
  {
   "cell_type": "code",
   "execution_count": null,
   "id": "d75f4f8f",
   "metadata": {
    "slideshow": {
     "slide_type": "fragment"
    }
   },
   "outputs": [],
   "source": [
    "# А можно использовать методы самого объекта\n",
    "print(s.upper(), s.lower(), s.count(\"l\"), s.replace(\"l\", \"w\"), sep=\"\\n\")\n",
    "print(s)"
   ]
  },
  {
   "cell_type": "markdown",
   "id": "144c36e9",
   "metadata": {
    "slideshow": {
     "slide_type": "slide"
    }
   },
   "source": [
    "# Задачи на семинар"
   ]
  },
  {
   "cell_type": "markdown",
   "id": "e2d1adea",
   "metadata": {
    "slideshow": {
     "slide_type": "subslide"
    }
   },
   "source": [
    "## Упражнение 1"
   ]
  },
  {
   "cell_type": "markdown",
   "id": "e595839f",
   "metadata": {
    "slideshow": {
     "slide_type": "fragment"
    }
   },
   "source": [
    "Посчитайте, сколько цифр в числе $2^{2023}$"
   ]
  },
  {
   "cell_type": "code",
   "execution_count": null,
   "id": "028b8b46",
   "metadata": {
    "slideshow": {
     "slide_type": "fragment"
    }
   },
   "outputs": [],
   "source": [
    "len(str(2 ** 2023))"
   ]
  },
  {
   "cell_type": "markdown",
   "id": "c0fd0acb",
   "metadata": {
    "slideshow": {
     "slide_type": "subslide"
    }
   },
   "source": [
    "## Упражнение 2"
   ]
  },
  {
   "cell_type": "markdown",
   "id": "dfeee0c7",
   "metadata": {
    "slideshow": {
     "slide_type": "fragment"
    }
   },
   "source": [
    "- Запросите ввод с клавиатуры — необходимо ввести какой-то кусок последовательности ДНК.\n",
    "- Посчитайте длину этой последовательности и выведите ее.\n",
    "- Также выведите первые 3 и последние 3 нуклеотида последовательности."
   ]
  },
  {
   "cell_type": "code",
   "execution_count": null,
   "id": "bef057f9",
   "metadata": {
    "slideshow": {
     "slide_type": "fragment"
    }
   },
   "outputs": [],
   "source": [
    "dna = input()\n",
    "print(len(dna), dna[:3], dna[-3:])"
   ]
  },
  {
   "cell_type": "markdown",
   "id": "c73a1710",
   "metadata": {
    "slideshow": {
     "slide_type": "subslide"
    }
   },
   "source": [
    "## Упражнение 3"
   ]
  },
  {
   "cell_type": "markdown",
   "id": "5deccc27",
   "metadata": {
    "slideshow": {
     "slide_type": "fragment"
    }
   },
   "source": [
    "- Запросите ввод с клавиатуры — произвольный кодон.\n",
    "- Проверьте, является ли этот кодон старт кодоном или стоп кодоном и выведите информацию."
   ]
  },
  {
   "cell_type": "code",
   "execution_count": null,
   "id": "6edac02e",
   "metadata": {
    "slideshow": {
     "slide_type": "fragment"
    }
   },
   "outputs": [],
   "source": [
    "cod = input()\n",
    "\n",
    "if cod == \"AUG\":\n",
    "    print(\"Start codon\")\n",
    "elif cod == \"UAG\" or cod == \"UAA\" or cod == \"UGA\":\n",
    "    print(\"Stop codon\")\n",
    "else:\n",
    "    print(\"Other\")"
   ]
  },
  {
   "cell_type": "markdown",
   "id": "67175841",
   "metadata": {
    "slideshow": {
     "slide_type": "subslide"
    }
   },
   "source": [
    "## Упражнение 4"
   ]
  },
  {
   "cell_type": "markdown",
   "id": "24ebcdf2",
   "metadata": {
    "slideshow": {
     "slide_type": "fragment"
    }
   },
   "source": [
    "- Запросите ввод с клавиатуры — необходимо ввести два куска последовательности ДНК.\n",
    "- Выведите информацию о том, какая мутация произошла (если вообще произошла) во второй последовательности относительно первой (удаление, замена, добавление). Для упрощения предположим, что произошла только одна мутация."
   ]
  },
  {
   "cell_type": "code",
   "execution_count": null,
   "id": "0bdbce06",
   "metadata": {
    "slideshow": {
     "slide_type": "fragment"
    }
   },
   "outputs": [],
   "source": [
    "first_dna = input()\n",
    "second_dna = input()\n",
    "\n",
    "if first_dna == second_dna:\n",
    "    print(\"Нет мутаций\")\n",
    "elif len(first_dna) > len(second_dna):\n",
    "    print(\"Удаление\")\n",
    "elif len(first_dna) < len(second_dna):\n",
    "    print(\"Добавление\")\n",
    "else:\n",
    "    print(\"Замена\")"
   ]
  },
  {
   "cell_type": "markdown",
   "id": "27e5943d",
   "metadata": {
    "slideshow": {
     "slide_type": "subslide"
    }
   },
   "source": [
    "## Упражнение 5"
   ]
  },
  {
   "cell_type": "markdown",
   "id": "fce77b76",
   "metadata": {
    "slideshow": {
     "slide_type": "fragment"
    }
   },
   "source": [
    "- Запросите ввод с клавиатуры — необходимо ввести генотип организма.\n",
    "- Проверьте, какой фенотип у этого организма (доминантный/рецессивный)."
   ]
  },
  {
   "cell_type": "code",
   "execution_count": null,
   "id": "17e256a9",
   "metadata": {
    "slideshow": {
     "slide_type": "fragment"
    }
   },
   "outputs": [],
   "source": [
    "gen_t = input()\n",
    "\n",
    "if gen_t == gen_t.lower():\n",
    "    print(\"Рецессивный\")\n",
    "else:\n",
    "    print(\"Доминантный\")"
   ]
  },
  {
   "cell_type": "markdown",
   "id": "0843b78e",
   "metadata": {
    "slideshow": {
     "slide_type": "subslide"
    }
   },
   "source": [
    "## Упражнение 6"
   ]
  },
  {
   "cell_type": "markdown",
   "id": "51194398",
   "metadata": {
    "slideshow": {
     "slide_type": "fragment"
    }
   },
   "source": [
    "- Запросите ввод с клавиатуры — необходимо ввести генотипы двух организмов.\n",
    "- Посчитайте генотипы и фенотипы потомков первого поколения (Решётка Пеннета).\n",
    "- Выведите полученную информацию."
   ]
  },
  {
   "cell_type": "code",
   "execution_count": null,
   "id": "65729f4a",
   "metadata": {
    "slideshow": {
     "slide_type": "fragment"
    }
   },
   "outputs": [],
   "source": [
    "mother = \"Aa\"\n",
    "father = \"Aa\"\n",
    "\n",
    "gen_00 = mother[0] + father[0]\n",
    "gen_01 = mother[0] + father[1]\n",
    "gen_10 = mother[1] + father[0]\n",
    "gen_11 = mother[1] + father[1]\n",
    "\n",
    "# Забегая вперед: как можно удобно пользоваться if-ом без нагромождений\n",
    "# Это тернарный оператор\n",
    "fen_00 = \"рецессивный\" if gen_00.islower() else \"доминантный\"\n",
    "fen_01 = \"рецессивный\" if gen_01.islower() else \"доминантный\"\n",
    "fen_10 = \"рецессивный\" if gen_10.islower() else \"доминантный\"\n",
    "fen_11 = \"рецессивный\" if gen_11.islower() else \"доминантный\"\n",
    "\n",
    "print(f\"{mother[0]: ^20}{mother[1]: ^20}\")\n",
    "print(\"---------------------------------------\")\n",
    "print(f\"{father[0]} | {gen_00} ({fen_00}) | {gen_01} ({fen_01})\")\n",
    "print(f\"{father[1]} | {gen_10} ({fen_10}) | {gen_11} ({fen_11})\")"
   ]
  },
  {
   "cell_type": "markdown",
   "id": "4873c2a5",
   "metadata": {
    "slideshow": {
     "slide_type": "subslide"
    }
   },
   "source": [
    "## Упражнение 7"
   ]
  },
  {
   "cell_type": "markdown",
   "id": "d33b6f29",
   "metadata": {
    "slideshow": {
     "slide_type": "fragment"
    }
   },
   "source": [
    "- Запросите ввод с клавиатуры — необходимо ввести какой-то кусок последовательности ДНК.\n",
    "- Транскрибируйте эту последовательность в РНК и выведите результат.\n",
    "- По картинке ниже: вам дана кодирующая цепь ДНК, надо получить транскрипт."
   ]
  },
  {
   "cell_type": "markdown",
   "id": "5c7365eb",
   "metadata": {
    "slideshow": {
     "slide_type": "skip"
    }
   },
   "source": [
    "![Пояснительная бригада:](https://cdn.kastatic.org/ka-perseus-images/534d6b2edba81dc1803eb97ba4de457c48de28af.png)"
   ]
  },
  {
   "cell_type": "code",
   "execution_count": null,
   "id": "cddec74a",
   "metadata": {
    "slideshow": {
     "slide_type": "fragment"
    }
   },
   "outputs": [],
   "source": [
    "coding_dna = input(\"Кодирующая цепь: \")\n",
    "print(\"Транскрипт: \", coding_dna.replace(\"T\", \"U\"))"
   ]
  },
  {
   "cell_type": "code",
   "execution_count": null,
   "id": "fe9a64c2",
   "metadata": {},
   "outputs": [],
   "source": [
    "# Если же вам дана некодирующая цепь (5' -> 3')\n",
    "noncoding_dna = input(\"Некодирующая цепь: \")\n",
    "print(\"Транскрипт:\", noncoding_dna\n",
    "      .replace(\"A\", \"U\")\n",
    "      .replace(\"T\", \"A\")\n",
    "      .replace(\"C\", \"X\")  # как думаете, зачем так?\n",
    "      .replace(\"G\", \"C\")\n",
    "      .replace(\"X\", \"G\")[::-1])"
   ]
  },
  {
   "cell_type": "markdown",
   "id": "3b70ecf2",
   "metadata": {
    "slideshow": {
     "slide_type": "subslide"
    }
   },
   "source": [
    "## Упражнение 8"
   ]
  },
  {
   "cell_type": "markdown",
   "id": "d68ad77b",
   "metadata": {
    "slideshow": {
     "slide_type": "fragment"
    }
   },
   "source": [
    "- Запросите ввод с клавиатуры — последовательность ДНК и какую-то пару нуклеотидов.\n",
    "- Посчитайте и выведите количество **непересекающихся** вхождений этой пары в последовательность."
   ]
  },
  {
   "cell_type": "code",
   "execution_count": null,
   "id": "0128b5c1",
   "metadata": {
    "slideshow": {
     "slide_type": "fragment"
    }
   },
   "outputs": [],
   "source": [
    "dna = input()\n",
    "pair = input()\n",
    "print(f\"There are {dna.count(pair)} non-overlapping {pair} in {dna}\")"
   ]
  },
  {
   "cell_type": "markdown",
   "id": "94ec6249",
   "metadata": {
    "slideshow": {
     "slide_type": "subslide"
    }
   },
   "source": [
    "## Упражнение 9"
   ]
  },
  {
   "cell_type": "markdown",
   "id": "b129b665",
   "metadata": {
    "slideshow": {
     "slide_type": "fragment"
    }
   },
   "source": [
    "- Необходимо завести новую переменную с последовательностью без пробелов.\n",
    "- Вывести эту последовательность в нижнем и верхнем регистрах."
   ]
  },
  {
   "cell_type": "code",
   "execution_count": null,
   "id": "5d0cbf0c",
   "metadata": {
    "slideshow": {
     "slide_type": "fragment"
    }
   },
   "outputs": [],
   "source": [
    "sequence = \"gggtgcgacg attcattgtt ttcggacaag tggataggca accactaccg gtggattgtc\"\n",
    "sequence_joined = sequence.replace(\" \", \"\")\n",
    "print(f\"Upper case: {sequence_joined.upper()}\")\n",
    "print(f\"Lower case: {sequence_joined.lower()}\")"
   ]
  },
  {
   "cell_type": "markdown",
   "id": "3b40cd90",
   "metadata": {
    "slideshow": {
     "slide_type": "subslide"
    }
   },
   "source": [
    "## Упражнение 10"
   ]
  },
  {
   "cell_type": "markdown",
   "id": "afb2e9d2",
   "metadata": {
    "slideshow": {
     "slide_type": "fragment"
    }
   },
   "source": [
    "- Запросите ввод с клавиатуры — необходимо ввести какой-то кусок последовательности ДНК.\n",
    "- Посчитайте GC-состав последовательности (суммарный процент G и C в ней).\n",
    "- Выведите его вместе с информацией о том, является ли эта последовательность GC-насыщенной (будем считать, что да, если GC-состав >= 50%)"
   ]
  },
  {
   "cell_type": "code",
   "execution_count": null,
   "id": "f312d627",
   "metadata": {
    "slideshow": {
     "slide_type": "fragment"
    }
   },
   "outputs": [],
   "source": [
    "dna = input()\n",
    "gc_content = (dna.count(\"G\") + dna.count(\"C\")) / len(dna)\n",
    "\n",
    "if gc_content >= 0.5:\n",
    "    print(f\"{gc_content=}: sequence is GC-rich\")\n",
    "else:\n",
    "    print(f\"{gc_content=}: sequence is not GC-rich\")"
   ]
  }
 ],
 "metadata": {
  "celltoolbar": "Slideshow",
  "kernelspec": {
   "display_name": "Python 3 (ipykernel)",
   "language": "python",
   "name": "python3"
  },
  "language_info": {
   "codemirror_mode": {
    "name": "ipython",
    "version": 3
   },
   "file_extension": ".py",
   "mimetype": "text/x-python",
   "name": "python",
   "nbconvert_exporter": "python",
   "pygments_lexer": "ipython3",
   "version": "3.10.10"
  }
 },
 "nbformat": 4,
 "nbformat_minor": 5
}
