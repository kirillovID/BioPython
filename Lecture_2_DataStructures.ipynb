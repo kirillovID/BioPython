{
 "cells": [
  {
   "cell_type": "markdown",
   "id": "a31e8c12-3ff8-404b-ba5c-69246d806a62",
   "metadata": {
    "slideshow": {
     "slide_type": "slide"
    },
    "tags": []
   },
   "source": [
    "<center>\n",
    "    <font>Анализ данных с использованием Python</font><br/>\n",
    "    <br/>\n",
    "    <br/>\n",
    "    <b style=\"font-size: 2em\">Структуры данных в Python</b><br/>\n",
    "    <br/>\n",
    "    <font>Иван Кириллов</font><br/>\n",
    "</center>"
   ]
  },
  {
   "cell_type": "markdown",
   "id": "2a5f6ed2",
   "metadata": {
    "slideshow": {
     "slide_type": "slide"
    }
   },
   "source": [
    "### Неточность float (по мотивам контестов)"
   ]
  },
  {
   "cell_type": "code",
   "execution_count": null,
   "id": "510a34b8",
   "metadata": {
    "slideshow": {
     "slide_type": "subslide"
    }
   },
   "outputs": [],
   "source": [
    "# От перестановки мест слагаемых...\n",
    "1.1 + 2.2 + 3.3 == 1.1 + 3.3 + 2.2"
   ]
  },
  {
   "cell_type": "code",
   "execution_count": null,
   "id": "93ecfe1a",
   "metadata": {
    "slideshow": {
     "slide_type": "subslide"
    }
   },
   "outputs": [],
   "source": [
    "float(\"1.000000000000001\"), \\\n",
    "float(\"1.0000000000000001\"), \\\n",
    "float(\"1.0000000000000001\") == \\\n",
    "float(\"1.00000000000000009\")"
   ]
  },
  {
   "cell_type": "markdown",
   "id": "8a9e07ea",
   "metadata": {
    "slideshow": {
     "slide_type": "slide"
    }
   },
   "source": [
    "### Определения → Объекты, ссылки, типы, значения, операции, методы"
   ]
  },
  {
   "cell_type": "code",
   "execution_count": null,
   "id": "6251358b",
   "metadata": {
    "hide_input": false,
    "pycharm": {
     "name": "#%%\n"
    },
    "slideshow": {
     "slide_type": "subslide"
    },
    "tags": []
   },
   "outputs": [],
   "source": [
    "# All data in a Python program is represented by objects or by relations between objects\n",
    "\n",
    "a = 1       # `имя` = `значение`. Имени `a` присваивается ссылка на объект со значением 1\n",
    "A = id(a)   # `id`. Ссылка, где лежит объект в памяти\n",
    "t = type(a) # `тип`. Какими свойствами обладает\n",
    "a, A, t"
   ]
  },
  {
   "cell_type": "code",
   "execution_count": null,
   "id": "847279ae",
   "metadata": {
    "jupyter": {
     "outputs_hidden": true
    },
    "pycharm": {
     "name": "#%%\n"
    },
    "slideshow": {
     "slide_type": "fragment"
    }
   },
   "outputs": [],
   "source": [
    "b = 1\n",
    "c = 2\n",
    "a = b + c   # Операция над объектами"
   ]
  },
  {
   "cell_type": "code",
   "execution_count": null,
   "id": "9d5ab3b4",
   "metadata": {
    "slideshow": {
     "slide_type": "subslide"
    }
   },
   "outputs": [],
   "source": [
    "# Методы -- те же функции, но на конкретном объекте\n",
    "s = \"l o l\"\n",
    "s.split()  # хоть и нет аргумента, но split знает, какую строку делить"
   ]
  },
  {
   "cell_type": "markdown",
   "id": "2cc65c5f",
   "metadata": {
    "slideshow": {
     "slide_type": "slide"
    }
   },
   "source": [
    "### Оптимизация малых значений int"
   ]
  },
  {
   "cell_type": "code",
   "execution_count": null,
   "id": "8558ddd7",
   "metadata": {
    "slideshow": {
     "slide_type": "subslide"
    }
   },
   "outputs": [],
   "source": [
    "# Немножко оптимизации: малые значения инта\n",
    "a = 1\n",
    "b = 1\n",
    "print(id(a) == id(b), a is b)\n",
    "\n",
    "a = 256\n",
    "b = 256\n",
    "print(id(a) == id(b), a is b)\n",
    "\n",
    "a = 257\n",
    "b = 257\n",
    "print(id(a) == id(b), a is b)"
   ]
  },
  {
   "cell_type": "markdown",
   "id": "efac2c1a",
   "metadata": {
    "slideshow": {
     "slide_type": "slide"
    }
   },
   "source": [
    "### Определения → Мутабельность/иммутабельность объектов"
   ]
  },
  {
   "cell_type": "code",
   "execution_count": null,
   "id": "75faa48f",
   "metadata": {
    "cell_style": "split",
    "hide_input": false,
    "jupyter": {
     "outputs_hidden": true
    },
    "pycharm": {
     "name": "#%%\n"
    },
    "slideshow": {
     "slide_type": "subslide"
    }
   },
   "outputs": [],
   "source": [
    "# Иммутабельные - не меняют значение по ссылке\n",
    "# Примеры: int, float, str, tuple, frozenset\n",
    "a = 1\n",
    "b = a\n",
    "a += 2\n",
    "a, b"
   ]
  },
  {
   "cell_type": "code",
   "execution_count": null,
   "id": "78649937",
   "metadata": {
    "slideshow": {
     "slide_type": "subslide"
    }
   },
   "outputs": [],
   "source": [
    "# Строки в Питоне изменять нельзя — они иммутабельны\n",
    "language = \"Python\"\n",
    "language[0] = \"C\""
   ]
  },
  {
   "cell_type": "code",
   "execution_count": null,
   "id": "82f1e7ba",
   "metadata": {
    "slideshow": {
     "slide_type": "subslide"
    }
   },
   "outputs": [],
   "source": [
    "# Создается новая строка, а не меняется прошлая\n",
    "word = \"Привет\"\n",
    "old_word = word\n",
    "print(id(word), word)\n",
    "print(\"----------------------\")\n",
    "\n",
    "word += \", чатик!\"\n",
    "print(id(old_word), old_word)\n",
    "print(id(word), word)"
   ]
  },
  {
   "cell_type": "code",
   "execution_count": null,
   "id": "869ee5f5",
   "metadata": {
    "cell_style": "split",
    "jupyter": {
     "outputs_hidden": true
    },
    "pycharm": {
     "name": "#%%\n"
    },
    "slideshow": {
     "slide_type": "subslide"
    }
   },
   "outputs": [],
   "source": [
    "# Мутабельные - меняют значение по ссылке\n",
    "# Примеры: list, set, dict\n",
    "a = [1]\n",
    "b = a\n",
    "a += [2]\n",
    "a, b"
   ]
  },
  {
   "cell_type": "markdown",
   "id": "545ab888",
   "metadata": {
    "pycharm": {
     "name": "#%% md\n"
    },
    "slideshow": {
     "slide_type": "slide"
    }
   },
   "source": [
    "### Список: list"
   ]
  },
  {
   "cell_type": "code",
   "execution_count": null,
   "id": "e86dd194",
   "metadata": {
    "pycharm": {
     "name": "#%%\n"
    },
    "slideshow": {
     "slide_type": "subslide"
    }
   },
   "outputs": [],
   "source": [
    "# Все очень похоже на str\n",
    "math_names = ['sin', 'cos', 'rot', 'div']\n",
    "type(math_names)"
   ]
  },
  {
   "cell_type": "code",
   "execution_count": null,
   "id": "4189141f",
   "metadata": {
    "slideshow": {
     "slide_type": "fragment"
    }
   },
   "outputs": [],
   "source": [
    "len(math_names)"
   ]
  },
  {
   "cell_type": "code",
   "execution_count": null,
   "id": "90815735",
   "metadata": {
    "pycharm": {
     "name": "#%%\n"
    },
    "slideshow": {
     "slide_type": "fragment"
    }
   },
   "outputs": [],
   "source": [
    "'cos' in math_names, 'sos' in math_names"
   ]
  },
  {
   "cell_type": "code",
   "execution_count": null,
   "id": "68cc3ed7",
   "metadata": {
    "pycharm": {
     "name": "#%%\n"
    },
    "slideshow": {
     "slide_type": "subslide"
    }
   },
   "outputs": [],
   "source": [
    "# Индексация, слайсы -- все это уже видели, здесь тоже работает\n",
    "math_names[0], math_names[1], math_names[-1]"
   ]
  },
  {
   "cell_type": "code",
   "execution_count": null,
   "id": "a191ba4f",
   "metadata": {
    "pycharm": {
     "name": "#%%\n"
    },
    "slideshow": {
     "slide_type": "fragment"
    }
   },
   "outputs": [],
   "source": [
    "math_names[1:3]"
   ]
  },
  {
   "cell_type": "code",
   "execution_count": null,
   "id": "3c9862a7",
   "metadata": {
    "pycharm": {
     "name": "#%%\n"
    },
    "slideshow": {
     "slide_type": "fragment"
    }
   },
   "outputs": [],
   "source": [
    "math_names[::-1]"
   ]
  },
  {
   "cell_type": "code",
   "execution_count": null,
   "id": "744fee2a",
   "metadata": {
    "slideshow": {
     "slide_type": "fragment"
    }
   },
   "outputs": [],
   "source": [
    "empty = []  # пустой список\n",
    "empty, len(empty)"
   ]
  },
  {
   "cell_type": "code",
   "execution_count": null,
   "id": "60f0fac5",
   "metadata": {
    "pycharm": {
     "name": "#%%\n"
    },
    "slideshow": {
     "slide_type": "subslide"
    }
   },
   "outputs": [],
   "source": [
    "# Q: Что получается?\n",
    "print([1, 2] + [3, 4])\n",
    "print([2, 3] * 4)\n",
    "print([2, 3] + 4)"
   ]
  },
  {
   "cell_type": "code",
   "execution_count": null,
   "id": "77698b39",
   "metadata": {
    "pycharm": {
     "name": "#%%\n"
    },
    "slideshow": {
     "slide_type": "subslide"
    }
   },
   "outputs": [],
   "source": [
    "# Добавление в конец\n",
    "letters = ['alpha', 'beta', 'gamma']\n",
    "letters.append('delta')\n",
    "\n",
    "letters"
   ]
  },
  {
   "cell_type": "code",
   "execution_count": null,
   "id": "fffe2afd",
   "metadata": {
    "pycharm": {
     "name": "#%%\n"
    },
    "slideshow": {
     "slide_type": "fragment"
    }
   },
   "outputs": [],
   "source": [
    "# Еще один способ\n",
    "books = ['Философский камень', 'Тайная комната']\n",
    "books += ['Узник Азкабана']\n",
    "books"
   ]
  },
  {
   "cell_type": "code",
   "execution_count": null,
   "id": "811c4ded",
   "metadata": {
    "pycharm": {
     "name": "#%%\n"
    },
    "scrolled": true,
    "slideshow": {
     "slide_type": "subslide"
    }
   },
   "outputs": [],
   "source": [
    "letters.pop(), letters  # метод pop удаляет последний элемент из списка и возвращает его"
   ]
  },
  {
   "cell_type": "code",
   "execution_count": null,
   "id": "2d8226e2",
   "metadata": {
    "pycharm": {
     "name": "#%%\n"
    },
    "slideshow": {
     "slide_type": "fragment"
    }
   },
   "outputs": [],
   "source": [
    "letters.pop(1), letters  # удаляет элемент номер 1"
   ]
  },
  {
   "cell_type": "markdown",
   "id": "a3709646",
   "metadata": {
    "pycharm": {
     "name": "#%% md\n"
    },
    "slideshow": {
     "slide_type": "fragment"
    }
   },
   "source": [
    "<div class=\"alert alert-info\">\n",
    "    <b>Рекомендация:</b> использовать list как изменяемый набор значений похожих типов \n",
    "</div>"
   ]
  },
  {
   "cell_type": "markdown",
   "id": "8b3615ce",
   "metadata": {
    "pycharm": {
     "name": "#%% md\n"
    },
    "slideshow": {
     "slide_type": "subslide"
    }
   },
   "source": [
    "<div class=\"alert alert-danger\">\n",
    "    <b>Антипаттерн:</b> смешивание разных типов в списках\n",
    "</div>"
   ]
  },
  {
   "cell_type": "code",
   "execution_count": null,
   "id": "c0df36c2",
   "metadata": {
    "pycharm": {
     "name": "#%%\n"
    },
    "slideshow": {
     "slide_type": "fragment"
    }
   },
   "outputs": [],
   "source": [
    "yyyyy = [555, \"World\", [1,2,3], True, 10.5]"
   ]
  },
  {
   "cell_type": "code",
   "execution_count": null,
   "id": "1aed9483",
   "metadata": {
    "slideshow": {
     "slide_type": "subslide"
    }
   },
   "outputs": [],
   "source": [
    "# Заглянем внутрь\n",
    "def printy(label, value):\n",
    "    print(f\"{label} == {value} -> {id(value)}\")\n",
    "    if not isinstance(value, int):\n",
    "        for i, el in enumerate(value):\n",
    "            print(f\"{label}[{i}] == {el} -> {id(el)}\")\n",
    "\n",
    "a, b, my_list = 2, 4, [2, 4]\n",
    "\n",
    "printy(\"a\", a)\n",
    "printy(\"b\", b)\n",
    "printy(\"my_list\", my_list)"
   ]
  },
  {
   "cell_type": "code",
   "execution_count": null,
   "id": "db944115",
   "metadata": {
    "slideshow": {
     "slide_type": "subslide"
    }
   },
   "outputs": [],
   "source": [
    "# Т.е. list внутри хранит ссылки\n",
    "my_list[1] = 3\n",
    "\n",
    "printy(\"a\", a)\n",
    "printy(\"b\", b)\n",
    "printy(\"my_list\", my_list)"
   ]
  },
  {
   "cell_type": "code",
   "execution_count": null,
   "id": "c1c542f4",
   "metadata": {
    "slideshow": {
     "slide_type": "subslide"
    }
   },
   "outputs": [],
   "source": [
    "# Создали новый объект и переприсвоили\n",
    "a = [1]\n",
    "b = a\n",
    "b = b + [2]\n",
    "\n",
    "a, b, id(a) == id(b)"
   ]
  },
  {
   "cell_type": "code",
   "execution_count": null,
   "id": "20372939",
   "metadata": {
    "slideshow": {
     "slide_type": "subslide"
    }
   },
   "outputs": [],
   "source": [
    "# Операции inplace -- новый объект не создается\n",
    "a = [1]\n",
    "b = a\n",
    "b += [2]\n",
    "\n",
    "a, b, id(a) == id(b)"
   ]
  },
  {
   "cell_type": "code",
   "execution_count": null,
   "id": "2bb5f2f7",
   "metadata": {
    "slideshow": {
     "slide_type": "subslide"
    }
   },
   "outputs": [],
   "source": [
    "# .append(object) работает inplace\n",
    "a = [1]\n",
    "b = a\n",
    "b.append(2)\n",
    "\n",
    "a, b, id(a) == id(b)"
   ]
  },
  {
   "cell_type": "code",
   "execution_count": null,
   "id": "8abd7457",
   "metadata": {
    "slideshow": {
     "slide_type": "subslide"
    }
   },
   "outputs": [],
   "source": [
    "# Как и .extend(iterable)\n",
    "a = [1]\n",
    "b = a\n",
    "b.extend([2])\n",
    "\n",
    "a, b, id(a) == id(b)"
   ]
  },
  {
   "cell_type": "code",
   "execution_count": null,
   "id": "81e67428",
   "metadata": {
    "slideshow": {
     "slide_type": "subslide"
    }
   },
   "outputs": [],
   "source": [
    "# Слайсинг создает новый объект\n",
    "a = [1, 2]\n",
    "b = a\n",
    "b = b[:1]\n",
    "a[0] = 5\n",
    "\n",
    "a, b, id(a) == id(b)"
   ]
  },
  {
   "cell_type": "code",
   "execution_count": null,
   "id": "8334144a",
   "metadata": {
    "slideshow": {
     "slide_type": "subslide"
    }
   },
   "outputs": [],
   "source": [
    "# Можно менять внутренности через срезы\n",
    "squares = [1, 3, 9, 15, 25]  # хотим действительно квадраты\n",
    "squares[1:4:2] = [4, 16]  # стандартная нотация срезов\n",
    "squares"
   ]
  },
  {
   "cell_type": "code",
   "execution_count": null,
   "id": "c4183cff",
   "metadata": {
    "slideshow": {
     "slide_type": "fragment"
    }
   },
   "outputs": [],
   "source": [
    "# Если с шагом, то проверяет на совпадение длин\n",
    "squares[1:4:2] = [4, 16, 36]\n",
    "squares"
   ]
  },
  {
   "cell_type": "code",
   "execution_count": null,
   "id": "b0454595",
   "metadata": {
    "slideshow": {
     "slide_type": "subslide"
    }
   },
   "outputs": [],
   "source": [
    "# Можно даже чистить списки через слайсы\n",
    "letters = ['a', 'b', 'c', 'd', 'e', 'f']\n",
    "print(letters)\n",
    "\n",
    "letters[2:5] = ['K', 'L', 'M', 'N']  # здесь длины уже не проверяет\n",
    "print(letters)\n",
    "\n",
    "letters[:2] = []\n",
    "print(letters)\n",
    "\n",
    "letters[:] = []\n",
    "print(letters)"
   ]
  },
  {
   "cell_type": "code",
   "execution_count": null,
   "id": "38a2b2be",
   "metadata": {
    "slideshow": {
     "slide_type": "subslide"
    }
   },
   "outputs": [],
   "source": [
    "# Вложенные списки\n",
    "a = ['a', 'b', 'c']\n",
    "n = [1, 2, 3]\n",
    "x = [a, n]\n",
    "print(x, x[0], x[0][1], sep=\"\\n\")"
   ]
  },
  {
   "cell_type": "markdown",
   "id": "7b3f09c4",
   "metadata": {
    "pycharm": {
     "name": "#%% md\n"
    },
    "slideshow": {
     "slide_type": "slide"
    }
   },
   "source": [
    "### Кортеж: tuple"
   ]
  },
  {
   "cell_type": "code",
   "execution_count": null,
   "id": "1d409957",
   "metadata": {
    "slideshow": {
     "slide_type": "subslide"
    }
   },
   "outputs": [],
   "source": [
    "# Вы могли ранее заметить, что в выводе некоторых ячеек -- (a, b, c)\n",
    "False, 1, \"Мир\"  # т.е. все это время это были кортежи!"
   ]
  },
  {
   "cell_type": "code",
   "execution_count": null,
   "id": "23417360",
   "metadata": {
    "slideshow": {
     "slide_type": "fragment"
    }
   },
   "outputs": [],
   "source": [
    "tup = False, 1, \"Мир\"\n",
    "tup, type(tup)"
   ]
  },
  {
   "cell_type": "code",
   "execution_count": null,
   "id": "b3d556c7",
   "metadata": {
    "pycharm": {
     "name": "#%%\n"
    },
    "slideshow": {
     "slide_type": "subslide"
    }
   },
   "outputs": [],
   "source": [
    "(1, 2, 3)"
   ]
  },
  {
   "cell_type": "code",
   "execution_count": null,
   "id": "ea440670",
   "metadata": {
    "pycharm": {
     "name": "#%%\n"
    },
    "slideshow": {
     "slide_type": "fragment"
    }
   },
   "outputs": [],
   "source": [
    "(True, 100)"
   ]
  },
  {
   "cell_type": "code",
   "execution_count": null,
   "id": "0720ae40",
   "metadata": {
    "pycharm": {
     "name": "#%%\n"
    },
    "slideshow": {
     "slide_type": "fragment"
    }
   },
   "outputs": [],
   "source": [
    "empty = ()  # пустой кортеж\n",
    "empty, len(empty)"
   ]
  },
  {
   "cell_type": "code",
   "execution_count": null,
   "id": "3aae3e9a",
   "metadata": {
    "pycharm": {
     "name": "#%%\n"
    },
    "slideshow": {
     "slide_type": "fragment"
    }
   },
   "outputs": [],
   "source": [
    "# Не будем повторятся -- операции похожи на списочные\n",
    "21 in (complex, 21, False)"
   ]
  },
  {
   "cell_type": "code",
   "execution_count": null,
   "id": "ff6fbed5",
   "metadata": {
    "slideshow": {
     "slide_type": "subslide"
    }
   },
   "outputs": [],
   "source": [
    "# Однако методов сильно меньше\n",
    "tup = (1, 2, 3, 2, 1)\n",
    "tup.index(1), tup.count(1)"
   ]
  },
  {
   "cell_type": "code",
   "execution_count": null,
   "id": "8f0d9adc",
   "metadata": {
    "pycharm": {
     "name": "#%%\n"
    },
    "slideshow": {
     "slide_type": "subslide"
    }
   },
   "outputs": [],
   "source": [
    "# Q: Что получится?\n",
    "print((1, 2) + (3, 4))\n",
    "print((True, False) * 5)\n",
    "print((20, 30) + 40)"
   ]
  },
  {
   "cell_type": "code",
   "execution_count": null,
   "id": "5b22078e",
   "metadata": {
    "slideshow": {
     "slide_type": "subslide"
    }
   },
   "outputs": [],
   "source": [
    "tup = 12345, 54321, 'hello!'\n",
    "print(tup, tup[0], tup[1:], sep=\"\\n\")"
   ]
  },
  {
   "cell_type": "code",
   "execution_count": null,
   "id": "cd7a916b",
   "metadata": {
    "slideshow": {
     "slide_type": "subslide"
    }
   },
   "outputs": [],
   "source": [
    "# Вложенные кортежи тоже можно\n",
    "nested_tup = tup, (1, 2, 3, 4, 5)\n",
    "nested_tup"
   ]
  },
  {
   "cell_type": "code",
   "execution_count": null,
   "id": "4b525ea4",
   "metadata": {
    "slideshow": {
     "slide_type": "subslide"
    }
   },
   "outputs": [],
   "source": [
    "# Вспоминаем, что кортежи -- иммутабельны\n",
    "tup[0] = 88888"
   ]
  },
  {
   "cell_type": "code",
   "execution_count": null,
   "id": "ac794ad0",
   "metadata": {
    "slideshow": {
     "slide_type": "subslide"
    }
   },
   "outputs": [],
   "source": [
    "# Но никто не запрещает посадить внутрь мутабельный объект\n",
    "my_tuple = ([1, 2, 3], [3, 2, 1])\n",
    "printy(\"my_tuple\", my_tuple)\n",
    "print(\"-----------------------------------------------\")\n",
    "my_tuple[0][1] = 0\n",
    "printy(\"my_tuple\", my_tuple)\n",
    "\n",
    "# Как так?\n",
    "# Кортеж, как и список, хранит в себе ссылки, которые менять запрещается\n",
    "# Но пройти по ссылке и поменять что-то внутри нее -- вполне можно"
   ]
  },
  {
   "cell_type": "markdown",
   "id": "b1894436",
   "metadata": {
    "slideshow": {
     "slide_type": "slide"
    }
   },
   "source": [
    "### Основные моменты первой части лекции"
   ]
  },
  {
   "cell_type": "code",
   "execution_count": null,
   "id": "fddecd2f",
   "metadata": {
    "slideshow": {
     "slide_type": "subslide"
    }
   },
   "outputs": [],
   "source": [
    "# language -- переменная, в которую записан объект \"Python\"\n",
    "# т.е. просто другое имя объекта, чтобы можно было к нему обращаться\n",
    "\n",
    "language = \"Python\""
   ]
  },
  {
   "cell_type": "code",
   "execution_count": null,
   "id": "041b13e4",
   "metadata": {
    "slideshow": {
     "slide_type": "subslide"
    }
   },
   "outputs": [],
   "source": [
    "# При использовании id(language) мы получаем идентификатор/ссылку именно объекта внутри\n",
    "# У каждого объекта уникальный идентификатор внутри одной программы\n",
    "# (за исключением некоторых оптимизаций -- как с int до 256, например)\n",
    "\n",
    "id(language), id(\"CPython\")"
   ]
  },
  {
   "cell_type": "markdown",
   "id": "48f26052",
   "metadata": {
    "slideshow": {
     "slide_type": "slide"
    }
   },
   "source": [
    "#### Иммутабельность/мутабельность"
   ]
  },
  {
   "cell_type": "code",
   "execution_count": null,
   "id": "e3b55cde",
   "metadata": {
    "slideshow": {
     "slide_type": "subslide"
    }
   },
   "outputs": [],
   "source": [
    "# Иммутабельные объекты -- объекты с фиксированным значением\n",
    "# Их нельзя поменять -- если попытаться, то:\n",
    "#  - либо создастся новый объект\n",
    "#  - либо произойдет ошибка\n",
    "# Это: int, float, complex, str, tuple\n",
    "\n",
    "language = \"Python\"\n",
    "new_language = language  # два имени одного и того же объекта\n",
    "print((language, id(language)), (new_language, id(new_language)))\n",
    "\n",
    "new_language += \"3\"  # хотим поменять объект inplace, но создается новый\n",
    "print((language, id(language)), (new_language, id(new_language)))\n",
    "\n",
    "language[0] = \"C\"  # ошибка -- нельзя поменять строку внутри присвоением"
   ]
  },
  {
   "cell_type": "code",
   "execution_count": null,
   "id": "3fdb5daa",
   "metadata": {
    "slideshow": {
     "slide_type": "subslide"
    }
   },
   "outputs": [],
   "source": [
    "# Мутабельные объекты -- объекты, которые можно менять\n",
    "# При изменении этого объекта, его id остается прежним\n",
    "# Это: list, set, dict\n",
    "\n",
    "my_list = [1, 2, 3]\n",
    "my_new_list = my_list  # опять же -- два имени одного объекта\n",
    "print((my_list, id(my_list)), (my_new_list, id(my_new_list)))\n",
    "\n",
    "my_list += [4, 5]\n",
    "print((my_list, id(my_list)), (my_new_list, id(my_new_list)))\n",
    "\n",
    "my_list[2] = 33\n",
    "print(my_list)"
   ]
  },
  {
   "cell_type": "markdown",
   "id": "44ba9cbd",
   "metadata": {
    "slideshow": {
     "slide_type": "slide"
    }
   },
   "source": [
    "#### List"
   ]
  },
  {
   "cell_type": "code",
   "execution_count": null,
   "id": "9a120487",
   "metadata": {
    "slideshow": {
     "slide_type": "subslide"
    }
   },
   "outputs": [],
   "source": [
    "# Что -- упорядоченная структура, хранящая в себе ссылки на объекты\n",
    "# Зачем -- хранить однородные данные (массив чисел, строк...)\n",
    "# Можем обращаться по индексам, т.к. задан порядок\n",
    "# Мутабельный -- можем менять внутренности объекта без создания нового\n",
    "\n",
    "my_list = [\"python\", \"is\", \"love\", \"python\", \"is\", \"life\"]\n",
    "print(my_list[2])\n",
    "\n",
    "my_list[0], my_list[3] = \"shrek\", \"shrek\"\n",
    "print(my_list)"
   ]
  },
  {
   "cell_type": "markdown",
   "id": "af1754cb",
   "metadata": {
    "slideshow": {
     "slide_type": "slide"
    }
   },
   "source": [
    "#### Tuple"
   ]
  },
  {
   "cell_type": "code",
   "execution_count": null,
   "id": "a7bfd585",
   "metadata": {
    "slideshow": {
     "slide_type": "subslide"
    }
   },
   "outputs": [],
   "source": [
    "# Что -- упорядоченная структура, хранящая в себе ссылки на объекты\n",
    "# Зачем -- хранить неоднородные данные\n",
    "# Можем обращаться по индексам, т.к. задан порядок\n",
    "# Иммутабельный -- не можем менять ссылки, лежащие внутри\n",
    "# Но можем менять мутабельные объекты по этим ссылкам\n",
    "\n",
    "my_tuple = (\"python\", \"is\", \"love\", \"python\", \"is\", \"life\")\n",
    "print(my_tuple[2])\n",
    "\n",
    "my_tuple[0], my_tuple[3] = \"shrek\", \"shrek\"\n",
    "print(my_tuple)"
   ]
  },
  {
   "cell_type": "markdown",
   "id": "4a6b75e7",
   "metadata": {
    "pycharm": {
     "name": "#%% md\n"
    },
    "slideshow": {
     "slide_type": "slide"
    }
   },
   "source": [
    "### packing, unpacking — упаковка, распаковка"
   ]
  },
  {
   "cell_type": "code",
   "execution_count": null,
   "id": "fed894f8",
   "metadata": {
    "pycharm": {
     "name": "#%%\n"
    },
    "slideshow": {
     "slide_type": "subslide"
    }
   },
   "outputs": [],
   "source": [
    "int, 21, False"
   ]
  },
  {
   "cell_type": "code",
   "execution_count": null,
   "id": "3b860ffb",
   "metadata": {
    "pycharm": {
     "name": "#%%\n"
    },
    "slideshow": {
     "slide_type": "fragment"
    }
   },
   "outputs": [],
   "source": [
    "type(_)  # в переменную _ в интерактивном режиме\n",
    "         # записывается результат последнего выражения"
   ]
  },
  {
   "cell_type": "code",
   "execution_count": null,
   "id": "c34764e6",
   "metadata": {
    "pycharm": {
     "name": "#%%\n"
    },
    "slideshow": {
     "slide_type": "subslide"
    }
   },
   "outputs": [],
   "source": [
    "numbers = (4, 8, 15, 16, 23, 42)\n",
    "a, b, c, d, e, f = numbers"
   ]
  },
  {
   "cell_type": "code",
   "execution_count": null,
   "id": "8a494a8d",
   "metadata": {
    "pycharm": {
     "name": "#%%\n"
    },
    "slideshow": {
     "slide_type": "fragment"
    }
   },
   "outputs": [],
   "source": [
    "a"
   ]
  },
  {
   "cell_type": "code",
   "execution_count": null,
   "id": "3cd935e4",
   "metadata": {
    "pycharm": {
     "name": "#%%\n"
    },
    "slideshow": {
     "slide_type": "fragment"
    }
   },
   "outputs": [],
   "source": [
    "e"
   ]
  },
  {
   "cell_type": "code",
   "execution_count": null,
   "id": "fbc5038a",
   "metadata": {
    "slideshow": {
     "slide_type": "fragment"
    }
   },
   "outputs": [],
   "source": [
    "# Легчайший swap в вашей жизни\n",
    "a, b = \"первое\", \"второе\"\n",
    "print(a, b)\n",
    "a, b = b, a\n",
    "print(a, b)"
   ]
  },
  {
   "cell_type": "code",
   "execution_count": null,
   "id": "71104a98",
   "metadata": {
    "pycharm": {
     "name": "#%%\n"
    },
    "slideshow": {
     "slide_type": "subslide"
    }
   },
   "outputs": [],
   "source": [
    "colors = ('red', 'green', 'blue')\n",
    "red_variable, *other_colors = colors"
   ]
  },
  {
   "cell_type": "code",
   "execution_count": null,
   "id": "1121ed3e",
   "metadata": {
    "pycharm": {
     "name": "#%%\n"
    },
    "slideshow": {
     "slide_type": "fragment"
    }
   },
   "outputs": [],
   "source": [
    "red_variable"
   ]
  },
  {
   "cell_type": "code",
   "execution_count": null,
   "id": "9041e6a2",
   "metadata": {
    "pycharm": {
     "name": "#%%\n"
    },
    "slideshow": {
     "slide_type": "fragment"
    }
   },
   "outputs": [],
   "source": [
    "other_colors"
   ]
  },
  {
   "cell_type": "code",
   "execution_count": null,
   "id": "a4fb545d",
   "metadata": {
    "pycharm": {
     "name": "#%%\n"
    },
    "slideshow": {
     "slide_type": "subslide"
    }
   },
   "outputs": [],
   "source": [
    "letters = 'abcdefgh'\n",
    "*other, prev, last = letters"
   ]
  },
  {
   "cell_type": "code",
   "execution_count": null,
   "id": "08acd6cc",
   "metadata": {
    "slideshow": {
     "slide_type": "fragment"
    }
   },
   "outputs": [],
   "source": [
    "other"
   ]
  },
  {
   "cell_type": "code",
   "execution_count": null,
   "id": "3e79036b",
   "metadata": {
    "slideshow": {
     "slide_type": "fragment"
    }
   },
   "outputs": [],
   "source": [
    "prev"
   ]
  },
  {
   "cell_type": "code",
   "execution_count": null,
   "id": "afb5e075",
   "metadata": {
    "slideshow": {
     "slide_type": "fragment"
    }
   },
   "outputs": [],
   "source": [
    "last"
   ]
  },
  {
   "cell_type": "code",
   "execution_count": null,
   "id": "f57064ce",
   "metadata": {
    "slideshow": {
     "slide_type": "subslide"
    }
   },
   "outputs": [],
   "source": [
    "# Q: Что будет?\n",
    "nums = [1, 2, 3, 4]\n",
    "a, *b, c = nums\n",
    "a, b, c"
   ]
  },
  {
   "cell_type": "code",
   "execution_count": null,
   "id": "03eef82f",
   "metadata": {
    "slideshow": {
     "slide_type": "fragment"
    }
   },
   "outputs": [],
   "source": [
    "# Как это работает:\n",
    "# a, b, c = nums[0], nums[0:-1], nums[-1]\n",
    "a, b, c"
   ]
  },
  {
   "cell_type": "markdown",
   "id": "2c08e2b4",
   "metadata": {
    "pycharm": {
     "name": "#%% md\n"
    },
    "slideshow": {
     "slide_type": "subslide"
    }
   },
   "source": [
    "#### Примеры packing, unpacking"
   ]
  },
  {
   "cell_type": "code",
   "execution_count": null,
   "id": "a781557b",
   "metadata": {
    "pycharm": {
     "name": "#%%\n"
    },
    "slideshow": {
     "slide_type": "fragment"
    }
   },
   "outputs": [],
   "source": [
    "# упаковать несколько объектов в один кортеж,\n",
    "# передать его дальше\n",
    "# и распаковать потом\n",
    "\n",
    "type_of_object = float\n",
    "text = '-273.15'\n",
    "\n",
    "pack = (type_of_object, text)\n",
    "# ..."
   ]
  },
  {
   "cell_type": "code",
   "execution_count": null,
   "id": "3a29a28d",
   "metadata": {
    "pycharm": {
     "name": "#%%\n"
    },
    "slideshow": {
     "slide_type": "subslide"
    }
   },
   "outputs": [],
   "source": [
    "call, value = pack\n",
    "call(value)"
   ]
  },
  {
   "cell_type": "markdown",
   "id": "3a05261b",
   "metadata": {
    "slideshow": {
     "slide_type": "slide"
    }
   },
   "source": [
    "### Множество: set"
   ]
  },
  {
   "cell_type": "code",
   "execution_count": null,
   "id": "896effe7",
   "metadata": {
    "slideshow": {
     "slide_type": "subslide"
    }
   },
   "outputs": [],
   "source": [
    "basket = {'apple', 'orange', 'apple', 'pear', 'orange', 'banana'}\n",
    "print(basket)  # убрали повторы -- действительно множество!"
   ]
  },
  {
   "cell_type": "code",
   "execution_count": null,
   "id": "00b58f47",
   "metadata": {
    "slideshow": {
     "slide_type": "fragment"
    }
   },
   "outputs": [],
   "source": [
    "# Быстрая проверка вхождения (под капотом -- хэш-функции)\n",
    "'orange' in basket, 'crabgrass' in basket"
   ]
  },
  {
   "cell_type": "code",
   "execution_count": null,
   "id": "b2d7132d",
   "metadata": {
    "slideshow": {
     "slide_type": "fragment"
    }
   },
   "outputs": [],
   "source": [
    "# А вот по индексам уже нельзя\n",
    "basket[0]"
   ]
  },
  {
   "cell_type": "code",
   "execution_count": null,
   "id": "00b205fc",
   "metadata": {
    "slideshow": {
     "slide_type": "fragment"
    }
   },
   "outputs": [],
   "source": [
    "# Поэтому set принимает только hashable элементы\n",
    "{[1, 2], {3, 4}}"
   ]
  },
  {
   "cell_type": "code",
   "execution_count": null,
   "id": "e4c98c2e",
   "metadata": {
    "slideshow": {
     "slide_type": "subslide"
    }
   },
   "outputs": [],
   "source": [
    "# Hashable -- почти что иммутабельный, но кортежи с мутабельными внутри нельзя\n",
    "print({1, 2, (3, 4), \"five\"})\n",
    "print({1, 2, (3, [4, 5]), \"six\"})"
   ]
  },
  {
   "cell_type": "code",
   "execution_count": null,
   "id": "6a24c65a",
   "metadata": {
    "slideshow": {
     "slide_type": "subslide"
    }
   },
   "outputs": [],
   "source": [
    "empty = set()  # пустое множество -- скобочки уже заняты\n",
    "empty, len(empty)"
   ]
  },
  {
   "cell_type": "code",
   "execution_count": null,
   "id": "e540ff58",
   "metadata": {
    "slideshow": {
     "slide_type": "subslide"
    }
   },
   "outputs": [],
   "source": [
    "# Явное приведение -- получаем уникальные буквы\n",
    "a = set('abracadabra')\n",
    "b = set('alacazam')\n",
    "a, b"
   ]
  },
  {
   "cell_type": "code",
   "execution_count": null,
   "id": "79ff0d36",
   "metadata": {
    "scrolled": false,
    "slideshow": {
     "slide_type": "fragment"
    }
   },
   "outputs": [],
   "source": [
    "# Операции над множествами -- как в математике\n",
    "print(a - b)  # есть в а, но нет в b\n",
    "print(a | b)  # есть хотя бы в одном из множеств a, b\n",
    "print(a & b)  # есть и там и там одновременно\n",
    "print(a ^ b)  # симметрическая разность == a | b - a & b"
   ]
  },
  {
   "cell_type": "code",
   "execution_count": null,
   "id": "bee5587b",
   "metadata": {
    "slideshow": {
     "slide_type": "subslide"
    }
   },
   "outputs": [],
   "source": [
    "# Можно и методами\n",
    "print(a.difference(b))\n",
    "print(a.union(b))\n",
    "print(a.intersection(b))\n",
    "print(a.symmetric_difference(b))"
   ]
  },
  {
   "cell_type": "code",
   "execution_count": null,
   "id": "60884ea5",
   "metadata": {
    "slideshow": {
     "slide_type": "subslide"
    }
   },
   "outputs": [],
   "source": [
    "# Можно даже узнать, является ли одно подмножеством другого!\n",
    "subset = {1, 3, 5}\n",
    "superset = {1, 2, 3, 4, 5, 6}\n",
    "subset <= superset, superset >= subset"
   ]
  },
  {
   "cell_type": "code",
   "execution_count": null,
   "id": "1862dd67",
   "metadata": {
    "slideshow": {
     "slide_type": "subslide"
    }
   },
   "outputs": [],
   "source": [
    "# Методов полно\n",
    "subset.add(7)\n",
    "print(subset)\n",
    "\n",
    "subset.remove(1)  # .discard(1) -- удалит только при наличии\n",
    "print(subset)\n",
    "\n",
    "print(subset.pop(), subset)\n",
    "\n",
    "subset.clear()\n",
    "print(subset)"
   ]
  },
  {
   "cell_type": "markdown",
   "id": "41e4cbc6",
   "metadata": {
    "pycharm": {
     "name": "#%% md\n"
    },
    "slideshow": {
     "slide_type": "slide"
    }
   },
   "source": [
    "### Словарь: dict"
   ]
  },
  {
   "cell_type": "code",
   "execution_count": null,
   "id": "591eb666",
   "metadata": {
    "slideshow": {
     "slide_type": "subslide"
    }
   },
   "outputs": [],
   "source": [
    "# Задается парами ключ-значение\n",
    "tel = {'jack': 4098, 'sape': 4139}\n",
    "tel['guido'] = 4127\n",
    "tel"
   ]
  },
  {
   "cell_type": "code",
   "execution_count": null,
   "id": "240e2f29",
   "metadata": {
    "slideshow": {
     "slide_type": "subslide"
    }
   },
   "outputs": [],
   "source": [
    "# Проверяет ключи\n",
    "tel[\"random\"]"
   ]
  },
  {
   "cell_type": "code",
   "execution_count": null,
   "id": "8c62f3ca",
   "metadata": {
    "slideshow": {
     "slide_type": "subslide"
    }
   },
   "outputs": [],
   "source": [
    "# Можно буквально превратить список пар в словарь\n",
    "dict([('sape', 4139), ('guido', 4127), ('jack', 4098)])"
   ]
  },
  {
   "cell_type": "code",
   "execution_count": null,
   "id": "eeb9d93e",
   "metadata": {
    "slideshow": {
     "slide_type": "subslide"
    }
   },
   "outputs": [],
   "source": [
    "# Ключи должны быть hashable, как для множества\n",
    "{\n",
    "    \"hashable\": \"very cool!\",\n",
    "    (\"unhashable\", {\"because\", \"of\", \"me\"}): \"not so cool\"\n",
    "}"
   ]
  },
  {
   "cell_type": "code",
   "execution_count": null,
   "id": "2829e2b3",
   "metadata": {
    "slideshow": {
     "slide_type": "subslide"
    }
   },
   "outputs": [],
   "source": [
    "{\n",
    "    \"hashable\": \"very cool!\",\n",
    "    (\"hashable\", (\"because\", \"of\", \"me\")): \"also cool now\"\n",
    "}"
   ]
  },
  {
   "cell_type": "code",
   "execution_count": null,
   "id": "01f7a169",
   "metadata": {
    "slideshow": {
     "slide_type": "subslide"
    }
   },
   "outputs": [],
   "source": [
    "# Индексируется ключами\n",
    "tel['jack']"
   ]
  },
  {
   "cell_type": "code",
   "execution_count": null,
   "id": "3f438425",
   "metadata": {
    "slideshow": {
     "slide_type": "subslide"
    }
   },
   "outputs": [],
   "source": [
    "# del удаляет соответствующую пару\n",
    "del tel['sape']\n",
    "tel['irv'] = 4127\n",
    "tel"
   ]
  },
  {
   "cell_type": "code",
   "execution_count": null,
   "id": "57e5d785",
   "metadata": {
    "slideshow": {
     "slide_type": "subslide"
    }
   },
   "outputs": [],
   "source": [
    "# Быстрая проверка вхождения -- как set\n",
    "# Проверяет именно ключи, а не значения!\n",
    "'guido' in tel, 'jack' not in tel, 4127 in tel"
   ]
  },
  {
   "cell_type": "code",
   "execution_count": null,
   "id": "81245531",
   "metadata": {
    "slideshow": {
     "slide_type": "subslide"
    }
   },
   "outputs": [],
   "source": [
    "# Как достать все значения\n",
    "tel.values()"
   ]
  },
  {
   "cell_type": "code",
   "execution_count": null,
   "id": "04deb776",
   "metadata": {
    "slideshow": {
     "slide_type": "fragment"
    }
   },
   "outputs": [],
   "source": [
    "# Все ключи\n",
    "tel.keys()"
   ]
  },
  {
   "cell_type": "code",
   "execution_count": null,
   "id": "a8a97794",
   "metadata": {
    "slideshow": {
     "slide_type": "fragment"
    }
   },
   "outputs": [],
   "source": [
    "# Все пары\n",
    "tel.items()"
   ]
  },
  {
   "cell_type": "code",
   "execution_count": null,
   "id": "89eb6c8f",
   "metadata": {
    "slideshow": {
     "slide_type": "subslide"
    }
   },
   "outputs": [],
   "source": [
    "empty = {}  # пустой словарь -- а вот и наши скобочки, украденные у set\n",
    "empty, len(empty)"
   ]
  },
  {
   "cell_type": "code",
   "execution_count": null,
   "id": "d2e6cec0",
   "metadata": {
    "slideshow": {
     "slide_type": "subslide"
    }
   },
   "outputs": [],
   "source": [
    "# Еще один полезный метод -- получить значение, если оно есть\n",
    "# А если нет -- вернуть значение по умолчанию\n",
    "birthdays = {'Alice': '1998-01-02', 'Bob': '1999-12-31'}\n",
    "birthdays.get(\"Bob\"), birthdays.get(\"Arthur\", \"don't know...\")"
   ]
  },
  {
   "cell_type": "code",
   "execution_count": null,
   "id": "c2ae4319",
   "metadata": {
    "slideshow": {
     "slide_type": "subslide"
    }
   },
   "outputs": [],
   "source": [
    "# Обновление словаря с помощью другого\n",
    "birthdays.update({'Sam': '1972-01-01', 'Arthur': '2000-09-09'})\n",
    "birthdays"
   ]
  },
  {
   "cell_type": "code",
   "execution_count": null,
   "id": "bbe01884",
   "metadata": {
    "slideshow": {
     "slide_type": "fragment"
    }
   },
   "outputs": [],
   "source": [
    "birthdays.get(\"Arthur\", \"don't know...\")"
   ]
  },
  {
   "cell_type": "code",
   "execution_count": null,
   "id": "99939bcc",
   "metadata": {
    "scrolled": true,
    "slideshow": {
     "slide_type": "subslide"
    }
   },
   "outputs": [],
   "source": [
    "# А можно и так -- при конфликте ключей, берется значение второго словаря\n",
    "birthdays | {'Alice': '2000-10-10'}"
   ]
  },
  {
   "cell_type": "markdown",
   "id": "ec081bd8-f395-4a1d-a732-7d4e1985f2ae",
   "metadata": {
    "pycharm": {
     "name": "#%% md\n"
    },
    "slideshow": {
     "slide_type": "slide"
    }
   },
   "source": [
    "### Конвертация типов – явная"
   ]
  },
  {
   "cell_type": "code",
   "execution_count": null,
   "id": "a5189016",
   "metadata": {
    "pycharm": {
     "name": "#%%\n"
    },
    "slideshow": {
     "slide_type": "subslide"
    }
   },
   "outputs": [],
   "source": [
    "list(\"abca\")"
   ]
  },
  {
   "cell_type": "code",
   "execution_count": null,
   "id": "c012524b",
   "metadata": {
    "pycharm": {
     "name": "#%%\n"
    },
    "slideshow": {
     "slide_type": "fragment"
    }
   },
   "outputs": [],
   "source": [
    "str([1, 2, 3])"
   ]
  },
  {
   "cell_type": "code",
   "execution_count": null,
   "id": "1860085e",
   "metadata": {
    "pycharm": {
     "name": "#%%\n"
    },
    "slideshow": {
     "slide_type": "fragment"
    }
   },
   "outputs": [],
   "source": [
    "tuple([\"Obi\", \"Wan\", \"Kenobi\"])"
   ]
  },
  {
   "cell_type": "code",
   "execution_count": null,
   "id": "b50fece5",
   "metadata": {
    "slideshow": {
     "slide_type": "fragment"
    }
   },
   "outputs": [],
   "source": [
    "list({'Alice': 123, 'Bob': 567})"
   ]
  },
  {
   "cell_type": "code",
   "execution_count": null,
   "id": "4adb7821",
   "metadata": {
    "slideshow": {
     "slide_type": "subslide"
    }
   },
   "outputs": [],
   "source": [
    "# Q: Что получится?"
   ]
  },
  {
   "cell_type": "code",
   "execution_count": null,
   "id": "e95cace6",
   "metadata": {
    "pycharm": {
     "name": "#%%\n"
    },
    "slideshow": {
     "slide_type": "fragment"
    }
   },
   "outputs": [],
   "source": [
    "bool([]), bool([10, 20, 30]), bool([True]), bool([False])"
   ]
  },
  {
   "cell_type": "code",
   "execution_count": null,
   "id": "c98b3f14",
   "metadata": {
    "pycharm": {
     "name": "#%%\n"
    },
    "slideshow": {
     "slide_type": "fragment"
    }
   },
   "outputs": [],
   "source": [
    "bool(()), bool((False)), bool((False,))"
   ]
  },
  {
   "cell_type": "code",
   "execution_count": null,
   "id": "bc4f9e10",
   "metadata": {
    "slideshow": {
     "slide_type": "fragment"
    }
   },
   "outputs": [],
   "source": [
    "bool(set()), bool({})"
   ]
  },
  {
   "cell_type": "markdown",
   "id": "57e517f6",
   "metadata": {
    "slideshow": {
     "slide_type": "slide"
    }
   },
   "source": [
    "### Бонус: взрыв мозга или \"магия\" Python "
   ]
  },
  {
   "cell_type": "code",
   "execution_count": null,
   "id": "7683bc82",
   "metadata": {
    "jupyter": {
     "outputs_hidden": true
    },
    "slideshow": {
     "slide_type": "subslide"
    }
   },
   "outputs": [],
   "source": [
    "list_of_immutables = [0, 1, 2, 3, 4]\n",
    "print(list_of_immutables)\n",
    "\n",
    "list_of_mutables = [[1], [1], [1]]\n",
    "print(list_of_mutables)\n",
    "\n",
    "ref_list_of_mutables = [[1]] * 3\n",
    "print(ref_list_of_mutables)"
   ]
  },
  {
   "cell_type": "code",
   "execution_count": null,
   "id": "bd35c7df",
   "metadata": {
    "code_folding": [],
    "jupyter": {
     "outputs_hidden": true
    },
    "slideshow": {
     "slide_type": "subslide"
    }
   },
   "outputs": [],
   "source": [
    "print(list_of_immutables)\n",
    "\n",
    "for elem in list_of_immutables:\n",
    "    elem = elem + 1\n",
    "    print(elem, end=' ')\n",
    "    \n",
    "print(list_of_immutables)"
   ]
  },
  {
   "cell_type": "code",
   "execution_count": null,
   "id": "aa37acd0",
   "metadata": {
    "jupyter": {
     "outputs_hidden": true
    },
    "slideshow": {
     "slide_type": "subslide"
    }
   },
   "outputs": [],
   "source": [
    "for idx, elem in enumerate(list_of_mutables):\n",
    "    elem.append(idx)\n",
    "    \n",
    "print(list_of_mutables)"
   ]
  },
  {
   "cell_type": "code",
   "execution_count": null,
   "id": "acb6dba8",
   "metadata": {
    "jupyter": {
     "outputs_hidden": true
    },
    "slideshow": {
     "slide_type": "subslide"
    }
   },
   "outputs": [],
   "source": [
    "for idx, elem in enumerate(ref_list_of_mutables):\n",
    "    elem.append(idx)\n",
    "    \n",
    "print(ref_list_of_mutables)"
   ]
  },
  {
   "cell_type": "code",
   "execution_count": null,
   "id": "bbf916e6",
   "metadata": {},
   "outputs": [],
   "source": []
  }
 ],
 "metadata": {
  "celltoolbar": "Slideshow",
  "kernelspec": {
   "display_name": "Python [conda env:experim] *",
   "language": "python",
   "name": "conda-env-experim-py"
  },
  "language_info": {
   "codemirror_mode": {
    "name": "ipython",
    "version": 3
   },
   "file_extension": ".py",
   "mimetype": "text/x-python",
   "name": "python",
   "nbconvert_exporter": "python",
   "pygments_lexer": "ipython3",
   "version": "3.10.10"
  }
 },
 "nbformat": 4,
 "nbformat_minor": 5
}
