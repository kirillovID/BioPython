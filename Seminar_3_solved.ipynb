{
 "cells": [
  {
   "cell_type": "markdown",
   "id": "635c54e9",
   "metadata": {
    "slideshow": {
     "slide_type": "slide"
    }
   },
   "source": [
    "# Задачи со второго лекционного контеста"
   ]
  },
  {
   "cell_type": "markdown",
   "id": "293558ec",
   "metadata": {
    "slideshow": {
     "slide_type": "subslide"
    }
   },
   "source": [
    "## Недосчитались"
   ]
  },
  {
   "cell_type": "code",
   "execution_count": null,
   "id": "826c0a95",
   "metadata": {
    "slideshow": {
     "slide_type": "fragment"
    }
   },
   "outputs": [],
   "source": [
    "str_number = input()\n",
    "digits = []\n",
    "for str_digit in str_number:\n",
    "    digits.append(int(str_digit))\n",
    "print(sum(range(10)) - sum(digits))"
   ]
  },
  {
   "cell_type": "markdown",
   "id": "17b531fb",
   "metadata": {
    "slideshow": {
     "slide_type": "subslide"
    }
   },
   "source": [
    "## Настроение"
   ]
  },
  {
   "cell_type": "code",
   "execution_count": null,
   "id": "e6d4e517",
   "metadata": {
    "slideshow": {
     "slide_type": "fragment"
    }
   },
   "outputs": [],
   "source": [
    "import sys\n",
    "\n",
    "\n",
    "text = sys.stdin.read()\n",
    "words_list = text.lower().split()\n",
    "good_mood = False\n",
    "bad_mood = False\n",
    "for word in words_list:\n",
    "    if word.startswith(\"хор\"):\n",
    "        good_mood = True\n",
    "    if word.endswith(\"плох\"):\n",
    "        bad_mood = True\n",
    "\n",
    "if good_mood:\n",
    "    if bad_mood:\n",
    "        print(\"Настроение: смешанное\")\n",
    "    else:\n",
    "        print(\"Настроение: хорошее\")\n",
    "elif bad_mood:\n",
    "    print(\"Настроение: плохое\")\n",
    "else:\n",
    "    print(\"Настроение: неизвестное\")"
   ]
  },
  {
   "cell_type": "markdown",
   "id": "435ea66e",
   "metadata": {
    "slideshow": {
     "slide_type": "subslide"
    }
   },
   "source": [
    "## Пересчитались"
   ]
  },
  {
   "cell_type": "code",
   "execution_count": null,
   "id": "e781396d",
   "metadata": {
    "slideshow": {
     "slide_type": "fragment"
    }
   },
   "outputs": [],
   "source": [
    "import sys\n",
    "\n",
    "\n",
    "words = sys.stdin.read().split()\n",
    "counts = {}\n",
    "answer = []\n",
    "for word in words:\n",
    "    if word not in counts:\n",
    "        counts[word] = 0\n",
    "    answer.append(str(counts[word]))\n",
    "    counts[word] += 1\n",
    "print(*answer, sep=\" \")"
   ]
  },
  {
   "cell_type": "markdown",
   "id": "6835b3d7",
   "metadata": {
    "slideshow": {
     "slide_type": "subslide"
    }
   },
   "source": [
    "## Пересечение"
   ]
  },
  {
   "cell_type": "code",
   "execution_count": null,
   "id": "babd4dcb",
   "metadata": {
    "slideshow": {
     "slide_type": "fragment"
    }
   },
   "outputs": [],
   "source": [
    "n = int(input())\n",
    "common_set = set()\n",
    "for i in range(n):\n",
    "    if i == 0:\n",
    "        common_set = set(input().split())\n",
    "    else:\n",
    "        common_set &= set(input().split())\n",
    "print(\" \".join(sorted(common_set, key=int, reverse=True)))"
   ]
  },
  {
   "cell_type": "markdown",
   "id": "f564871b",
   "metadata": {
    "slideshow": {
     "slide_type": "subslide"
    }
   },
   "source": [
    "## Синонимы"
   ]
  },
  {
   "cell_type": "code",
   "execution_count": null,
   "id": "059a2cee",
   "metadata": {
    "slideshow": {
     "slide_type": "fragment"
    }
   },
   "outputs": [],
   "source": [
    "n = int(input())\n",
    "syn_dict = {}\n",
    "for i in range(n):\n",
    "    first, second = input().split()\n",
    "    syn_dict[first] = second\n",
    "    syn_dict[second] = first\n",
    "word = input()\n",
    "print(syn_dict[word])"
   ]
  },
  {
   "cell_type": "markdown",
   "id": "144c36e9",
   "metadata": {
    "slideshow": {
     "slide_type": "slide"
    }
   },
   "source": [
    "# Задачи на семинар"
   ]
  },
  {
   "cell_type": "markdown",
   "id": "d9ca4318",
   "metadata": {
    "slideshow": {
     "slide_type": "slide"
    }
   },
   "source": [
    "## Порешаем задачки из [учебника Яндекса](https://academy.yandex.ru/handbook/python)"
   ]
  },
  {
   "cell_type": "markdown",
   "id": "bc27dccd",
   "metadata": {
    "slideshow": {
     "slide_type": "slide"
    }
   },
   "source": [
    "### Встроенные функции (map, enumerate,  zip)"
   ]
  },
  {
   "cell_type": "markdown",
   "id": "8971f002",
   "metadata": {
    "slideshow": {
     "slide_type": "subslide"
    }
   },
   "source": [
    "#### [Цифровая сумма](https://new.contest.yandex.ru/41235/problem?id=149944/2022_10_12/0VQtMYMBi6)"
   ]
  },
  {
   "cell_type": "code",
   "execution_count": null,
   "id": "a4499e32",
   "metadata": {
    "slideshow": {
     "slide_type": "fragment"
    }
   },
   "outputs": [],
   "source": [
    "print(sum(map(int, input())))"
   ]
  },
  {
   "cell_type": "markdown",
   "id": "32f6319d",
   "metadata": {
    "slideshow": {
     "slide_type": "subslide"
    }
   },
   "source": [
    "#### [Сильная цифра](https://new.contest.yandex.ru/41235/problem?id=149944/2022_10_12/YpfNbNTv1l)"
   ]
  },
  {
   "cell_type": "code",
   "execution_count": null,
   "id": "e6b392ff",
   "metadata": {
    "slideshow": {
     "slide_type": "fragment"
    }
   },
   "outputs": [],
   "source": [
    "print(max(map(int, input())))"
   ]
  },
  {
   "cell_type": "markdown",
   "id": "f913aa54",
   "metadata": {
    "slideshow": {
     "slide_type": "subslide"
    }
   },
   "source": [
    "#### [А и Б сидели на трубе](https://new.contest.yandex.ru/41237/problem?id=149944/2022_10_13/3EdEEqxi5v)"
   ]
  },
  {
   "cell_type": "code",
   "execution_count": null,
   "id": "2623b41d",
   "metadata": {
    "slideshow": {
     "slide_type": "fragment"
    }
   },
   "outputs": [],
   "source": [
    "print(sum(map(int, input().split())))"
   ]
  },
  {
   "cell_type": "markdown",
   "id": "63256ba8",
   "metadata": {
    "slideshow": {
     "slide_type": "subslide"
    }
   },
   "source": [
    "#### [Автоматизация списка](https://new.contest.yandex.ru/41240/problem?id=149944/2022_10_21/eAJxCpstcg)"
   ]
  },
  {
   "cell_type": "code",
   "execution_count": null,
   "id": "89bc145f",
   "metadata": {
    "slideshow": {
     "slide_type": "fragment"
    }
   },
   "outputs": [],
   "source": [
    "words = input().split()\n",
    "for i, word in enumerate(words, start=1):\n",
    "    print(f\"{i}. {word}\")"
   ]
  },
  {
   "cell_type": "markdown",
   "id": "e205d6af",
   "metadata": {
    "slideshow": {
     "slide_type": "subslide"
    }
   },
   "source": [
    "#### [Сборы на прогулку](https://new.contest.yandex.ru/41240/problem?id=149944/2022_10_21/AdZahFy72o)"
   ]
  },
  {
   "cell_type": "code",
   "execution_count": null,
   "id": "3365701f",
   "metadata": {
    "slideshow": {
     "slide_type": "fragment"
    }
   },
   "outputs": [],
   "source": [
    "first_row = input().split(\", \")\n",
    "second_row = input().split(\", \")\n",
    "for pair in zip(first_row, second_row):\n",
    "    print(\" - \".join(pair))"
   ]
  },
  {
   "cell_type": "markdown",
   "id": "481c7800",
   "metadata": {
    "slideshow": {
     "slide_type": "slide"
    }
   },
   "source": [
    "### Списочные выражения"
   ]
  },
  {
   "cell_type": "markdown",
   "id": "b8de87df",
   "metadata": {
    "slideshow": {
     "slide_type": "subslide"
    }
   },
   "source": [
    "#### [Длины всех слов](https://new.contest.yandex.ru/41239/problem?id=149944/2022_10_21/Wmu5XoFD8L)"
   ]
  },
  {
   "cell_type": "code",
   "execution_count": null,
   "id": "0cf0d2da",
   "metadata": {
    "slideshow": {
     "slide_type": "fragment"
    }
   },
   "outputs": [],
   "source": [
    "[len(word) for word in sentence.split()]"
   ]
  },
  {
   "cell_type": "markdown",
   "id": "216b9b6c",
   "metadata": {
    "slideshow": {
     "slide_type": "subslide"
    }
   },
   "source": [
    "#### [Множество всех полных квадратов](https://new.contest.yandex.ru/41239/problem?id=149944/2022_10_21/f6sGyRWpGx)"
   ]
  },
  {
   "cell_type": "code",
   "execution_count": null,
   "id": "5991f7df",
   "metadata": {
    "slideshow": {
     "slide_type": "fragment"
    }
   },
   "outputs": [],
   "source": [
    "{number for number in numbers if int(number ** 0.5) == number ** 0.5}"
   ]
  },
  {
   "cell_type": "markdown",
   "id": "f0179166",
   "metadata": {
    "slideshow": {
     "slide_type": "subslide"
    }
   },
   "source": [
    "#### [Чётная чистота](https://new.contest.yandex.ru/41235/problem?id=149944/2022_10_12/ug4ri9TyUv)"
   ]
  },
  {
   "cell_type": "code",
   "execution_count": null,
   "id": "105894f4",
   "metadata": {
    "slideshow": {
     "slide_type": "fragment"
    }
   },
   "outputs": [],
   "source": [
    "print(\"\".join([digit for digit in input() if int(digit) % 2]))"
   ]
  },
  {
   "cell_type": "markdown",
   "id": "c137c076",
   "metadata": {
    "slideshow": {
     "slide_type": "subslide"
    }
   },
   "source": [
    "#### [Таблица умножения](https://new.contest.yandex.ru/41239/problem?id=149944/2022_10_21/dQCMDrRj3q)"
   ]
  },
  {
   "cell_type": "code",
   "execution_count": null,
   "id": "dbf349e9",
   "metadata": {
    "slideshow": {
     "slide_type": "fragment"
    }
   },
   "outputs": [],
   "source": [
    "[[i * j for j in range(1, n + 1)] for i in range(1, n + 1)]"
   ]
  },
  {
   "cell_type": "markdown",
   "id": "9ddcc6da",
   "metadata": {
    "slideshow": {
     "slide_type": "subslide"
    }
   },
   "source": [
    "#### [Буквенная статистика](https://new.contest.yandex.ru/41239/problem?id=149944/2022_10_21/dmN3UypHop)"
   ]
  },
  {
   "cell_type": "code",
   "execution_count": null,
   "id": "2ca905cf",
   "metadata": {
    "slideshow": {
     "slide_type": "fragment"
    }
   },
   "outputs": [],
   "source": [
    "{char: text.lower().count(char) for char in set(text.lower()) if char.isalpha()}"
   ]
  },
  {
   "cell_type": "markdown",
   "id": "757acc2b",
   "metadata": {
    "slideshow": {
     "slide_type": "subslide"
    }
   },
   "source": [
    "#### [RLE наоборот](https://new.contest.yandex.ru/41239/problem?id=149944/2022_10_21/QSSwcIbJMK)"
   ]
  },
  {
   "cell_type": "code",
   "execution_count": null,
   "id": "fcc0e0ff",
   "metadata": {
    "slideshow": {
     "slide_type": "fragment"
    }
   },
   "outputs": [],
   "source": [
    "\"\".join([sym * count for sym, count in rle])"
   ]
  },
  {
   "cell_type": "markdown",
   "id": "65731fb0",
   "metadata": {
    "slideshow": {
     "slide_type": "slide"
    }
   },
   "source": [
    "### Вложенные циклы"
   ]
  },
  {
   "cell_type": "markdown",
   "id": "5109a82b",
   "metadata": {
    "slideshow": {
     "slide_type": "subslide"
    }
   },
   "source": [
    "#### [Игровая сетка](https://new.contest.yandex.ru/41240/problem?id=149944/2022_10_21/Z6vPblZILm)"
   ]
  },
  {
   "cell_type": "code",
   "execution_count": null,
   "id": "da04c1f0",
   "metadata": {
    "slideshow": {
     "slide_type": "fragment"
    }
   },
   "outputs": [],
   "source": [
    "n = int(input())\n",
    "names = [input() for i in range(n)]\n",
    "for i, first in enumerate(names):\n",
    "    for second in names[i + 1:]:\n",
    "        print(f\"{first} - {second}\")"
   ]
  },
  {
   "cell_type": "markdown",
   "id": "ca4cfe99",
   "metadata": {
    "slideshow": {
     "slide_type": "subslide"
    }
   },
   "source": [
    "#### [Мы делили апельсин 2.0](https://new.contest.yandex.ru/41240/problem?id=149944/2022_10_21/2xRy4ePh32)"
   ]
  },
  {
   "cell_type": "code",
   "execution_count": null,
   "id": "35a9d737",
   "metadata": {
    "slideshow": {
     "slide_type": "fragment"
    }
   },
   "outputs": [],
   "source": [
    "n = int(input())\n",
    "print(\"А Б В\")\n",
    "for a in range(1, n - 1):\n",
    "    for b in range(1, n - a):\n",
    "        print(a, b, n - a - b)"
   ]
  },
  {
   "cell_type": "markdown",
   "id": "6fec064a",
   "metadata": {
    "slideshow": {
     "slide_type": "slide"
    }
   },
   "source": [
    "### While"
   ]
  },
  {
   "cell_type": "markdown",
   "id": "fee1a413",
   "metadata": {
    "slideshow": {
     "slide_type": "subslide"
    }
   },
   "source": [
    "#### [Зайка — 3](https://new.contest.yandex.ru/41235/problem?id=149944/2022_10_12/xpY9e3VkFd)"
   ]
  },
  {
   "cell_type": "code",
   "execution_count": null,
   "id": "6d03b75a",
   "metadata": {
    "slideshow": {
     "slide_type": "fragment"
    }
   },
   "outputs": [],
   "source": [
    "count = 0\n",
    "while (line := input()) != \"Приехали!\":\n",
    "    if \"зайка\" in line:\n",
    "        count += 1\n",
    "print(count)"
   ]
  },
  {
   "cell_type": "markdown",
   "id": "db64616c",
   "metadata": {
    "slideshow": {
     "slide_type": "subslide"
    }
   },
   "source": [
    "#### [НОД](https://new.contest.yandex.ru/41235/problem?id=149944/2022_10_12/sDCnitRCxN)"
   ]
  },
  {
   "cell_type": "code",
   "execution_count": null,
   "id": "efb0c066",
   "metadata": {
    "slideshow": {
     "slide_type": "fragment"
    }
   },
   "outputs": [],
   "source": [
    "a = int(input())\n",
    "b = int(input())\n",
    "a, b = min(a, b), max(a, b)\n",
    "while a:\n",
    "    a, b = b % a, a\n",
    "print(b)"
   ]
  },
  {
   "cell_type": "markdown",
   "id": "fed56673",
   "metadata": {
    "slideshow": {
     "slide_type": "subslide"
    }
   },
   "source": [
    "#### [Маршрут построен](https://new.contest.yandex.ru/41235/problem?id=149944/2022_10_12/p6oBudpVXw)"
   ]
  },
  {
   "cell_type": "code",
   "execution_count": null,
   "id": "b64c5f59",
   "metadata": {
    "slideshow": {
     "slide_type": "fragment"
    }
   },
   "outputs": [],
   "source": [
    "x, y = 0, 0\n",
    "while (direction := input()) != \"СТОП\":\n",
    "    steps = int(input())\n",
    "    if direction == \"СЕВЕР\":\n",
    "        y += steps\n",
    "    elif direction == \"ЮГ\":\n",
    "        y -= steps\n",
    "    elif direction == \"ВОСТОК\":\n",
    "        x += steps\n",
    "    else:\n",
    "        x -= steps\n",
    "print(y)\n",
    "print(x)"
   ]
  },
  {
   "cell_type": "markdown",
   "id": "e8749cf3",
   "metadata": {
    "slideshow": {
     "slide_type": "subslide"
    }
   },
   "source": [
    "#### [Очистка данных](https://new.contest.yandex.ru/41237/problem?id=149944/2022_10_13/OgIDCS3i0M)"
   ]
  },
  {
   "cell_type": "code",
   "execution_count": null,
   "id": "2070dbe2",
   "metadata": {
    "slideshow": {
     "slide_type": "fragment"
    }
   },
   "outputs": [],
   "source": [
    "while (line := input()):\n",
    "    if line.endswith(\"@@@\"):\n",
    "        continue\n",
    "    elif line.startswith(\"##\"):\n",
    "        print(line[2:])\n",
    "    else:\n",
    "        print(line)"
   ]
  },
  {
   "cell_type": "markdown",
   "id": "28841ecc",
   "metadata": {
    "slideshow": {
     "slide_type": "subslide"
    }
   },
   "source": [
    "#### [Без комментариев](https://new.contest.yandex.ru/41237/problem?id=149944/2022_10_13/xN8A0sVDQd)"
   ]
  },
  {
   "cell_type": "code",
   "execution_count": null,
   "id": "ca4614f6",
   "metadata": {
    "slideshow": {
     "slide_type": "fragment"
    }
   },
   "outputs": [],
   "source": [
    "while (codeline := input()):\n",
    "    stripped = codeline.split(\"#\", maxsplit=1)[0]\n",
    "    if stripped:\n",
    "        print(stripped)"
   ]
  }
 ],
 "metadata": {
  "celltoolbar": "Slideshow",
  "kernelspec": {
   "display_name": "Python 3 (ipykernel)",
   "language": "python",
   "name": "python3"
  },
  "language_info": {
   "codemirror_mode": {
    "name": "ipython",
    "version": 3
   },
   "file_extension": ".py",
   "mimetype": "text/x-python",
   "name": "python",
   "nbconvert_exporter": "python",
   "pygments_lexer": "ipython3",
   "version": "3.10.10"
  }
 },
 "nbformat": 4,
 "nbformat_minor": 5
}
