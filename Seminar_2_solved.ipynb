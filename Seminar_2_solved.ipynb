{
 "cells": [
  {
   "cell_type": "markdown",
   "id": "635c54e9",
   "metadata": {
    "slideshow": {
     "slide_type": "slide"
    }
   },
   "source": [
    "# Задачи с первого контеста"
   ]
  },
  {
   "cell_type": "markdown",
   "id": "293558ec",
   "metadata": {
    "slideshow": {
     "slide_type": "subslide"
    }
   },
   "source": [
    "## Кабинеты"
   ]
  },
  {
   "cell_type": "code",
   "execution_count": null,
   "id": "826c0a95",
   "metadata": {
    "slideshow": {
     "slide_type": "fragment"
    }
   },
   "outputs": [],
   "source": [
    "name = input()\n",
    "number = input()\n",
    "card = f\"\"\"Этаж №{number[0]}, крыло {number[1]}\n",
    "Кабинет: {number}. {name}.\"\"\"\n",
    "print(card)"
   ]
  },
  {
   "cell_type": "markdown",
   "id": "17b531fb",
   "metadata": {
    "slideshow": {
     "slide_type": "subslide"
    }
   },
   "source": [
    "## Восстание машин"
   ]
  },
  {
   "cell_type": "code",
   "execution_count": null,
   "id": "e6d4e517",
   "metadata": {
    "slideshow": {
     "slide_type": "fragment"
    }
   },
   "outputs": [],
   "source": [
    "first = int(input(), base=0b10)\n",
    "second = int(input(), base=0b10)\n",
    "print(first * second)"
   ]
  },
  {
   "cell_type": "markdown",
   "id": "435ea66e",
   "metadata": {
    "slideshow": {
     "slide_type": "subslide"
    }
   },
   "source": [
    "## Середина"
   ]
  },
  {
   "cell_type": "code",
   "execution_count": null,
   "id": "e781396d",
   "metadata": {
    "slideshow": {
     "slide_type": "fragment"
    }
   },
   "outputs": [],
   "source": [
    "a = int(input())\n",
    "b = int(input())\n",
    "c = int(input())\n",
    "print(min(max(a, b), max(b, c), max(a, c)))"
   ]
  },
  {
   "cell_type": "markdown",
   "id": "6835b3d7",
   "metadata": {
    "slideshow": {
     "slide_type": "subslide"
    }
   },
   "source": [
    "## Сплайсинг"
   ]
  },
  {
   "cell_type": "code",
   "execution_count": null,
   "id": "babd4dcb",
   "metadata": {
    "slideshow": {
     "slide_type": "fragment"
    }
   },
   "outputs": [],
   "source": [
    "dna = input()\n",
    "start = int(input())\n",
    "end = int(input())\n",
    "splice = dna[:max(start - 1, 0)] + dna[max(end, 0):]\n",
    "print(splice)"
   ]
  },
  {
   "cell_type": "markdown",
   "id": "f564871b",
   "metadata": {
    "slideshow": {
     "slide_type": "subslide"
    }
   },
   "source": [
    "## Unix-секундомер"
   ]
  },
  {
   "cell_type": "code",
   "execution_count": null,
   "id": "059a2cee",
   "metadata": {
    "slideshow": {
     "slide_type": "fragment"
    }
   },
   "outputs": [],
   "source": [
    "seconds = int(input()) + 3 * 60 * 60\n",
    "years, remainder = divmod(seconds, 60 * 60 * 24 * 365)\n",
    "days, remainder = divmod(remainder, 60 * 60 * 24)\n",
    "hours, remainder = divmod(remainder, 60 * 60)\n",
    "minutes, remainder = divmod(remainder, 60)\n",
    "today = f\"{1970 + years} {days:0>3}:{hours:0>2}:{minutes:0>2}:{remainder:0>2}\"\n",
    "print(f\"Сегодня: {today}\")"
   ]
  },
  {
   "cell_type": "markdown",
   "id": "4206213e",
   "metadata": {
    "slideshow": {
     "slide_type": "slide"
    }
   },
   "source": [
    "# Немного теории"
   ]
  },
  {
   "cell_type": "markdown",
   "id": "812e2562",
   "metadata": {
    "slideshow": {
     "slide_type": "slide"
    }
   },
   "source": [
    "## range"
   ]
  },
  {
   "cell_type": "code",
   "execution_count": null,
   "id": "1e0336cf",
   "metadata": {
    "slideshow": {
     "slide_type": "subslide"
    }
   },
   "outputs": [],
   "source": [
    "start = 2\n",
    "stop = 15\n",
    "step = 3\n",
    "\n",
    "print(range(start, stop, step))\n",
    "print(list(range(start, stop, step)))"
   ]
  },
  {
   "cell_type": "code",
   "execution_count": null,
   "id": "66a1b092",
   "metadata": {
    "slideshow": {
     "slide_type": "subslide"
    }
   },
   "outputs": [],
   "source": [
    "print(range(start, stop))\n",
    "print(list(range(start, stop)))"
   ]
  },
  {
   "cell_type": "code",
   "execution_count": null,
   "id": "8ac3634c",
   "metadata": {
    "slideshow": {
     "slide_type": "subslide"
    }
   },
   "outputs": [],
   "source": [
    "print(range(stop))\n",
    "print(list(range(stop)))"
   ]
  },
  {
   "cell_type": "code",
   "execution_count": null,
   "id": "775abc6f",
   "metadata": {
    "slideshow": {
     "slide_type": "subslide"
    }
   },
   "outputs": [],
   "source": [
    "sum(range(4))"
   ]
  },
  {
   "cell_type": "markdown",
   "id": "8de1e339",
   "metadata": {
    "slideshow": {
     "slide_type": "slide"
    }
   },
   "source": [
    "## Цикл for"
   ]
  },
  {
   "cell_type": "code",
   "execution_count": null,
   "id": "b8b47c9e",
   "metadata": {
    "slideshow": {
     "slide_type": "subslide"
    }
   },
   "outputs": [],
   "source": [
    "for i in range(5):\n",
    "    print(i)"
   ]
  },
  {
   "cell_type": "code",
   "execution_count": null,
   "id": "89eec944",
   "metadata": {},
   "outputs": [],
   "source": [
    "for i in range(4):\n",
    "    print(i)\n",
    "    i = 100"
   ]
  },
  {
   "cell_type": "code",
   "execution_count": null,
   "id": "203314b3",
   "metadata": {
    "scrolled": true,
    "slideshow": {
     "slide_type": "subslide"
    }
   },
   "outputs": [],
   "source": [
    "my_list = [\"A\", \"T\", \"C\", \"G\"]\n",
    "\n",
    "for elem in my_list:\n",
    "    print(elem)"
   ]
  },
  {
   "cell_type": "markdown",
   "id": "144c36e9",
   "metadata": {
    "slideshow": {
     "slide_type": "slide"
    }
   },
   "source": [
    "# Задачи на семинар"
   ]
  },
  {
   "cell_type": "markdown",
   "id": "e2d1adea",
   "metadata": {
    "slideshow": {
     "slide_type": "subslide"
    }
   },
   "source": [
    "## Упражнение 1"
   ]
  },
  {
   "cell_type": "markdown",
   "id": "e595839f",
   "metadata": {
    "slideshow": {
     "slide_type": "fragment"
    }
   },
   "source": [
    "Повторите введенную с клавиатуры строку столько раз, сколько в ней символов. "
   ]
  },
  {
   "cell_type": "code",
   "execution_count": null,
   "id": "aa49a0e3",
   "metadata": {},
   "outputs": [],
   "source": [
    "stroka = input()\n",
    "for s in stroka:\n",
    "    print(stroka)"
   ]
  },
  {
   "cell_type": "code",
   "execution_count": null,
   "id": "5844e360",
   "metadata": {},
   "outputs": [],
   "source": [
    "# Без циклов -- как в домашке\n",
    "print(f\"{stroka}\\n\" * len(stroka))"
   ]
  },
  {
   "cell_type": "markdown",
   "id": "c0fd0acb",
   "metadata": {
    "slideshow": {
     "slide_type": "subslide"
    }
   },
   "source": [
    "## Упражнение 2"
   ]
  },
  {
   "cell_type": "markdown",
   "id": "dfeee0c7",
   "metadata": {
    "slideshow": {
     "slide_type": "fragment"
    }
   },
   "source": [
    "На вход подается текст, состоящий из строк (символ-разделитель: \\n). Пронумеруйте строки, отдав под номер 3 символа. В качестве заполнителя используйте пробелы. Подсказка: str.split()"
   ]
  },
  {
   "cell_type": "code",
   "execution_count": null,
   "id": "bef057f9",
   "metadata": {
    "slideshow": {
     "slide_type": "fragment"
    }
   },
   "outputs": [],
   "source": [
    "lyrics = \"\"\"Море обнимет, закопает в пески\n",
    "Закинут рыболовы лески\n",
    "Поймают в сети наши души\n",
    "\n",
    "Прости меня, моя любовь\n",
    "Поздно, о чём-то думать слишком поздно\n",
    "Тебе, я чую, нужен воздух\n",
    "Лежим в такой огромной луже\n",
    "Прости меня, моя любовь\"\"\"\n",
    "\n",
    "lines = lyrics.split(\"\\n\")\n",
    "i = 1\n",
    "for line in lines:\n",
    "    print(f\"{i: >3} {line}\")\n",
    "    i += 1"
   ]
  },
  {
   "cell_type": "markdown",
   "id": "c73a1710",
   "metadata": {
    "slideshow": {
     "slide_type": "subslide"
    }
   },
   "source": [
    "## Упражнение 3"
   ]
  },
  {
   "cell_type": "markdown",
   "id": "5deccc27",
   "metadata": {
    "slideshow": {
     "slide_type": "fragment"
    }
   },
   "source": [
    "Напишите программу, которая умеет склонять с любыми числительными слово «комментарий»."
   ]
  },
  {
   "cell_type": "code",
   "execution_count": null,
   "id": "6edac02e",
   "metadata": {
    "slideshow": {
     "slide_type": "fragment"
    }
   },
   "outputs": [],
   "source": [
    "n = int(input())\n",
    "if n % 100 in range(11, 20) or n % 10 in [0, 5, 6, 7, 8, 9]:\n",
    "    print(f\"{n} комментариев\")\n",
    "elif n % 10 == 1:\n",
    "    print(f\"{n} комментарий\")\n",
    "else:\n",
    "    print(f\"{n} комментария\")"
   ]
  },
  {
   "cell_type": "markdown",
   "id": "67175841",
   "metadata": {
    "slideshow": {
     "slide_type": "subslide"
    }
   },
   "source": [
    "## Упражнение 4"
   ]
  },
  {
   "cell_type": "markdown",
   "id": "24ebcdf2",
   "metadata": {
    "slideshow": {
     "slide_type": "fragment"
    }
   },
   "source": [
    "Вам дана последовательность ДНК, содержащая сайт рестрикции фермента EcoRI: G*AATTC, где * обозначает место разрезания. Напишите программу, которая вычисляет длины двух получившихся после разрезания фрагментов."
   ]
  },
  {
   "cell_type": "code",
   "execution_count": null,
   "id": "0bdbce06",
   "metadata": {
    "slideshow": {
     "slide_type": "fragment"
    }
   },
   "outputs": [],
   "source": [
    "dna = \"ACTGATCGATTACGTATAGTAGAATTCTATCATACATATATATCGATGCGTTCAT\"\n",
    "cut = dna.find(\"GAATTC\")\n",
    "len_1 = len(dna[:cut + 1])\n",
    "len_2 = len(dna) - len_1\n",
    "print(len_1, len_2)"
   ]
  },
  {
   "cell_type": "markdown",
   "id": "0843b78e",
   "metadata": {
    "slideshow": {
     "slide_type": "subslide"
    }
   },
   "source": [
    "## Упражнение 5"
   ]
  },
  {
   "cell_type": "markdown",
   "id": "51194398",
   "metadata": {
    "slideshow": {
     "slide_type": "fragment"
    }
   },
   "source": [
    "Напишите программу, которая для любой входной ДНК-последовательности создает словарь с числом вхождений каждого из нуклеотидов."
   ]
  },
  {
   "cell_type": "code",
   "execution_count": null,
   "id": "ddc7b464",
   "metadata": {},
   "outputs": [],
   "source": [
    "dna = input().upper()\n",
    "counts_dict = {}\n",
    "for nucl in [\"A\", \"T\", \"G\", \"C\"]:\n",
    "    counts_dict[nucl] = dna.count(nucl)\n",
    "print(counts_dict)"
   ]
  },
  {
   "cell_type": "code",
   "execution_count": null,
   "id": "a6024252",
   "metadata": {},
   "outputs": [],
   "source": [
    "# Чуть более оптимизированная версия (одним проходом по строке)\n",
    "dna = input().upper()\n",
    "counts_dict = {\"A\": 0, \"T\": 0, \"G\": 0, \"C\": 0}\n",
    "for nucl in dna:\n",
    "    counts_dict[nucl] += 1\n",
    "print(counts_dict)"
   ]
  },
  {
   "cell_type": "markdown",
   "id": "27e5943d",
   "metadata": {
    "slideshow": {
     "slide_type": "subslide"
    }
   },
   "source": [
    "## Упражнение 6"
   ]
  },
  {
   "cell_type": "markdown",
   "id": "fce77b76",
   "metadata": {
    "slideshow": {
     "slide_type": "fragment"
    }
   },
   "source": [
    "У вас есть словарь ДНК кодонов, переводящий триплет нуклеотидов в соответствующую аминокислоту. Напишите программу, которая любую входную последовательность ДНК странслирует в белок."
   ]
  },
  {
   "cell_type": "code",
   "execution_count": null,
   "id": "17e256a9",
   "metadata": {
    "slideshow": {
     "slide_type": "fragment"
    }
   },
   "outputs": [],
   "source": [
    "gencode = {\n",
    "    'ATA': 'I', 'ATC': 'I', 'ATT': 'I', 'ATG': 'M',\n",
    "    'ACA': 'T', 'ACC': 'T', 'ACG': 'T', 'ACT': 'T',\n",
    "    'AAC': 'N', 'AAT': 'N', 'AAA': 'K', 'AAG': 'K',\n",
    "    'AGC': 'S', 'AGT': 'S', 'AGA': 'R', 'AGG': 'R',\n",
    "    'CTA': 'L', 'CTC': 'L', 'CTG': 'L', 'CTT': 'L',\n",
    "    'CCA': 'P', 'CCC': 'P', 'CCG': 'P', 'CCT': 'P',\n",
    "    'CAC': 'H', 'CAT': 'H', 'CAA': 'Q', 'CAG': 'Q',\n",
    "    'CGA': 'R', 'CGC': 'R', 'CGG': 'R', 'CGT': 'R',\n",
    "    'GTA': 'V', 'GTC': 'V', 'GTG': 'V', 'GTT': 'V',\n",
    "    'GCA': 'A', 'GCC': 'A', 'GCG': 'A', 'GCT': 'A',\n",
    "    'GAC': 'D', 'GAT': 'D', 'GAA': 'E', 'GAG': 'E',\n",
    "    'GGA': 'G', 'GGC': 'G', 'GGG': 'G', 'GGT': 'G',\n",
    "    'TCA': 'S', 'TCC': 'S', 'TCG': 'S', 'TCT': 'S',\n",
    "    'TTC': 'F', 'TTT': 'F', 'TTA': 'L', 'TTG': 'L',\n",
    "    'TAC': 'Y', 'TAT': 'Y',\n",
    "    'TGC': 'C', 'TGT': 'C', 'TGG': 'W'\n",
    "}\n",
    "\n",
    "dna = input().upper()\n",
    "protein = \"\"\n",
    "for i in range(0, len(dna) // 3 * 3, 3):\n",
    "    amk = gencode.get(dna[i:i + 3], \"_\")\n",
    "    protein += amk\n",
    "print(protein)"
   ]
  },
  {
   "cell_type": "markdown",
   "id": "4873c2a5",
   "metadata": {
    "slideshow": {
     "slide_type": "subslide"
    }
   },
   "source": [
    "## Упражнение 7"
   ]
  },
  {
   "cell_type": "markdown",
   "id": "d33b6f29",
   "metadata": {
    "slideshow": {
     "slide_type": "fragment"
    }
   },
   "source": [
    "Напишите программу, которая для любой входной последовательности ДНК создает словарь со следующей информацией: для каждой рестриктазы (в словаре) указывается, может ли она разрезать эту последовательность, и если да, то в каком месте (индекс), если же нет, то надо записать -1. "
   ]
  },
  {
   "cell_type": "code",
   "execution_count": null,
   "id": "cddec74a",
   "metadata": {
    "slideshow": {
     "slide_type": "fragment"
    }
   },
   "outputs": [],
   "source": [
    "restriction_enzymes = {\n",
    "    \"EcoRI\": \"GAATTC\",\n",
    "    \"TaqI\": \"TCGA\",\n",
    "    \"AluI\": \"AGCT\",\n",
    "    \"NotI\": \"GCGGCCGC\"\n",
    "}\n",
    "\n",
    "dna = input().upper()\n",
    "enzymes_info = {}\n",
    "for enzyme, motif in restriction_enzymes.items():\n",
    "    index = dna.find(motif)\n",
    "    if index != -1:\n",
    "        if enzyme in [\"AluI\", \"NotI\"]:\n",
    "            index += 1\n",
    "        enzymes_info[enzyme] = (True, index)\n",
    "    else:\n",
    "        enzymes_info[enzyme] = (False, index)\n",
    "print(enzymes_info)"
   ]
  },
  {
   "cell_type": "markdown",
   "id": "3b70ecf2",
   "metadata": {
    "slideshow": {
     "slide_type": "subslide"
    }
   },
   "source": [
    "## Упражнение 8"
   ]
  },
  {
   "cell_type": "markdown",
   "id": "d68ad77b",
   "metadata": {
    "slideshow": {
     "slide_type": "fragment"
    }
   },
   "source": [
    "Вам даны три множества генов: в первом хранятся мишени микроРНК, во втором — гены с упавшей экспрессией, а в третьем — все рассматриваемые гены. Надо вывести табличку два на два, в которой показываются количества подходящих генов:\n",
    "\n",
    "   мишень + упал  |  мишень + не упал\n",
    "\n",
    " не мишень + упал | не мишень + не упал"
   ]
  },
  {
   "cell_type": "code",
   "execution_count": null,
   "id": "0128b5c1",
   "metadata": {
    "slideshow": {
     "slide_type": "fragment"
    }
   },
   "outputs": [],
   "source": [
    "targets = {\n",
    "    'AHNAK2', 'AKAP12', 'ASAP1', 'ATP2B4', 'DNAJB1', 'HNRNPUL1', 'HSPB8',\n",
    "    'ICMT', 'IQGAP1', 'KMT2D', 'KPNB1', 'LAMA3', 'LGALS1', 'MAP4', 'MED12'\n",
    "}\n",
    "downregulated = {\n",
    "    'ADAM15', 'AHNAK2', 'AKAP12', 'ASAP1', 'ATP2B4', 'BST2', 'CLIC4', 'DCAF12',\n",
    "    'DNAJB1', 'EMP1', 'ENO1', 'FGFBP1', 'FLNC', 'GLTP', 'GLUL', 'HMGA1'\n",
    "}\n",
    "all_genes = targets | downregulated | {'NUP35', 'IL32', 'PACS1', 'MRTFB'}\n",
    "\n",
    "print(len(targets & downregulated), len(targets - downregulated))\n",
    "print(len((all_genes - targets) & downregulated), len(all_genes - targets - downregulated))"
   ]
  }
 ],
 "metadata": {
  "celltoolbar": "Slideshow",
  "kernelspec": {
   "display_name": "Python 3 (ipykernel)",
   "language": "python",
   "name": "python3"
  },
  "language_info": {
   "codemirror_mode": {
    "name": "ipython",
    "version": 3
   },
   "file_extension": ".py",
   "mimetype": "text/x-python",
   "name": "python",
   "nbconvert_exporter": "python",
   "pygments_lexer": "ipython3",
   "version": "3.10.10"
  }
 },
 "nbformat": 4,
 "nbformat_minor": 5
}
