{
 "cells": [
  {
   "cell_type": "markdown",
   "id": "a31e8c12-3ff8-404b-ba5c-69246d806a62",
   "metadata": {
    "slideshow": {
     "slide_type": "slide"
    },
    "tags": []
   },
   "source": [
    "<center>\n",
    "    <font>Анализ данных с использованием Python</font><br/>\n",
    "    <br/>\n",
    "    <br/>\n",
    "    <b style=\"font-size: 2em\">Начало работы в Python</b><br/>\n",
    "    <br/>\n",
    "    <font>Иван Кириллов</font><br/>\n",
    "</center>"
   ]
  },
  {
   "cell_type": "markdown",
   "id": "ca5715d6-8cc5-4917-a745-c1cefeac83c7",
   "metadata": {
    "pycharm": {
     "name": "#%% md\n"
    },
    "slideshow": {
     "slide_type": "slide"
    },
    "tags": []
   },
   "source": [
    "### Python\n",
    "\n",
    "- интерпретируемый (код исполняется интепретатором, а не компилируется в самостоятельную программу)\n",
    "- строгая типизация (разные типы приводятся друг к другу в ограниченном числе случаев)\n",
    "- динамическая типизация (любая переменая может связываться с объектами любых типов)\n",
    "\n",
    "[подробнее ↪](https://wiki.python.org/moin/Ten%20things%20people%20want%20to%20know%20about%20Python)"
   ]
  },
  {
   "cell_type": "markdown",
   "id": "61e56298-3f5b-43a7-bd70-026bea589281",
   "metadata": {
    "slideshow": {
     "slide_type": "slide"
    },
    "tags": []
   },
   "source": [
    "### Реализации\n",
    "\n",
    "- **CPython** (reference)\n",
    "- IronPython\n",
    "- Jython\n",
    "- PyPy\n",
    "\n",
    "[подробнее ↪](https://www.python.org/download/alternatives/)"
   ]
  },
  {
   "cell_type": "markdown",
   "id": "10ec2a93-2508-4220-b120-05b8c1a09067",
   "metadata": {
    "slideshow": {
     "slide_type": "slide"
    },
    "tags": []
   },
   "source": [
    "### Как пользоваться\n",
    "\n",
    "- REPL\n",
    "- IPython\n",
    "- **Jupyter Notebook**\n",
    "- **Jupyter Lab**\n",
    "- Ваша любимая IDE"
   ]
  },
  {
   "cell_type": "markdown",
   "id": "5a25c020",
   "metadata": {
    "slideshow": {
     "slide_type": "slide"
    }
   },
   "source": [
    "### Anaconda — простая установка\n",
    "\n",
    "- [Подробнее в Вики](https://ru.wikipedia.org/wiki/Anaconda_(%D0%B4%D0%B8%D1%81%D1%82%D1%80%D0%B8%D0%B1%D1%83%D1%82%D0%B8%D0%B2_Python))\n",
    "- [Полезный туториал](https://www.codecademy.com/article/setting-up-jupyter-notebook)\n",
    "- Ваше первое задание: поставить Jupyter Notebook к ближайшему семинару\n",
    "\n",
    "[ссылка ↪](https://www.anaconda.com/download)"
   ]
  },
  {
   "cell_type": "markdown",
   "id": "dd3841f3",
   "metadata": {
    "slideshow": {
     "slide_type": "slide"
    }
   },
   "source": [
    "### Ваш лучший помощник — документация\n",
    "\n",
    "- По ссылке ниже можно найти официальный [туториал](https://docs.python.org/3/tutorial/index.html)\n",
    "- Функционал встроенных функций лучше всего изучать здесь\n",
    "- Читать можно постепенно, параллельно с лекциями\n",
    "\n",
    "[ссылка ↪](https://docs.python.org/3/)"
   ]
  },
  {
   "cell_type": "markdown",
   "id": "31dee30c",
   "metadata": {
    "slideshow": {
     "slide_type": "slide"
    }
   },
   "source": [
    "### Какого формата кода придерживаться\n",
    "\n",
    "- PEP (Python Enhancement Proposals) 8\n",
    "- Крайне желательно хотя бы раз пробежаться по правилам\n",
    "- В идеале — заглядывать сюда в любой непонятной ситуации\n",
    "\n",
    "[ссылка ↪](https://peps.python.org/pep-0008/)"
   ]
  },
  {
   "cell_type": "markdown",
   "id": "8a9e07ea",
   "metadata": {
    "slideshow": {
     "slide_type": "slide"
    }
   },
   "source": [
    "## Особенности работы в Jupyter"
   ]
  },
  {
   "cell_type": "code",
   "execution_count": null,
   "id": "1ceaf78a",
   "metadata": {
    "slideshow": {
     "slide_type": "subslide"
    }
   },
   "outputs": [],
   "source": [
    "help(str.capitalize)"
   ]
  },
  {
   "cell_type": "code",
   "execution_count": null,
   "id": "3a393714",
   "metadata": {
    "slideshow": {
     "slide_type": "subslide"
    }
   },
   "outputs": [],
   "source": [
    "# Shift + Tab после функции (можно прожать сразу несколько раз)\n",
    "help"
   ]
  },
  {
   "cell_type": "code",
   "execution_count": null,
   "id": "a2131ae7",
   "metadata": {
    "slideshow": {
     "slide_type": "subslide"
    }
   },
   "outputs": [],
   "source": [
    "?help"
   ]
  },
  {
   "cell_type": "code",
   "execution_count": null,
   "id": "2304e16e",
   "metadata": {
    "slideshow": {
     "slide_type": "subslide"
    }
   },
   "outputs": [],
   "source": [
    "# Скорее для объектов из сторонних библиотек (numpy, pandas...)\n",
    "??help"
   ]
  },
  {
   "cell_type": "code",
   "execution_count": null,
   "id": "143eea81",
   "metadata": {
    "slideshow": {
     "slide_type": "subslide"
    }
   },
   "outputs": [],
   "source": [
    "# Tab — автодополнение\n",
    "pr"
   ]
  },
  {
   "cell_type": "markdown",
   "id": "9f829c0c",
   "metadata": {
    "slideshow": {
     "slide_type": "subslide"
    }
   },
   "source": [
    "### Разметка Markdown\n",
    "\n",
    "[Хорошая шпаргалка](https://gist.github.com/Jekins/2bf2d0638163f1294637)"
   ]
  },
  {
   "cell_type": "code",
   "execution_count": null,
   "id": "fa8e91ca",
   "metadata": {},
   "outputs": [],
   "source": [
    "\"adad ada a\".split()"
   ]
  },
  {
   "cell_type": "raw",
   "id": "e8e7f015",
   "metadata": {
    "slideshow": {
     "slide_type": "subslide"
    }
   },
   "source": [
    "# Заголовок первого уровня\n",
    "## Заголовок второго уровня\n",
    "### Заголовок третьего уровня"
   ]
  },
  {
   "cell_type": "markdown",
   "id": "76e3f9d2",
   "metadata": {
    "slideshow": {
     "slide_type": "fragment"
    }
   },
   "source": [
    "# Заголовок первого уровня\n",
    "## Заголовок второго уровня\n",
    "### Заголовок третьего уровня"
   ]
  },
  {
   "cell_type": "raw",
   "id": "b01154eb",
   "metadata": {
    "slideshow": {
     "slide_type": "subslide"
    }
   },
   "source": [
    "Это параграф. Чтобы создать новый параграф, оставьте пустую строку между двумя строками текста.\n",
    "\n",
    "Это первая строка  \n",
    "А это вторая строка, но они находятся в одном параграфе. Для переноса строки используйте два пробела в конце предыдущей строки."
   ]
  },
  {
   "cell_type": "markdown",
   "id": "2abdeca4",
   "metadata": {
    "slideshow": {
     "slide_type": "fragment"
    }
   },
   "source": [
    "Это параграф. Чтобы создать новый параграф, оставьте пустую строку между двумя строками текста.\n",
    "\n",
    "Это первая строка  \n",
    "А это вторая строка, но они находятся в одном параграфе. Для переноса строки используйте два пробела в конце предыдущей строки."
   ]
  },
  {
   "cell_type": "raw",
   "id": "4d9e08e0",
   "metadata": {
    "slideshow": {
     "slide_type": "subslide"
    }
   },
   "source": [
    "*курсив*  \n",
    "_курсив_  \n",
    "**жирный**  \n",
    "__жирный__  \n",
    "***жирный курсив***  \n",
    "___жирный курсив___  \n",
    "~~зачеркнутый~~"
   ]
  },
  {
   "cell_type": "markdown",
   "id": "62cad363",
   "metadata": {
    "slideshow": {
     "slide_type": "fragment"
    }
   },
   "source": [
    "*курсив*  \n",
    "_курсив_  \n",
    "**жирный**  \n",
    "__жирный__  \n",
    "***жирный курсив***  \n",
    "___жирный курсив___  \n",
    "~~зачеркнутый~~"
   ]
  },
  {
   "cell_type": "raw",
   "id": "715f77c2",
   "metadata": {
    "slideshow": {
     "slide_type": "subslide"
    }
   },
   "source": [
    "- Пункт первый\n",
    "- Пункт второй\n",
    "- Пункт третий"
   ]
  },
  {
   "cell_type": "markdown",
   "id": "3c2bb427",
   "metadata": {
    "slideshow": {
     "slide_type": "fragment"
    }
   },
   "source": [
    "- Пункт первый\n",
    "- Пункт второй\n",
    "- Пункт третий"
   ]
  },
  {
   "cell_type": "markdown",
   "id": "0c30ef94-02ff-4c17-900f-e9618a19b92b",
   "metadata": {
    "pycharm": {
     "name": "#%% md\n"
    },
    "slideshow": {
     "slide_type": "slide"
    },
    "tags": []
   },
   "source": [
    "## Базовые типы"
   ]
  },
  {
   "cell_type": "markdown",
   "id": "c412e85f-d78c-4438-88e6-e69d2f8354ed",
   "metadata": {
    "pycharm": {
     "name": "#%% md\n"
    },
    "slideshow": {
     "slide_type": "slide"
    },
    "tags": []
   },
   "source": [
    "### Числовые типы: int, float, complex (скорее всего, не встретите)"
   ]
  },
  {
   "cell_type": "code",
   "execution_count": null,
   "id": "d466687f-3c67-4ec4-b17c-c3218cd6d937",
   "metadata": {
    "pycharm": {
     "name": "#%%\n"
    },
    "slideshow": {
     "slide_type": "subslide"
    },
    "tags": []
   },
   "outputs": [],
   "source": [
    "# int, float, complex\n",
    "1, 1.0, 1j"
   ]
  },
  {
   "cell_type": "code",
   "execution_count": null,
   "id": "fe9772df",
   "metadata": {
    "slideshow": {
     "slide_type": "fragment"
    }
   },
   "outputs": [],
   "source": [
    "abs(-1), abs(-1.0), abs(-1 + 1j)"
   ]
  },
  {
   "cell_type": "markdown",
   "id": "d3997f22-c20b-4de3-a64f-f97758fe766f",
   "metadata": {
    "pycharm": {
     "name": "#%% md\n"
    },
    "slideshow": {
     "slide_type": "slide"
    },
    "tags": []
   },
   "source": [
    "### Переменные"
   ]
  },
  {
   "cell_type": "code",
   "execution_count": null,
   "id": "46362745-ea0e-4c0c-adfc-70c6377ac02b",
   "metadata": {
    "pycharm": {
     "name": "#%%\n"
    },
    "slideshow": {
     "slide_type": "fragment"
    },
    "tags": []
   },
   "outputs": [],
   "source": [
    "clicks = 2\n",
    "type(clicks)"
   ]
  },
  {
   "cell_type": "code",
   "execution_count": null,
   "id": "84c77321-f3ed-47b4-a9a4-181de88b45ac",
   "metadata": {
    "pycharm": {
     "name": "#%%\n"
    },
    "slideshow": {
     "slide_type": "fragment"
    },
    "tags": []
   },
   "outputs": [],
   "source": [
    "# type(объект) == класс объекта"
   ]
  },
  {
   "cell_type": "markdown",
   "id": "81cf9ef6",
   "metadata": {
    "pycharm": {
     "name": "#%% md\n"
    },
    "slideshow": {
     "slide_type": "fragment"
    },
    "tags": []
   },
   "source": [
    "<div class=\"alert alert-danger\">\n",
    "    <b>Антипаттерн:</b> использовать <code>type(i) == int</code><br>\n",
    "    <b>В крайнем случае:</b> <code>isinstance(i, int)</code>\n",
    "</div>"
   ]
  },
  {
   "cell_type": "code",
   "execution_count": null,
   "id": "e1701c0b-0282-4790-a7ec-e6cd2a26e95e",
   "metadata": {
    "pycharm": {
     "name": "#%%\n"
    },
    "slideshow": {
     "slide_type": "subslide"
    },
    "tags": []
   },
   "outputs": [],
   "source": [
    "1\n",
    "2\n",
    "# результат работы ячейки в jupyter notebook (в котором сделана эта презентация)\n",
    "3\n",
    "# – значение последнего выражения"
   ]
  },
  {
   "cell_type": "code",
   "execution_count": null,
   "id": "a037bbf7-ab8a-48eb-9fef-4695e5c5fcdd",
   "metadata": {
    "pycharm": {
     "name": "#%%\n"
    },
    "slideshow": {
     "slide_type": "subslide"
    },
    "tags": []
   },
   "outputs": [],
   "source": [
    "# связывание нового объекта с переменной\n",
    "\n",
    "temperature = 10\n",
    "temperature = 20\n",
    "temperature = 36.6  # динамическая типизация!"
   ]
  },
  {
   "cell_type": "code",
   "execution_count": null,
   "id": "12f82b6f-b233-4d6d-8b23-f181a2d8ce1c",
   "metadata": {
    "pycharm": {
     "name": "#%%\n"
    },
    "slideshow": {
     "slide_type": "subslide"
    },
    "tags": []
   },
   "outputs": [],
   "source": [
    "shows = 50"
   ]
  },
  {
   "cell_type": "code",
   "execution_count": null,
   "id": "037f2514-7a54-4d91-b9ae-bb7af32d062b",
   "metadata": {
    "pycharm": {
     "name": "#%%\n"
    },
    "slideshow": {
     "slide_type": "fragment"
    },
    "tags": []
   },
   "outputs": [],
   "source": [
    "s4ows"
   ]
  },
  {
   "cell_type": "markdown",
   "id": "b4e490ed-d11a-45c9-95c2-ab4fc489e99b",
   "metadata": {
    "pycharm": {
     "name": "#%% md\n"
    },
    "slideshow": {
     "slide_type": "fragment"
    },
    "tags": []
   },
   "source": [
    "<div class=\"alert alert-danger\">\n",
    "    <b>Антипаттерн:</b> неговорящие названия переменных\n",
    "</div>"
   ]
  },
  {
   "cell_type": "code",
   "execution_count": null,
   "id": "66fb3788",
   "metadata": {
    "slideshow": {
     "slide_type": "subslide"
    }
   },
   "outputs": [],
   "source": [
    "1st_name"
   ]
  },
  {
   "cell_type": "code",
   "execution_count": null,
   "id": "c51d15e1-1335-4feb-bcf4-cc05b298c29a",
   "metadata": {
    "pycharm": {
     "name": "#%%\n"
    },
    "slideshow": {
     "slide_type": "subslide"
    },
    "tags": []
   },
   "outputs": [],
   "source": [
    "a = 2\n",
    "b = 10\n",
    "c = b / a\n",
    "c"
   ]
  },
  {
   "cell_type": "markdown",
   "id": "e475be76-9adf-4d44-aee7-4d845a9f70ce",
   "metadata": {
    "pycharm": {
     "name": "#%% md\n"
    },
    "slideshow": {
     "slide_type": "slide"
    },
    "tags": []
   },
   "source": [
    "### int, float, арифметические операции"
   ]
  },
  {
   "cell_type": "code",
   "execution_count": null,
   "id": "78576050-62a0-43c4-ba8d-9794d494d5e9",
   "metadata": {
    "pycharm": {
     "name": "#%%\n"
    },
    "slideshow": {
     "slide_type": "fragment"
    },
    "tags": []
   },
   "outputs": [],
   "source": [
    "5 + 6 * (7 - 1) / 3"
   ]
  },
  {
   "cell_type": "code",
   "execution_count": null,
   "id": "094c6f7a-992e-4de9-87c8-63ce8d55c6bc",
   "metadata": {
    "pycharm": {
     "name": "#%%\n"
    },
    "slideshow": {
     "slide_type": "subslide"
    },
    "tags": []
   },
   "outputs": [],
   "source": [
    "2**10"
   ]
  },
  {
   "cell_type": "code",
   "execution_count": null,
   "id": "da48c3a1",
   "metadata": {
    "slideshow": {
     "slide_type": "fragment"
    }
   },
   "outputs": [],
   "source": [
    "2**0.5"
   ]
  },
  {
   "cell_type": "code",
   "execution_count": null,
   "id": "c5154f9e",
   "metadata": {
    "slideshow": {
     "slide_type": "fragment"
    }
   },
   "outputs": [],
   "source": [
    "2.**2"
   ]
  },
  {
   "cell_type": "code",
   "execution_count": null,
   "id": "ccb161b7",
   "metadata": {
    "slideshow": {
     "slide_type": "fragment"
    }
   },
   "outputs": [],
   "source": [
    "2e-1  # то же самое, что и 2 * 10**(-1)"
   ]
  },
  {
   "cell_type": "code",
   "execution_count": null,
   "id": "9f43807e",
   "metadata": {
    "slideshow": {
     "slide_type": "fragment"
    }
   },
   "outputs": [],
   "source": [
    "1234e2  # т.е. результат всегда float"
   ]
  },
  {
   "cell_type": "code",
   "execution_count": null,
   "id": "509f1e55",
   "metadata": {
    "slideshow": {
     "slide_type": "fragment"
    }
   },
   "outputs": [],
   "source": [
    "# Q: Какой результат?\n",
    "0**0"
   ]
  },
  {
   "cell_type": "code",
   "execution_count": null,
   "id": "ad1de2ab",
   "metadata": {
    "slideshow": {
     "slide_type": "subslide"
    }
   },
   "outputs": [],
   "source": [
    "0.1 + 0.1 + 0.1, 0.3 + 0.3 + 0.3, 1 / 3 + 1 / 3 + 1 / 3"
   ]
  },
  {
   "cell_type": "code",
   "execution_count": null,
   "id": "1ab6268c",
   "metadata": {
    "slideshow": {
     "slide_type": "fragment"
    }
   },
   "outputs": [],
   "source": [
    "bignum = 9**19\n",
    "bignum - int(float(bignum))"
   ]
  },
  {
   "cell_type": "code",
   "execution_count": null,
   "id": "daa52ffa",
   "metadata": {
    "slideshow": {
     "slide_type": "subslide"
    }
   },
   "outputs": [],
   "source": [
    "round(1 / 3, 2)"
   ]
  },
  {
   "cell_type": "code",
   "execution_count": null,
   "id": "7e4f552e-69ed-4ace-9260-2a122553ade7",
   "metadata": {
    "pycharm": {
     "name": "#%%\n"
    },
    "slideshow": {
     "slide_type": "subslide"
    },
    "tags": []
   },
   "outputs": [],
   "source": [
    "# int / int = float\n",
    "\n",
    "clicks = 12\n",
    "shows = 10\n",
    "ctr = clicks / shows\n",
    "\n",
    "type(ctr), ctr"
   ]
  },
  {
   "cell_type": "markdown",
   "id": "3b7b2523-44d5-423b-888d-b6ca0a7a2ea5",
   "metadata": {
    "pycharm": {
     "name": "#%% md\n"
    },
    "slideshow": {
     "slide_type": "fragment"
    },
    "tags": []
   },
   "source": [
    "<div class=\"alert alert-warning\">\n",
    "    <b>Частая ошибка:</b> Деление / и // приводит к разным результатам\n",
    "</div>"
   ]
  },
  {
   "cell_type": "code",
   "execution_count": null,
   "id": "5e3e3085-eff0-478b-bdcf-bbeb29eb7042",
   "metadata": {
    "pycharm": {
     "name": "#%%\n"
    },
    "slideshow": {
     "slide_type": "fragment"
    },
    "tags": []
   },
   "outputs": [],
   "source": [
    "clicks // shows  # целочисленное деление"
   ]
  },
  {
   "cell_type": "code",
   "execution_count": null,
   "id": "ee7c6857-39d8-44cd-960a-20499fe0fe45",
   "metadata": {
    "pycharm": {
     "name": "#%%\n"
    },
    "slideshow": {
     "slide_type": "fragment"
    },
    "tags": []
   },
   "outputs": [],
   "source": [
    "clicks % shows  # остаток от деления"
   ]
  },
  {
   "cell_type": "code",
   "execution_count": null,
   "id": "b4a93637-bf5f-45e5-b03f-53a93eca1f2f",
   "metadata": {
    "pycharm": {
     "name": "#%%\n"
    },
    "slideshow": {
     "slide_type": "subslide"
    },
    "tags": []
   },
   "outputs": [],
   "source": [
    "value = 9\n",
    "value += 41\n",
    "value *= 5\n",
    "value %= 23\n",
    "value /= 8\n",
    "value **= 6\n",
    "value //= 24\n",
    "value -= 1\n",
    "\n",
    "value"
   ]
  },
  {
   "cell_type": "markdown",
   "id": "1c529cde",
   "metadata": {
    "slideshow": {
     "slide_type": "slide"
    }
   },
   "source": [
    "### min, max"
   ]
  },
  {
   "cell_type": "code",
   "execution_count": null,
   "id": "1c9a845b",
   "metadata": {
    "slideshow": {
     "slide_type": "subslide"
    }
   },
   "outputs": [],
   "source": [
    "a, b, c = 1, 2, 3\n",
    "min(a, b, c), max(c, a, b)"
   ]
  },
  {
   "cell_type": "markdown",
   "id": "32c58f72-677b-4440-8b96-eda5a37149da",
   "metadata": {
    "pycharm": {
     "name": "#%% md\n"
    },
    "slideshow": {
     "slide_type": "slide"
    },
    "tags": []
   },
   "source": [
    "### Битовые операции"
   ]
  },
  {
   "cell_type": "code",
   "execution_count": null,
   "id": "1aec713d-6f17-400c-8b5c-0611d5dfe17a",
   "metadata": {
    "pycharm": {
     "name": "#%%\n"
    },
    "slideshow": {
     "slide_type": "fragment"
    },
    "tags": []
   },
   "outputs": [],
   "source": [
    "1 << 10, 8 >> 3"
   ]
  },
  {
   "cell_type": "code",
   "execution_count": null,
   "id": "a3acdfec-1981-417e-9637-67f90ebb5d5c",
   "metadata": {
    "pycharm": {
     "name": "#%%\n"
    },
    "slideshow": {
     "slide_type": "fragment"
    },
    "tags": []
   },
   "outputs": [],
   "source": [
    "0b100 ^ 0b010, 0b011 | 0b010, 0b011 & 0b010"
   ]
  },
  {
   "cell_type": "code",
   "execution_count": null,
   "id": "44aa09fa-56d7-4c9b-a629-a9dc449a9581",
   "metadata": {
    "pycharm": {
     "name": "#%%\n"
    },
    "slideshow": {
     "slide_type": "fragment"
    },
    "tags": []
   },
   "outputs": [],
   "source": [
    "bin(1023)"
   ]
  },
  {
   "cell_type": "markdown",
   "id": "051b9570-1be3-4dfd-ba59-4e77fe2468bd",
   "metadata": {
    "pycharm": {
     "name": "#%% md\n"
    },
    "slideshow": {
     "slide_type": "fragment"
    },
    "tags": []
   },
   "source": [
    "<div class=\"alert alert-info\">\n",
    "    <b>Рекомендация:</b> Битовые операции тяжело читать, лучше обходиться без них\n",
    "</div>"
   ]
  },
  {
   "cell_type": "markdown",
   "id": "30a3ab56-8a8d-45ea-a8d9-897cef14905e",
   "metadata": {
    "pycharm": {
     "name": "#%% md\n"
    },
    "slideshow": {
     "slide_type": "slide"
    },
    "tags": []
   },
   "source": [
    "### Логический тип: bool"
   ]
  },
  {
   "cell_type": "code",
   "execution_count": null,
   "id": "7a3f53e3-b9a1-4e87-b9d2-8ae937732add",
   "metadata": {
    "pycharm": {
     "name": "#%%\n"
    },
    "slideshow": {
     "slide_type": "fragment"
    },
    "tags": []
   },
   "outputs": [],
   "source": [
    "True, False"
   ]
  },
  {
   "cell_type": "code",
   "execution_count": null,
   "id": "fcf94bb6-0312-4a28-94c1-65aef2721a01",
   "metadata": {
    "pycharm": {
     "name": "#%%\n"
    },
    "slideshow": {
     "slide_type": "fragment"
    },
    "tags": []
   },
   "outputs": [],
   "source": [
    "type(True), type(False)"
   ]
  },
  {
   "cell_type": "code",
   "execution_count": null,
   "id": "9f9ca591-2974-4f5d-b0cd-6d961491f767",
   "metadata": {
    "pycharm": {
     "name": "#%%\n"
    },
    "slideshow": {
     "slide_type": "fragment"
    },
    "tags": []
   },
   "outputs": [],
   "source": [
    "not True, not False"
   ]
  },
  {
   "cell_type": "code",
   "execution_count": null,
   "id": "1152bcd2-3e8f-4a03-b833-f86d9bfc67d8",
   "metadata": {
    "pycharm": {
     "name": "#%%\n"
    },
    "slideshow": {
     "slide_type": "fragment"
    },
    "tags": []
   },
   "outputs": [],
   "source": [
    "True and False, True or False, (2 < 3)"
   ]
  },
  {
   "cell_type": "markdown",
   "id": "28fa4dfb-19bf-47c3-8eda-b6da1b40b60d",
   "metadata": {
    "pycharm": {
     "name": "#%% md\n"
    },
    "slideshow": {
     "slide_type": "fragment"
    },
    "tags": []
   },
   "source": [
    "<div class=\"alert alert-danger\">\n",
    "    <b>Антипаттерн:</b> не ставить скобки в вычислениях, где неочевидно, что будет\n",
    "</div>"
   ]
  },
  {
   "cell_type": "code",
   "execution_count": null,
   "id": "d19c4f3d-ce6a-45cb-9123-b0caf7319473",
   "metadata": {
    "pycharm": {
     "name": "#%%\n"
    },
    "slideshow": {
     "slide_type": "subslide"
    },
    "tags": []
   },
   "outputs": [],
   "source": [
    "# Q: Какой ответ?\n",
    "False == False != True"
   ]
  },
  {
   "cell_type": "code",
   "execution_count": null,
   "id": "8626b8e4-75ad-409a-a7a7-6b50c346cc6c",
   "metadata": {
    "pycharm": {
     "name": "#%%\n"
    },
    "slideshow": {
     "slide_type": "fragment"
    },
    "tags": []
   },
   "outputs": [],
   "source": [
    "# Как это работает:\n",
    "(False == False) and (False != True)"
   ]
  },
  {
   "cell_type": "code",
   "execution_count": null,
   "id": "d5278167-f433-4035-8d85-d8b70e1659d3",
   "metadata": {
    "pycharm": {
     "name": "#%%\n"
    },
    "slideshow": {
     "slide_type": "fragment"
    },
    "tags": []
   },
   "outputs": [],
   "source": [
    "# Можно сравнить с более очевидной конструкцией\n",
    "2 < 3 < 5 < 7 < 11"
   ]
  },
  {
   "cell_type": "code",
   "execution_count": null,
   "id": "bf84e5dd-4a39-45d1-9e05-dbb65742c250",
   "metadata": {
    "pycharm": {
     "name": "#%%\n"
    },
    "slideshow": {
     "slide_type": "fragment"
    },
    "tags": []
   },
   "outputs": [],
   "source": [
    "(2 < 3) and (3 < 5) and (5 < 7) and (7 < 11)"
   ]
  },
  {
   "cell_type": "code",
   "execution_count": null,
   "id": "5fc987f8",
   "metadata": {
    "slideshow": {
     "slide_type": "subslide"
    }
   },
   "outputs": [],
   "source": [
    "a = 50\n",
    "10 <= a < 100, a >= 10 and a < 100"
   ]
  },
  {
   "cell_type": "code",
   "execution_count": null,
   "id": "15321e54",
   "metadata": {
    "slideshow": {
     "slide_type": "subslide"
    }
   },
   "outputs": [],
   "source": [
    "# Q: Что получится?\n",
    "min(True, False), max(True, False)"
   ]
  },
  {
   "cell_type": "code",
   "execution_count": null,
   "id": "835c24ab",
   "metadata": {
    "slideshow": {
     "slide_type": "subslide"
    }
   },
   "outputs": [],
   "source": [
    "'o' in 'Hello'"
   ]
  },
  {
   "cell_type": "code",
   "execution_count": null,
   "id": "3ce817d5",
   "metadata": {
    "slideshow": {
     "slide_type": "fragment"
    }
   },
   "outputs": [],
   "source": [
    "'o' not in 'Hello'"
   ]
  },
  {
   "cell_type": "markdown",
   "id": "e81c5d99-2bec-4444-b6b8-f7c942555d9f",
   "metadata": {
    "pycharm": {
     "name": "#%% md\n"
    },
    "slideshow": {
     "slide_type": "slide"
    },
    "tags": []
   },
   "source": [
    "### Строковый тип: str"
   ]
  },
  {
   "cell_type": "code",
   "execution_count": null,
   "id": "ee77ae59-a13c-4743-846c-12c3e074065e",
   "metadata": {
    "pycharm": {
     "name": "#%%\n"
    },
    "slideshow": {
     "slide_type": "subslide"
    }
   },
   "outputs": [],
   "source": [
    "greeting = \"Hello\"\n",
    "\n",
    "poem = \"\"\"\n",
    "В сто сорок солнц закат пылал, \n",
    "    в июль катилось лето, \n",
    "        была жара, \n",
    "            жара плыла - \n",
    "                на даче было это. \n",
    "Пригорок Пушкино горбил \n",
    "   Акуловой горою, \n",
    "       а низ горы - \n",
    "           деревней был, \n",
    "       кривился крыш корою. \n",
    "\"\"\"\n",
    "\n",
    "type(greeting), type(poem)"
   ]
  },
  {
   "cell_type": "code",
   "execution_count": null,
   "id": "c7040824",
   "metadata": {
    "scrolled": true,
    "slideshow": {
     "slide_type": "subslide"
    }
   },
   "outputs": [],
   "source": [
    "# Q: Что получится?\n",
    "\"420\" < \"43\", 420 < 43"
   ]
  },
  {
   "cell_type": "markdown",
   "id": "5c6d430a",
   "metadata": {
    "slideshow": {
     "slide_type": "subslide"
    }
   },
   "source": [
    "#### Питон общается на языке [Юникода](https://ru.wikipedia.org/wiki/%D0%AE%D0%BD%D0%B8%D0%BA%D0%BE%D0%B4)"
   ]
  },
  {
   "cell_type": "code",
   "execution_count": null,
   "id": "39de2977",
   "metadata": {
    "slideshow": {
     "slide_type": "fragment"
    }
   },
   "outputs": [],
   "source": [
    "# Можно даже такое, прости господи :)\n",
    "печатай = print\n",
    "строку = \"ЪУЪ\"\n",
    "\n",
    "печатай(строку)"
   ]
  },
  {
   "cell_type": "code",
   "execution_count": null,
   "id": "118fc480",
   "metadata": {
    "slideshow": {
     "slide_type": "fragment"
    }
   },
   "outputs": [],
   "source": [
    "# Можно посмотреть целочисленное представление юникодного символа\n",
    "# И с помощью него вернуться обратно к символу\n",
    "\n",
    "ord(\"Ъ\"), chr(ord(\"Ъ\"))"
   ]
  },
  {
   "cell_type": "code",
   "execution_count": null,
   "id": "54ffe5dc",
   "metadata": {
    "slideshow": {
     "slide_type": "subslide"
    }
   },
   "outputs": [],
   "source": [
    "ord('😂'), chr(ord('😂'))"
   ]
  },
  {
   "cell_type": "code",
   "execution_count": null,
   "id": "fe94c176",
   "metadata": {
    "slideshow": {
     "slide_type": "fragment"
    }
   },
   "outputs": [],
   "source": [
    "joy = \"😂\"\n",
    "print(joy)"
   ]
  },
  {
   "cell_type": "markdown",
   "id": "7c78ea83-8e29-4e8e-a15e-de9ef9dc67aa",
   "metadata": {
    "pycharm": {
     "name": "#%% md\n"
    },
    "slideshow": {
     "slide_type": "slide"
    }
   },
   "source": [
    "### Функция print"
   ]
  },
  {
   "cell_type": "code",
   "execution_count": null,
   "id": "9e19e81e-cd25-4906-96c1-6ecd7e931bed",
   "metadata": {
    "pycharm": {
     "name": "#%%\n"
    },
    "scrolled": true,
    "slideshow": {
     "slide_type": "subslide"
    }
   },
   "outputs": [],
   "source": [
    "print(poem)"
   ]
  },
  {
   "cell_type": "code",
   "execution_count": null,
   "id": "5a177f12",
   "metadata": {
    "slideshow": {
     "slide_type": "subslide"
    }
   },
   "outputs": [],
   "source": [
    "s = \"First line\\nSecond line\"\n",
    "s"
   ]
  },
  {
   "cell_type": "code",
   "execution_count": null,
   "id": "9c450943",
   "metadata": {
    "slideshow": {
     "slide_type": "fragment"
    }
   },
   "outputs": [],
   "source": [
    "print(s)"
   ]
  },
  {
   "cell_type": "code",
   "execution_count": null,
   "id": "5d80b6a7-4ed3-4499-88f1-d3c1d86fa15a",
   "metadata": {
    "pycharm": {
     "name": "#%%\n"
    },
    "slideshow": {
     "slide_type": "subslide"
    }
   },
   "outputs": [],
   "source": [
    "print(65536)\n",
    "print(10, 20, '123', True, False)"
   ]
  },
  {
   "cell_type": "code",
   "execution_count": null,
   "id": "6deb7281-da91-474f-ac31-47b0318d8bc6",
   "metadata": {
    "pycharm": {
     "name": "#%%\n"
    },
    "scrolled": true,
    "slideshow": {
     "slide_type": "fragment"
    }
   },
   "outputs": [],
   "source": [
    "print('2', '+', 2)\n",
    "print('2', '+', 2, sep='    ', end='!')"
   ]
  },
  {
   "cell_type": "code",
   "execution_count": null,
   "id": "9e8a115b-10b0-4657-bf4f-997214edec01",
   "metadata": {
    "pycharm": {
     "name": "#%%\n"
    },
    "slideshow": {
     "slide_type": "subslide"
    },
    "tags": []
   },
   "outputs": [],
   "source": [
    "# Q: Что получается?\n",
    "print(\"Hello\" + \", world!\")\n",
    "print('Два' * 2)\n",
    "print(\"Two\" + 2)"
   ]
  },
  {
   "cell_type": "markdown",
   "id": "5546296a",
   "metadata": {
    "slideshow": {
     "slide_type": "slide"
    }
   },
   "source": [
    "### f-строки — удобный вывод с переменными"
   ]
  },
  {
   "cell_type": "code",
   "execution_count": null,
   "id": "73231f08",
   "metadata": {
    "slideshow": {
     "slide_type": "subslide"
    }
   },
   "outputs": [],
   "source": [
    "answer = \"42\"\n",
    "print(f\"Answer to the Ultimate Question of Life: {answer}\")"
   ]
  },
  {
   "cell_type": "code",
   "execution_count": null,
   "id": "5a451fa2",
   "metadata": {
    "slideshow": {
     "slide_type": "fragment"
    }
   },
   "outputs": [],
   "source": [
    "to_be = \"быть\"\n",
    "not_to_be = \"не быть\"\n",
    "print(f\"{to_be} или {not_to_be}, вот в чём вопрос...\")"
   ]
  },
  {
   "cell_type": "markdown",
   "id": "073ac098-c03b-4666-bfe6-f951fdaf81e3",
   "metadata": {
    "pycharm": {
     "name": "#%% md\n"
    },
    "slideshow": {
     "slide_type": "slide"
    }
   },
   "source": [
    "### str, срезы, подстроки"
   ]
  },
  {
   "cell_type": "code",
   "execution_count": null,
   "id": "20f63972-60e5-4440-b38d-88d28adb5ae7",
   "metadata": {
    "pycharm": {
     "name": "#%%\n"
    },
    "slideshow": {
     "slide_type": "subslide"
    }
   },
   "outputs": [],
   "source": [
    "string = \"Hello, world!\"\n",
    "character = string[10]  # нумерация начиная с 0\n",
    "sub_string = string[7:10]\n",
    "\n",
    "type(string), type(character), type(sub_string)"
   ]
  },
  {
   "cell_type": "code",
   "execution_count": null,
   "id": "8d7bac4c-636b-4c73-801e-7deb369b1a49",
   "metadata": {
    "pycharm": {
     "name": "#%%\n"
    },
    "slideshow": {
     "slide_type": "fragment"
    }
   },
   "outputs": [],
   "source": [
    "character, sub_string"
   ]
  },
  {
   "cell_type": "code",
   "execution_count": null,
   "id": "a415f74e",
   "metadata": {
    "slideshow": {
     "slide_type": "fragment"
    }
   },
   "outputs": [],
   "source": [
    "# Можно получить длину с помощью len\n",
    "string, len(string)"
   ]
  },
  {
   "cell_type": "code",
   "execution_count": null,
   "id": "f5ba6df5-41ad-41e4-b41e-a7fd1577fd4b",
   "metadata": {
    "pycharm": {
     "name": "#%%\n"
    },
    "slideshow": {
     "slide_type": "subslide"
    }
   },
   "outputs": [],
   "source": [
    "'закат' in poem"
   ]
  },
  {
   "cell_type": "code",
   "execution_count": null,
   "id": "0fe83878-5a5a-4a11-9981-866b95084080",
   "metadata": {
    "pycharm": {
     "name": "#%%\n"
    },
    "slideshow": {
     "slide_type": "subslide"
    }
   },
   "outputs": [],
   "source": [
    "string = \"Hello, world!\"\n",
    "print(string[-1])\n",
    "print(string[0])"
   ]
  },
  {
   "cell_type": "raw",
   "id": "60ac7f71",
   "metadata": {
    "slideshow": {
     "slide_type": "subslide"
    }
   },
   "source": [
    "+---+---+---+---+---+---+---+---+---+---+---+---+---+\n",
    "| H | e | l | l | o | , |   | w | o | r | l | d | ! |\n",
    "+---+---+---+---+---+---+---+---+---+---+---+---+---+\n",
    "  0   1   2   3   4   5   6   7   8   9  10  11  12\n",
    "-13 -12 -11 -10  -9  -8  -7  -6  -5  -4  -3  -2  -1\n",
    "\n",
    "Можно еще воспринимать так: \n",
    "-13 = len(\"Hello, world!\") - 13 == 0\n",
    "-1  = len(\"Hello, world!\") - 1  == 12"
   ]
  },
  {
   "cell_type": "code",
   "execution_count": null,
   "id": "ff687eaa-e13d-484b-9b87-518f7a957d01",
   "metadata": {
    "pycharm": {
     "name": "#%%\n"
    },
    "slideshow": {
     "slide_type": "fragment"
    }
   },
   "outputs": [],
   "source": [
    "print(string[:5])\n",
    "print(string[7:])\n",
    "print(string[4:8])\n",
    "print(string[-5:-1])"
   ]
  },
  {
   "cell_type": "code",
   "execution_count": null,
   "id": "da5c1d17-d334-47a0-8484-cef707c26966",
   "metadata": {
    "pycharm": {
     "name": "#%%\n"
    },
    "slideshow": {
     "slide_type": "subslide"
    }
   },
   "outputs": [],
   "source": [
    "print(string[::2])  # каждый второй символ\n",
    "print(string[::-1])  # строчка в обратном порядке\n",
    "\n",
    "# начни с 9го символа (o) и выведи каждый второй до 2го (e)\n",
    "print(string[8:1:-2])"
   ]
  },
  {
   "cell_type": "code",
   "execution_count": null,
   "id": "e033fc21",
   "metadata": {
    "slideshow": {
     "slide_type": "subslide"
    }
   },
   "outputs": [],
   "source": [
    "string[42]"
   ]
  },
  {
   "cell_type": "code",
   "execution_count": null,
   "id": "c76f67b3",
   "metadata": {
    "scrolled": true,
    "slideshow": {
     "slide_type": "fragment"
    }
   },
   "outputs": [],
   "source": [
    "string[42:]  # out of range срезы — можно"
   ]
  },
  {
   "cell_type": "markdown",
   "id": "24e1c922-fbe5-4de8-ab08-526cb70c4356",
   "metadata": {
    "pycharm": {
     "name": "#%% md\n"
    },
    "slideshow": {
     "slide_type": "slide"
    }
   },
   "source": [
    "### Строки, типы кавчек"
   ]
  },
  {
   "cell_type": "code",
   "execution_count": null,
   "id": "35ffda7f-1dfd-4071-a7fc-7206bad0c27b",
   "metadata": {
    "pycharm": {
     "name": "#%%\n"
    },
    "slideshow": {
     "slide_type": "subslide"
    }
   },
   "outputs": [],
   "source": [
    "os = \"Linux\"\n",
    "\n",
    "browser = 'Firefox'\n",
    "\n",
    "program = \"\"\"\n",
    "    function foo() {\n",
    "        echo 123\n",
    "    }\n",
    "\"\"\"\n",
    "\n",
    "zen = '''\n",
    "    ...\n",
    "    Beautiful is better than ugly.\n",
    "    Explicit is better than implicit.\n",
    "    ...\n",
    "'''\n",
    "os, browser, program, zen"
   ]
  },
  {
   "cell_type": "markdown",
   "id": "fd890afe-968d-492b-9151-5a81d698784f",
   "metadata": {
    "pycharm": {
     "name": "#%% md\n"
    },
    "slideshow": {
     "slide_type": "fragment"
    }
   },
   "source": [
    "<div class=\"alert alert-info\">\n",
    "    <b>Рекомендация:</b> стоит договариваться в своей команде о стиле – многим не нравится большое разнообразие кавычек\n",
    "</div>"
   ]
  },
  {
   "cell_type": "markdown",
   "id": "b20c4073-aa35-49ea-915b-0110b3dc5055",
   "metadata": {
    "pycharm": {
     "name": "#%% md\n"
    },
    "slideshow": {
     "slide_type": "slide"
    }
   },
   "source": [
    "### Перенос строковых литералов"
   ]
  },
  {
   "cell_type": "code",
   "execution_count": null,
   "id": "0783e29a",
   "metadata": {
    "slideshow": {
     "slide_type": "subslide"
    }
   },
   "outputs": [],
   "source": [
    "\"Wait,\" \"    \" \"what?!\""
   ]
  },
  {
   "cell_type": "code",
   "execution_count": null,
   "id": "dcb2cc32-d659-4b82-a0dc-9cbbb8f231e7",
   "metadata": {
    "pycharm": {
     "name": "#%%\n"
    },
    "slideshow": {
     "slide_type": "subslide"
    }
   },
   "outputs": [],
   "source": [
    "('Hello'\n",
    " ', world'\n",
    " '!')  "
   ]
  },
  {
   "cell_type": "code",
   "execution_count": null,
   "id": "28f4bff2-5b99-4540-8b61-cc59026e0044",
   "metadata": {
    "pycharm": {
     "name": "#%%\n"
    },
    "slideshow": {
     "slide_type": "subslide"
    }
   },
   "outputs": [],
   "source": [
    "'123' + \\\n",
    "    '456' + \\\n",
    "    '789'"
   ]
  },
  {
   "cell_type": "code",
   "execution_count": null,
   "id": "6f949827-8634-4f8f-888a-c5a2fabb8ccb",
   "metadata": {
    "pycharm": {
     "name": "#%%\n"
    },
    "slideshow": {
     "slide_type": "fragment"
    }
   },
   "outputs": [],
   "source": [
    "'123' \\\n",
    "    '456' \\\n",
    "    '789'"
   ]
  },
  {
   "cell_type": "markdown",
   "id": "ec081bd8-f395-4a1d-a732-7d4e1985f2ae",
   "metadata": {
    "pycharm": {
     "name": "#%% md\n"
    },
    "slideshow": {
     "slide_type": "slide"
    }
   },
   "source": [
    "### Конвертация типов – неявная"
   ]
  },
  {
   "cell_type": "code",
   "execution_count": null,
   "id": "cd7efd84-1cb3-4372-b7d7-902e142199be",
   "metadata": {
    "pycharm": {
     "name": "#%%\n"
    },
    "slideshow": {
     "slide_type": "subslide"
    }
   },
   "outputs": [],
   "source": [
    "# Q: Что получится?"
   ]
  },
  {
   "cell_type": "code",
   "execution_count": null,
   "id": "9f82ca07-f7b0-4fc5-82f3-2676ebfba083",
   "metadata": {
    "pycharm": {
     "name": "#%%\n"
    },
    "slideshow": {
     "slide_type": "fragment"
    }
   },
   "outputs": [],
   "source": [
    "True + 1"
   ]
  },
  {
   "cell_type": "code",
   "execution_count": null,
   "id": "2edead52-28fe-4d1d-b714-2df64602251c",
   "metadata": {
    "pycharm": {
     "name": "#%%\n"
    },
    "slideshow": {
     "slide_type": "fragment"
    }
   },
   "outputs": [],
   "source": [
    "1 + 1.0"
   ]
  },
  {
   "cell_type": "code",
   "execution_count": null,
   "id": "9473b351-4e1d-4304-80ce-d086cc45dd82",
   "metadata": {
    "pycharm": {
     "name": "#%%\n"
    },
    "slideshow": {
     "slide_type": "fragment"
    }
   },
   "outputs": [],
   "source": [
    "True + 1.0"
   ]
  },
  {
   "cell_type": "code",
   "execution_count": null,
   "id": "c748de5d-d59a-473d-88d5-5e94ac48711e",
   "metadata": {
    "pycharm": {
     "name": "#%%\n"
    },
    "slideshow": {
     "slide_type": "fragment"
    }
   },
   "outputs": [],
   "source": [
    "True == 1, \\\n",
    "    1.0 == 1, \\\n",
    "    \"1\" == 1"
   ]
  },
  {
   "cell_type": "markdown",
   "id": "ca92551c-e31c-4011-b387-623ed2465baa",
   "metadata": {
    "pycharm": {
     "name": "#%% md\n"
    },
    "slideshow": {
     "slide_type": "slide"
    }
   },
   "source": [
    "### Конвертация типов – явная"
   ]
  },
  {
   "cell_type": "code",
   "execution_count": null,
   "id": "9f921a4e",
   "metadata": {
    "slideshow": {
     "slide_type": "subslide"
    }
   },
   "outputs": [],
   "source": [
    "int(\"1001001\"), int(\"1001001\", base=2), 0b1001001"
   ]
  },
  {
   "cell_type": "code",
   "execution_count": null,
   "id": "f26adc98-61be-4b32-84cc-3c5ab21a6327",
   "metadata": {
    "pycharm": {
     "name": "#%%\n"
    },
    "slideshow": {
     "slide_type": "subslide"
    }
   },
   "outputs": [],
   "source": [
    "# Q: Что получится?"
   ]
  },
  {
   "cell_type": "code",
   "execution_count": null,
   "id": "c70599a3-7643-4a0c-9d3d-2960ea674e87",
   "metadata": {
    "pycharm": {
     "name": "#%%\n"
    },
    "slideshow": {
     "slide_type": "fragment"
    }
   },
   "outputs": [],
   "source": [
    "int(4.7), int(\"345\"), float(-7), float(\"1.4\")"
   ]
  },
  {
   "cell_type": "code",
   "execution_count": null,
   "id": "d246c7db-d6e2-4d8a-ac82-13190d78ec08",
   "metadata": {
    "pycharm": {
     "name": "#%%\n"
    },
    "slideshow": {
     "slide_type": "fragment"
    }
   },
   "outputs": [],
   "source": [
    "float(\"-inf\"), float(\"inf\"), float(\"nan\")"
   ]
  },
  {
   "cell_type": "code",
   "execution_count": null,
   "id": "a9227066",
   "metadata": {
    "slideshow": {
     "slide_type": "fragment"
    }
   },
   "outputs": [],
   "source": [
    "str(42), str(4.2), str(True)"
   ]
  },
  {
   "cell_type": "code",
   "execution_count": null,
   "id": "5ec37ac9-379e-46e4-bf64-8f2d6b9e3787",
   "metadata": {
    "pycharm": {
     "name": "#%%\n"
    },
    "slideshow": {
     "slide_type": "subslide"
    }
   },
   "outputs": [],
   "source": [
    "# Q: Что получится?"
   ]
  },
  {
   "cell_type": "code",
   "execution_count": null,
   "id": "75ec9240-e4bc-4bc7-b0fc-56ac17681b6e",
   "metadata": {
    "pycharm": {
     "name": "#%%\n"
    },
    "slideshow": {
     "slide_type": "fragment"
    }
   },
   "outputs": [],
   "source": [
    "bool(-2), bool(-1), bool(0), bool(1), bool(2)"
   ]
  },
  {
   "cell_type": "code",
   "execution_count": null,
   "id": "6a8571fe-320b-420a-8508-f360bfec3850",
   "metadata": {
    "pycharm": {
     "name": "#%%\n"
    },
    "slideshow": {
     "slide_type": "fragment"
    }
   },
   "outputs": [],
   "source": [
    "bool(-100.0), bool(0.0), bool(1000.0)"
   ]
  },
  {
   "cell_type": "code",
   "execution_count": null,
   "id": "73cf7cf1-de96-47af-9439-ba0ebda4ae2a",
   "metadata": {
    "pycharm": {
     "name": "#%%\n"
    },
    "slideshow": {
     "slide_type": "fragment"
    }
   },
   "outputs": [],
   "source": [
    "bool(-1j), bool(0j+0), bool(3j)"
   ]
  },
  {
   "cell_type": "code",
   "execution_count": null,
   "id": "662fea87-0265-40c3-8c91-a4891587d398",
   "metadata": {
    "pycharm": {
     "name": "#%%\n"
    },
    "scrolled": true,
    "slideshow": {
     "slide_type": "fragment"
    }
   },
   "outputs": [],
   "source": [
    "bool(\"\"), bool(\"True\"), bool(\"False\"), bool(\"0\")"
   ]
  },
  {
   "cell_type": "markdown",
   "id": "f2750c3a",
   "metadata": {
    "slideshow": {
     "slide_type": "slide"
    }
   },
   "source": [
    "### Функция input"
   ]
  },
  {
   "cell_type": "code",
   "execution_count": null,
   "id": "1e0336cf",
   "metadata": {
    "slideshow": {
     "slide_type": "subslide"
    }
   },
   "outputs": [],
   "source": [
    "phrase = input()\n",
    "print(phrase)"
   ]
  },
  {
   "cell_type": "code",
   "execution_count": null,
   "id": "66a1b092",
   "metadata": {
    "slideshow": {
     "slide_type": "subslide"
    }
   },
   "outputs": [],
   "source": [
    "phrase = input(\"Введите строку: \")\n",
    "print(phrase)"
   ]
  },
  {
   "cell_type": "code",
   "execution_count": null,
   "id": "8ac3634c",
   "metadata": {
    "slideshow": {
     "slide_type": "subslide"
    }
   },
   "outputs": [],
   "source": [
    "int_number = input()\n",
    "float_number = input()\n",
    "print(int_number + float_number)"
   ]
  },
  {
   "cell_type": "code",
   "execution_count": null,
   "id": "fafbdae5-4ece-4965-ab8d-0ea9c3fa1105",
   "metadata": {
    "slideshow": {
     "slide_type": "fragment"
    }
   },
   "outputs": [],
   "source": [
    "# Как надо:\n",
    "int_number = int(input())\n",
    "float_number = float(input())\n",
    "print(int_number + float_number)"
   ]
  }
 ],
 "metadata": {
  "celltoolbar": "Slideshow",
  "kernelspec": {
   "display_name": "Python [conda env:experim] *",
   "language": "python",
   "name": "conda-env-experim-py"
  },
  "language_info": {
   "codemirror_mode": {
    "name": "ipython",
    "version": 3
   },
   "file_extension": ".py",
   "mimetype": "text/x-python",
   "name": "python",
   "nbconvert_exporter": "python",
   "pygments_lexer": "ipython3",
   "version": "3.10.10"
  }
 },
 "nbformat": 4,
 "nbformat_minor": 5
}
