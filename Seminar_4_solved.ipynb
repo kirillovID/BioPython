{
 "cells": [
  {
   "cell_type": "markdown",
   "id": "635c54e9",
   "metadata": {
    "slideshow": {
     "slide_type": "slide"
    }
   },
   "source": [
    "# Задачи с последнего контеста"
   ]
  },
  {
   "cell_type": "markdown",
   "id": "293558ec",
   "metadata": {
    "slideshow": {
     "slide_type": "subslide"
    }
   },
   "source": [
    "## Штрих-код"
   ]
  },
  {
   "cell_type": "code",
   "execution_count": null,
   "id": "826c0a95",
   "metadata": {
    "slideshow": {
     "slide_type": "fragment"
    }
   },
   "outputs": [],
   "source": [
    "code = input()\n",
    "total = sum(map(int, code[::2])) + 3 * sum(map(int, code[1::2]))\n",
    "answer = \"yes\" if total % 10 == 0 else \"no\"\n",
    "print(answer)"
   ]
  },
  {
   "cell_type": "markdown",
   "id": "17b531fb",
   "metadata": {
    "slideshow": {
     "slide_type": "subslide"
    }
   },
   "source": [
    "## Гипотеза Коллатца"
   ]
  },
  {
   "cell_type": "code",
   "execution_count": null,
   "id": "e6d4e517",
   "metadata": {
    "slideshow": {
     "slide_type": "fragment"
    }
   },
   "outputs": [],
   "source": [
    "n = int(input())\n",
    "longest = 1\n",
    "longest_len = 0\n",
    "for i in range(2, n + 1):\n",
    "    a = i\n",
    "    i_len = 0\n",
    "    while a != 1:\n",
    "        if a % 2 == 0:\n",
    "            a /= 2\n",
    "        else:\n",
    "            a = 3*a + 1\n",
    "        i_len += 1\n",
    "    if longest_len < i_len:\n",
    "        longest = i\n",
    "        longest_len = i_len\n",
    "print(longest)"
   ]
  },
  {
   "cell_type": "markdown",
   "id": "435ea66e",
   "metadata": {
    "slideshow": {
     "slide_type": "subslide"
    }
   },
   "source": [
    "## Геном"
   ]
  },
  {
   "cell_type": "code",
   "execution_count": null,
   "id": "e781396d",
   "metadata": {
    "slideshow": {
     "slide_type": "fragment"
    }
   },
   "outputs": [],
   "source": [
    "first_genome = input()\n",
    "second_genome = input()\n",
    "second_genome_pairs = set()\n",
    "for i in range(len(second_genome) - 1):\n",
    "    second_genome_pairs.add(second_genome[i:i + 2])\n",
    "similarity = 0\n",
    "for i in range(len(first_genome) - 1):\n",
    "    pair = first_genome[i:i + 2]\n",
    "    if pair in second_genome_pairs:\n",
    "        similarity += 1\n",
    "print(similarity)"
   ]
  },
  {
   "cell_type": "markdown",
   "id": "6835b3d7",
   "metadata": {
    "slideshow": {
     "slide_type": "subslide"
    }
   },
   "source": [
    "## Фильтр"
   ]
  },
  {
   "cell_type": "code",
   "execution_count": null,
   "id": "babd4dcb",
   "metadata": {
    "slideshow": {
     "slide_type": "fragment"
    }
   },
   "outputs": [],
   "source": [
    "lst_a = list(map(int, input().split()))\n",
    "lst_b = list(map(int, input().split()))\n",
    "i = 0\n",
    "j = 0\n",
    "filtered = []\n",
    "while i < len(lst_a) and j < len(lst_b):\n",
    "    if lst_a[i] < lst_b[j]:\n",
    "        filtered.append(str(lst_a[i]))\n",
    "        i += 1\n",
    "    elif lst_a[i] == lst_b[j]:\n",
    "        i += 1\n",
    "        j += 1\n",
    "    else:\n",
    "        j += 1\n",
    "while i < len(lst_a):\n",
    "    filtered.append(str(lst_a[i]))\n",
    "    i += 1\n",
    "print(\" \".join(filtered))"
   ]
  },
  {
   "cell_type": "markdown",
   "id": "f564871b",
   "metadata": {
    "slideshow": {
     "slide_type": "subslide"
    }
   },
   "source": [
    "## Ёлки-палки"
   ]
  },
  {
   "cell_type": "code",
   "execution_count": null,
   "id": "059a2cee",
   "metadata": {
    "slideshow": {
     "slide_type": "fragment"
    }
   },
   "outputs": [],
   "source": [
    "n = int(input())\n",
    "current = 1\n",
    "row = 1\n",
    "tree = []\n",
    "max_len = 0\n",
    "while current <= n:\n",
    "    tree_row = []\n",
    "    for col in range(row):\n",
    "        tree_row.append(str(current))\n",
    "        current += 1\n",
    "        if current > n:\n",
    "            break\n",
    "    tree.append(\" \".join(tree_row))\n",
    "    max_len = max(max_len, len(tree[-1]))\n",
    "    row += 1\n",
    "for row in tree:\n",
    "    print(f\"{row: ^{max_len}}\")"
   ]
  },
  {
   "cell_type": "markdown",
   "id": "144c36e9",
   "metadata": {
    "slideshow": {
     "slide_type": "slide"
    }
   },
   "source": [
    "# Задачи на семинар"
   ]
  },
  {
   "cell_type": "markdown",
   "id": "e2d1adea",
   "metadata": {
    "slideshow": {
     "slide_type": "subslide"
    }
   },
   "source": [
    "## Упражнение 1"
   ]
  },
  {
   "cell_type": "markdown",
   "id": "e595839f",
   "metadata": {
    "slideshow": {
     "slide_type": "fragment"
    }
   },
   "source": [
    "Напишите функцию, которая получает на вход длинную последовательность ДНК и короткую и считает количество этих коротких последовательностей в длинной. Считать нужно и **пересекающиеся** вхождения."
   ]
  },
  {
   "cell_type": "code",
   "execution_count": null,
   "id": "aa49a0e3",
   "metadata": {},
   "outputs": [],
   "source": [
    "def count_subseqs(seq: str, subseq: str) -> int:\n",
    "    subseqs = []\n",
    "    for i in range(len(seq) - len(subseq) + 1):\n",
    "        subseqs.append(seq[i:i + len(subseq)])\n",
    "    return subseqs.count(subseq)"
   ]
  },
  {
   "cell_type": "code",
   "execution_count": null,
   "id": "5eb01a74",
   "metadata": {},
   "outputs": [],
   "source": [
    "def count_subseqs(seq: str, subseq: str) -> int:\n",
    "    counter = 0\n",
    "    while (index := seq.find(subseq)) != -1:\n",
    "        counter += 1\n",
    "        seq = seq[index + 1:]\n",
    "    return counter"
   ]
  },
  {
   "cell_type": "markdown",
   "id": "c0fd0acb",
   "metadata": {
    "slideshow": {
     "slide_type": "subslide"
    }
   },
   "source": [
    "## Упражнение 2"
   ]
  },
  {
   "cell_type": "markdown",
   "id": "dfeee0c7",
   "metadata": {
    "slideshow": {
     "slide_type": "fragment"
    }
   },
   "source": [
    "Напишите функцию, возвращающую обратно комплементарную последовательность ДНК."
   ]
  },
  {
   "cell_type": "code",
   "execution_count": null,
   "id": "bef057f9",
   "metadata": {
    "slideshow": {
     "slide_type": "fragment"
    }
   },
   "outputs": [],
   "source": [
    "def reverse_complement(seq: str) -> str:\n",
    "    nucl_pairs = {\"A\": \"T\",\n",
    "                  \"T\": \"A\",\n",
    "                  \"G\": \"C\",\n",
    "                  \"C\": \"G\"}\n",
    "    result_seq = \"\"\n",
    "    for nucl in reversed(seq):\n",
    "        result_seq += nucl_pairs[nucl]\n",
    "    return result_seq"
   ]
  },
  {
   "cell_type": "code",
   "execution_count": null,
   "id": "3e2a23ee",
   "metadata": {},
   "outputs": [],
   "source": [
    "def reverse_complement(seq: str) -> str:\n",
    "    nucl_pairs = str.maketrans({\"A\": \"T\",\n",
    "                                \"T\": \"A\",\n",
    "                                \"G\": \"C\",\n",
    "                                \"C\": \"G\"})\n",
    "    return seq.translate(nucl_pairs)[::-1]"
   ]
  },
  {
   "cell_type": "markdown",
   "id": "c73a1710",
   "metadata": {
    "slideshow": {
     "slide_type": "subslide"
    }
   },
   "source": [
    "## Упражнение 3"
   ]
  },
  {
   "cell_type": "markdown",
   "id": "5deccc27",
   "metadata": {
    "slideshow": {
     "slide_type": "fragment"
    }
   },
   "source": [
    "Напишите функцию, реализующую бинарный поиск."
   ]
  },
  {
   "cell_type": "code",
   "execution_count": null,
   "id": "6edac02e",
   "metadata": {
    "slideshow": {
     "slide_type": "fragment"
    }
   },
   "outputs": [],
   "source": [
    "def bin_search(nums_sorted: list[int], value: int) -> int:\n",
    "    left, right = 0, len(nums_sorted)  # [left, right)\n",
    "    while left < right:\n",
    "        middle = (left + right) // 2\n",
    "        if nums_sorted[middle] > value:\n",
    "            right = middle\n",
    "        elif nums_sorted[middle] < value:\n",
    "            left = middle + 1\n",
    "        else:\n",
    "            return middle\n",
    "    return -1"
   ]
  },
  {
   "cell_type": "code",
   "execution_count": null,
   "id": "1a803c50",
   "metadata": {},
   "outputs": [],
   "source": [
    "lst = sorted(list(range(10**8)) * 2)"
   ]
  },
  {
   "cell_type": "code",
   "execution_count": null,
   "id": "53598077",
   "metadata": {},
   "outputs": [],
   "source": [
    "%%timeit\n",
    "bin_search(lst, 10**7)"
   ]
  },
  {
   "cell_type": "code",
   "execution_count": null,
   "id": "4f05ec2c",
   "metadata": {},
   "outputs": [],
   "source": [
    "%%timeit\n",
    "lst.index(10**7)"
   ]
  },
  {
   "cell_type": "markdown",
   "id": "bf09ebac",
   "metadata": {
    "slideshow": {
     "slide_type": "subslide"
    }
   },
   "source": [
    "## Упражнение 4"
   ]
  },
  {
   "cell_type": "markdown",
   "id": "cb3de22a",
   "metadata": {},
   "source": [
    "Потренеруемся в лямбдах: \n",
    "\n",
    " - сортировка сначала по длине, а потом по значению;\n",
    " - сортировка по второму элементу, а потом по первому;"
   ]
  },
  {
   "cell_type": "code",
   "execution_count": null,
   "id": "5f19afe7",
   "metadata": {},
   "outputs": [],
   "source": [
    "some_list1 = [\"abc\", \"aaaa\", \"bb\"]\n",
    "some_list2 = [(1, 2), (5, 1), (3, 1), (2, 2)]"
   ]
  },
  {
   "cell_type": "code",
   "execution_count": null,
   "id": "fdace7e2",
   "metadata": {},
   "outputs": [],
   "source": [
    "sorted(some_list1, key=lambda x: (len(x), x))"
   ]
  },
  {
   "cell_type": "code",
   "execution_count": null,
   "id": "71e7e9aa",
   "metadata": {},
   "outputs": [],
   "source": [
    "sorted(some_list2, key=lambda x: (x[1], x[0]))"
   ]
  },
  {
   "cell_type": "markdown",
   "id": "67175841",
   "metadata": {
    "slideshow": {
     "slide_type": "subslide"
    }
   },
   "source": [
    "## Упражнение 5"
   ]
  },
  {
   "cell_type": "markdown",
   "id": "24ebcdf2",
   "metadata": {
    "slideshow": {
     "slide_type": "fragment"
    }
   },
   "source": [
    "Напишите функцию, которая считывает файл по его названию, и возвращает:\n",
    "\n",
    " - количество символов;\n",
    " - количество строк;\n",
    " - самую длинную строку;\n",
    " - количество слов.\n",
    " \n",
    "Формат возврата: словарь"
   ]
  },
  {
   "cell_type": "code",
   "execution_count": null,
   "id": "0bdbce06",
   "metadata": {
    "slideshow": {
     "slide_type": "fragment"
    }
   },
   "outputs": [],
   "source": [
    "def count_util(filename: str) -> dict[str, int]:\n",
    "    with open(filename) as file:\n",
    "        text = file.read()\n",
    "    info_dict = {}\n",
    "    info_dict[\"chars\"] = len(text)\n",
    "    info_dict[\"lines\"] = len(text.split(\"\\n\"))  # text.count(\"\\n\") + 1\n",
    "    info_dict[\"longest\"] = max(text.split(\"\\n\"), key=len)\n",
    "    info_dict[\"words\"] = len(text.split())\n",
    "    \n",
    "    return info_dict\n",
    "\n",
    "\n",
    "count_util(\"rnaseq.csv\")"
   ]
  },
  {
   "cell_type": "markdown",
   "id": "788aa92f",
   "metadata": {},
   "source": [
    "## Упражнение 6"
   ]
  },
  {
   "cell_type": "markdown",
   "id": "8ea02656",
   "metadata": {},
   "source": [
    "Напишите функцию, считающую факториал числа рекурсивно."
   ]
  },
  {
   "cell_type": "code",
   "execution_count": null,
   "id": "bbee9173",
   "metadata": {},
   "outputs": [],
   "source": [
    "def recursive_factorial(n: int) -> int:\n",
    "    if n in [0, 1]:\n",
    "        return 1\n",
    "    return n * recursive_factorial(n - 1)"
   ]
  }
 ],
 "metadata": {
  "celltoolbar": "Slideshow",
  "kernelspec": {
   "display_name": "Python 3 (ipykernel)",
   "language": "python",
   "name": "python3"
  },
  "language_info": {
   "codemirror_mode": {
    "name": "ipython",
    "version": 3
   },
   "file_extension": ".py",
   "mimetype": "text/x-python",
   "name": "python",
   "nbconvert_exporter": "python",
   "pygments_lexer": "ipython3",
   "version": "3.10.10"
  }
 },
 "nbformat": 4,
 "nbformat_minor": 5
}
