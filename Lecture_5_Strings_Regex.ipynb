{
 "cells": [
  {
   "cell_type": "markdown",
   "id": "cd82b152",
   "metadata": {
    "slideshow": {
     "slide_type": "slide"
    }
   },
   "source": [
    "# Начнем с теста (достаем листочки 😱)"
   ]
  },
  {
   "cell_type": "markdown",
   "id": "01da6146",
   "metadata": {
    "slideshow": {
     "slide_type": "subslide"
    }
   },
   "source": [
    "1. В определении любой функции должен быть написан хотя бы какой-то `return`. a) Да b) Нет\n",
    "2. Дана функция:\n",
    "```\n",
    "def func(name, age):\n",
    "    print(name, age)\n",
    "```\n",
    "Выберите все корректные вызовы функции, т.е. те, которые не приводят к ошибке:\n",
    " - a) `func(\"Kate\", \"30\")`\n",
    " - b) `func(age=30, \"Kate\")`\n",
    " - c) `func(name=\"Kate\", 30)`\n",
    " - d) `func(\"Kate\", age=\"30\")`\n",
    " - e) `func(30, \"Kate\")`\n",
    " - f) `func(*(\"Kate\", 30))`\n",
    " \n",
    "3. Выберите все такие заголовки объявления функции `func`, что вызовы `func(1, 2, 3)` и `func(1, 2, 3, 4, 5)` совершатся без ошибок:\n",
    "     - a) `def func(a, b, c, d, e):`\n",
    "     - b) `def func(a, b, c, *args):`\n",
    "     - c) `def func(a, b, c, *rest):`\n",
    "     - d) `def func(*all):`\n",
    "     - e) `def func(**kwargs):`\n",
    "     - f) `def func(a, b, c, d=4, e):`\n",
    "     - g) `def func(a=1, b=2, c=3, d=4, e=5, f=6):`\n",
    "     - h) `def func(a, b, *, c, d, e):`\n",
    "     \n",
    "4. Напишите название метода файлового объекта, который позволяет менять положение указателя, для последующих записи/чтения."
   ]
  },
  {
   "cell_type": "markdown",
   "id": "37d00b32",
   "metadata": {
    "pycharm": {
     "name": "#%% md\n"
    },
    "slideshow": {
     "slide_type": "slide"
    }
   },
   "source": [
    "<center>\n",
    "    <font>Анализ данных с использованием Python</font><br/>\n",
    "    <br/>\n",
    "    <br/>\n",
    "    <b style=\"font-size: 2em\">Работа с текстовыми данными</b><br/>\n",
    "    <br/>\n",
    "    <font>Иван Кириллов</font><br/>\n",
    "</center>"
   ]
  },
  {
   "cell_type": "markdown",
   "id": "f87dc553",
   "metadata": {
    "pycharm": {
     "name": "#%% md\n"
    },
    "slideshow": {
     "slide_type": "slide"
    }
   },
   "source": [
    "# Что мы научились делать к этому моменту"
   ]
  },
  {
   "cell_type": "markdown",
   "id": "44cc93fe",
   "metadata": {
    "pycharm": {
     "name": "#%% md\n"
    },
    "slideshow": {
     "slide_type": "slide"
    }
   },
   "source": [
    "## Встроенные методы str"
   ]
  },
  {
   "cell_type": "code",
   "execution_count": 3,
   "id": "f639b8be",
   "metadata": {
    "pycharm": {
     "name": "#%%\n"
    },
    "slideshow": {
     "slide_type": "fragment"
    }
   },
   "outputs": [
    {
     "name": "stdout",
     "output_type": "stream",
     "text": [
      "Some Sentence That Is Neither Very Long Nor Very Short\n",
      "2\n",
      "True False\n",
      "False True\n",
      "22\n",
      "['Some', 'sentence', 'that', 'is', 'neither', 'very', 'long', 'nor', 'very', 'short']\n",
      "['Some sentence that ', ' neither very long nor very short']\n"
     ]
    }
   ],
   "source": [
    "# Пара примеров\n",
    "\n",
    "some_string = \"Some sentence that is neither very long nor very short\"\n",
    "print(some_string.title())\n",
    "print(some_string.count(\"or\"))\n",
    "print(some_string.endswith(\"ort\"), some_string.endswith(\"Som\"))\n",
    "print(some_string.startswith(\"ort\"), some_string.startswith(\"Som\"))\n",
    "print(some_string.find(\"neither\"))\n",
    "print(some_string.split())\n",
    "print(some_string.split(\"is\"))"
   ]
  },
  {
   "cell_type": "code",
   "execution_count": 4,
   "id": "8dc596be",
   "metadata": {
    "slideshow": {
     "slide_type": "subslide"
    }
   },
   "outputs": [
    {
     "name": "stdout",
     "output_type": "stream",
     "text": [
      "False\n",
      "False False True\n",
      "True False False\n",
      "False True False\n"
     ]
    }
   ],
   "source": [
    "# Особо не касались на семинарах -- так что слегка новое\n",
    "# Можно проверять строку на содержание букв/чисел/пробелов\n",
    "\n",
    "some_string = \"123 \\n abc\"\n",
    "print(some_string.isalnum())\n",
    "print(some_string[:3].isalpha(), some_string[3:-3].isalpha(), some_string[-3:].isalpha())\n",
    "print(some_string[:3].isdigit(), some_string[3:-3].isdigit(), some_string[-3:].isdigit())\n",
    "print(some_string[:3].isspace(), some_string[3:-3].isspace(), some_string[-3:].isspace())"
   ]
  },
  {
   "cell_type": "code",
   "execution_count": 5,
   "id": "a2eb1174",
   "metadata": {
    "slideshow": {
     "slide_type": "subslide"
    }
   },
   "outputs": [
    {
     "name": "stdout",
     "output_type": "stream",
     "text": [
      "False False\n",
      "True False\n",
      "False True\n",
      "\n",
      "After lowering: upper \tislower: True\n",
      "After uppering: LOWER \tisupper: True\n",
      "\n",
      "Switching case: lowerUPPER --> LOWERupper\n"
     ]
    }
   ],
   "source": [
    "some_string = \"lowerUPPER\"\n",
    "print(some_string.islower(), some_string.isupper())\n",
    "print(some_string[:5].islower(), some_string[-5:].islower())\n",
    "print(some_string[:5].isupper(), some_string[-5:].isupper())\n",
    "print()\n",
    "print(\"After lowering:\", some_string[-5:].lower(), \"\\tislower:\", some_string[-5:].lower().islower())\n",
    "print(\"After uppering:\", some_string[:5].upper(), \"\\tisupper:\", some_string[:5].upper().isupper())\n",
    "print()\n",
    "print(\"Switching case:\", some_string, \"-->\", some_string.swapcase())"
   ]
  },
  {
   "cell_type": "code",
   "execution_count": 7,
   "id": "6c19a0ab",
   "metadata": {
    "slideshow": {
     "slide_type": "subslide"
    }
   },
   "outputs": [
    {
     "data": {
      "text/plain": [
       "'string1***string2***string3'"
      ]
     },
     "execution_count": 7,
     "metadata": {},
     "output_type": "execute_result"
    }
   ],
   "source": [
    "some_str_list = [\"string1\", \"string2\", \"string3\"]\n",
    "sep = \"***\"\n",
    "sep.join(some_str_list)"
   ]
  },
  {
   "cell_type": "code",
   "execution_count": 10,
   "id": "58c352d4",
   "metadata": {
    "scrolled": false,
    "slideshow": {
     "slide_type": "subslide"
    }
   },
   "outputs": [
    {
     "name": "stdout",
     "output_type": "stream",
     "text": [
      "spacious   ...   spacious...spacious\n",
      "example.com...www.example\n",
      "\n",
      "ee!\n",
      "three! ... Arthur: th\n"
     ]
    }
   ],
   "source": [
    "# Еще полезное: убираем ненужные вещи на концах строки\n",
    "\n",
    "print('   spacious   '.lstrip(), \"...\", '   spacious   '.rstrip(), \"...\", '   spacious   '.strip(), sep=\"\")\n",
    "print('www.example.com'.lstrip('cmowz.') + \"...\" + 'www.example.com'.rstrip('cmowz.'))\n",
    "print()\n",
    "\n",
    "# .(l|r)strip() убирает все символы аргумента, которые встретит на пути, пока не найдет отличающийся\n",
    "print('Arthur: three!'.lstrip('Arthur: '))\n",
    "\n",
    "# .remove(prefix|suffix)() убирает прямо строку целиком, если она есть\n",
    "print('Arthur: three!'.removeprefix('Arthur: '), \"...\", 'Arthur: three!'.removesuffix('ree!'))"
   ]
  },
  {
   "cell_type": "code",
   "execution_count": 11,
   "id": "bfd79eaa",
   "metadata": {
    "slideshow": {
     "slide_type": "subslide"
    }
   },
   "outputs": [
    {
     "name": "stdout",
     "output_type": "stream",
     "text": [
      "TGTTATTACTAG\n"
     ]
    }
   ],
   "source": [
    "# Перевод строк\n",
    "\n",
    "translate_dict = {'A': 'T', 'T': 'A', 'G': 'C', 'C': 'G'}\n",
    "table = str.maketrans(translate_dict)\n",
    "some_seq = \"ACAATAATGATC\"\n",
    "print(some_seq.translate(table))"
   ]
  },
  {
   "cell_type": "code",
   "execution_count": 12,
   "id": "27c6bfd5",
   "metadata": {
    "slideshow": {
     "slide_type": "subslide"
    }
   },
   "outputs": [
    {
     "ename": "ValueError",
     "evalue": "string keys in translate table must be of length 1",
     "output_type": "error",
     "traceback": [
      "\u001b[0;31m---------------------------------------------------------------------------\u001b[0m",
      "\u001b[0;31mValueError\u001b[0m                                Traceback (most recent call last)",
      "Cell \u001b[0;32mIn[12], line 4\u001b[0m\n\u001b[1;32m      1\u001b[0m \u001b[38;5;66;03m# К сожалению, исходная единица перевода должна быть длины 1\u001b[39;00m\n\u001b[1;32m      3\u001b[0m translate_dict \u001b[38;5;241m=\u001b[39m {\u001b[38;5;124m'\u001b[39m\u001b[38;5;124mATA\u001b[39m\u001b[38;5;124m'\u001b[39m: \u001b[38;5;124m'\u001b[39m\u001b[38;5;124mI\u001b[39m\u001b[38;5;124m'\u001b[39m, \u001b[38;5;124m'\u001b[39m\u001b[38;5;124mATC\u001b[39m\u001b[38;5;124m'\u001b[39m: \u001b[38;5;124m'\u001b[39m\u001b[38;5;124mI\u001b[39m\u001b[38;5;124m'\u001b[39m, \u001b[38;5;124m'\u001b[39m\u001b[38;5;124mATG\u001b[39m\u001b[38;5;124m'\u001b[39m: \u001b[38;5;124m'\u001b[39m\u001b[38;5;124mM\u001b[39m\u001b[38;5;124m'\u001b[39m, \u001b[38;5;124m'\u001b[39m\u001b[38;5;124mACA\u001b[39m\u001b[38;5;124m'\u001b[39m: \u001b[38;5;124m'\u001b[39m\u001b[38;5;124mT\u001b[39m\u001b[38;5;124m'\u001b[39m}\n\u001b[0;32m----> 4\u001b[0m table \u001b[38;5;241m=\u001b[39m \u001b[38;5;28;43mstr\u001b[39;49m\u001b[38;5;241;43m.\u001b[39;49m\u001b[43mmaketrans\u001b[49m\u001b[43m(\u001b[49m\u001b[43mtranslate_dict\u001b[49m\u001b[43m)\u001b[49m\n\u001b[1;32m      5\u001b[0m some_seq \u001b[38;5;241m=\u001b[39m \u001b[38;5;124m\"\u001b[39m\u001b[38;5;124mACAATAATGATC\u001b[39m\u001b[38;5;124m\"\u001b[39m\n\u001b[1;32m      6\u001b[0m \u001b[38;5;28mprint\u001b[39m(some_seq\u001b[38;5;241m.\u001b[39mtranslate(table))\n",
      "\u001b[0;31mValueError\u001b[0m: string keys in translate table must be of length 1"
     ]
    }
   ],
   "source": [
    "# К сожалению, исходная единица перевода должна быть длины 1\n",
    "\n",
    "translate_dict = {'ATA': 'I', 'ATC': 'I', 'ATG': 'M', 'ACA': 'T'}\n",
    "table = str.maketrans(translate_dict)\n",
    "some_seq = \"ACAATAATGATC\"\n",
    "print(some_seq.translate(table))"
   ]
  },
  {
   "cell_type": "markdown",
   "id": "e997c486",
   "metadata": {
    "slideshow": {
     "slide_type": "slide"
    }
   },
   "source": [
    "# Новое: модуль string"
   ]
  },
  {
   "cell_type": "code",
   "execution_count": 14,
   "id": "904d4482",
   "metadata": {
    "slideshow": {
     "slide_type": "subslide"
    }
   },
   "outputs": [
    {
     "name": "stdout",
     "output_type": "stream",
     "text": [
      "Все буквы: abcdefghijklmnopqrstuvwxyzABCDEFGHIJKLMNOPQRSTUVWXYZ\n",
      "Все буквы (нижний регистр): abcdefghijklmnopqrstuvwxyz\n",
      "Все буквы (верхний регистр): ABCDEFGHIJKLMNOPQRSTUVWXYZ\n",
      "Все цифры: 0123456789\n",
      "Все цифры (шестнадцатеричная система): 0123456789abcdefABCDEF\n",
      "Все цифры (восьмеричная система): 01234567\n",
      "Вся пунктуация: !\"#$%&'()*+,-./:;<=>?@[\\]^_`{|}~\n",
      "Все пробельные: ' \\t\\n\\r\\x0b\\x0c'\n",
      "Все принтуемые (просто комбинация того, что выше):\n",
      " '0123456789abcdefghijklmnopqrstuvwxyzABCDEFGHIJKLMNOPQRSTUVWXYZ!\"#$%&\\'()*+,-./:;<=>?@[\\\\]^_`{|}~ \\t\\n\\r\\x0b\\x0c'\n"
     ]
    }
   ],
   "source": [
    "# Чтобы не писать все нужные символы руками -- есть констаны\n",
    "\n",
    "import string\n",
    "\n",
    "print(f\"Все буквы:\", string.ascii_letters)\n",
    "print(f\"Все буквы (нижний регистр):\", string.ascii_lowercase)\n",
    "print(f\"Все буквы (верхний регистр):\", string.ascii_uppercase)\n",
    "print(f\"Все цифры:\", string.digits)\n",
    "print(f\"Все цифры (шестнадцатеричная система):\", string.hexdigits)\n",
    "print(f\"Все цифры (восьмеричная система):\", string.octdigits)\n",
    "print(f\"Вся пунктуация:\", string.punctuation)\n",
    "print(f\"Все пробельные:\", repr(string.whitespace))\n",
    "print(f\"Все принтуемые (просто комбинация того, что выше):\\n\", repr(string.printable))"
   ]
  },
  {
   "cell_type": "markdown",
   "id": "180fd385",
   "metadata": {
    "slideshow": {
     "slide_type": "slide"
    }
   },
   "source": [
    "## Лирическое отступление про модули\n",
    "\n",
    "Представьте, что вам надо написать большую программу, использующую огромное количество функций (которые вы написали ранее). Неудобно каждый раз эти функции копировать (по сути, объявлять) в очередной файл, чтобы иметь к ним доступ.\n",
    "\n",
    "\n",
    "Так вот модули решают эту проблему: в специальных файлах `.py` содержится этот самый модуль (просто какое-то количество определений функций) в определенном формате. И когда вы пишете `import <module_name>`, ваша программа находит этот специальный файл `<module_name>.py` (условно: в реальности может быть сложнее), и как бы запоминает все функции, которые там написаны.\n",
    "\n",
    "\n",
    "А чтобы не засорять этими функциями ваше глобальное пространство имен (все ваши собственные функции, переменные), тем более, что могут случиться конфликты названий, доступ к этим функциям из модуля дается через `<module_name>.<some_module_function>`"
   ]
  },
  {
   "cell_type": "code",
   "execution_count": 15,
   "id": "1397a4b0",
   "metadata": {
    "slideshow": {
     "slide_type": "subslide"
    }
   },
   "outputs": [
    {
     "data": {
      "text/plain": [
       "0.0"
      ]
     },
     "execution_count": 15,
     "metadata": {},
     "output_type": "execute_result"
    }
   ],
   "source": [
    "# Примеры импортирования\n",
    "\n",
    "# Самый частый и простой\n",
    "import math\n",
    "\n",
    "math.acos(1)"
   ]
  },
  {
   "cell_type": "code",
   "execution_count": 16,
   "id": "1d5d4969",
   "metadata": {
    "slideshow": {
     "slide_type": "fragment"
    }
   },
   "outputs": [
    {
     "data": {
      "text/plain": [
       "0.0"
      ]
     },
     "execution_count": 16,
     "metadata": {},
     "output_type": "execute_result"
    }
   ],
   "source": [
    "# Если нужна всего лишь пара функций\n",
    "from math import acos, asin  # в этом случае функции у вас так и объявятся в программе: acos/asin\n",
    "                             # а не math.acos/math.asin как первом случае\n",
    "acos(1)"
   ]
  },
  {
   "cell_type": "code",
   "execution_count": 17,
   "id": "027bfc04",
   "metadata": {
    "slideshow": {
     "slide_type": "subslide"
    }
   },
   "outputs": [
    {
     "data": {
      "text/plain": [
       "0.0"
      ]
     },
     "execution_count": 17,
     "metadata": {},
     "output_type": "execute_result"
    }
   ],
   "source": [
    "# Можно присвоить модулю другое имя (например, более краткое)\n",
    "import numpy as np\n",
    "\n",
    "np.arccos(1)"
   ]
  },
  {
   "cell_type": "code",
   "execution_count": 19,
   "id": "09aa5a30",
   "metadata": {
    "slideshow": {
     "slide_type": "fragment"
    }
   },
   "outputs": [
    {
     "data": {
      "text/plain": [
       "0.0"
      ]
     },
     "execution_count": 19,
     "metadata": {},
     "output_type": "execute_result"
    }
   ],
   "source": [
    "# А можно присвоить импортируемому объекту другое имя\n",
    "from numpy import arccos as acos\n",
    "\n",
    "acos(1)"
   ]
  },
  {
   "cell_type": "code",
   "execution_count": 20,
   "id": "f3df6f31",
   "metadata": {
    "slideshow": {
     "slide_type": "subslide"
    }
   },
   "outputs": [
    {
     "name": "stdout",
     "output_type": "stream",
     "text": [
      "['In', 'Out', '_', '_15', '_16', '_17', '_18', '_19', '_6', '_7', '__', '___', '__builtin__', '__builtins__', '__doc__', '__loader__', '__name__', '__package__', '__session__', '__spec__', '_dh', '_i', '_i1', '_i10', '_i11', '_i12', '_i13', '_i14', '_i15', '_i16', '_i17', '_i18', '_i19', '_i2', '_i20', '_i3', '_i4', '_i5', '_i6', '_i7', '_i8', '_i9', '_ih', '_ii', '_iii', '_oh', 'acos', 'asin', 'autopep8', 'exit', 'func', 'get_ipython', 'json', 'math', 'np', 'open', 'quit', 'sep', 'some_seq', 'some_str_list', 'some_string', 'string', 'table', 'translate_dict', 'yapf_reformat']\n"
     ]
    }
   ],
   "source": [
    "# Как посмотреть, что вы вообще наопределяли в своем текущем пространстве:\n",
    "#     If called without an argument, return the names in the current scope.\n",
    "print(dir())"
   ]
  },
  {
   "cell_type": "code",
   "execution_count": 21,
   "id": "923edb37",
   "metadata": {
    "scrolled": true,
    "slideshow": {
     "slide_type": "subslide"
    }
   },
   "outputs": [
    {
     "name": "stdout",
     "output_type": "stream",
     "text": [
      "['ArithmeticError', 'AssertionError', 'AttributeError', 'BaseException', 'BlockingIOError', 'BrokenPipeError', 'BufferError', 'BytesWarning', 'ChildProcessError', 'ConnectionAbortedError', 'ConnectionError', 'ConnectionRefusedError', 'ConnectionResetError', 'DeprecationWarning', 'EOFError', 'Ellipsis', 'EncodingWarning', 'EnvironmentError', 'Exception', 'False', 'FileExistsError', 'FileNotFoundError', 'FloatingPointError', 'FutureWarning', 'GeneratorExit', 'IOError', 'ImportError', 'ImportWarning', 'IndentationError', 'IndexError', 'InterruptedError', 'IsADirectoryError', 'KeyError', 'KeyboardInterrupt', 'LookupError', 'MemoryError', 'ModuleNotFoundError', 'NameError', 'None', 'NotADirectoryError', 'NotImplemented', 'NotImplementedError', 'OSError', 'OverflowError', 'PendingDeprecationWarning', 'PermissionError', 'ProcessLookupError', 'RecursionError', 'ReferenceError', 'ResourceWarning', 'RuntimeError', 'RuntimeWarning', 'StopAsyncIteration', 'StopIteration', 'SyntaxError', 'SyntaxWarning', 'SystemError', 'SystemExit', 'TabError', 'TimeoutError', 'True', 'TypeError', 'UnboundLocalError', 'UnicodeDecodeError', 'UnicodeEncodeError', 'UnicodeError', 'UnicodeTranslateError', 'UnicodeWarning', 'UserWarning', 'ValueError', 'Warning', 'ZeroDivisionError', '__IPYTHON__', '__build_class__', '__debug__', '__doc__', '__import__', '__loader__', '__name__', '__package__', '__spec__', 'abs', 'aiter', 'all', 'anext', 'any', 'ascii', 'bin', 'bool', 'breakpoint', 'bytearray', 'bytes', 'callable', 'chr', 'classmethod', 'compile', 'complex', 'copyright', 'credits', 'delattr', 'dict', 'dir', 'display', 'divmod', 'enumerate', 'eval', 'exec', 'execfile', 'filter', 'float', 'format', 'frozenset', 'get_ipython', 'getattr', 'globals', 'hasattr', 'hash', 'help', 'hex', 'id', 'input', 'int', 'isinstance', 'issubclass', 'iter', 'len', 'license', 'list', 'locals', 'map', 'max', 'memoryview', 'min', 'next', 'object', 'oct', 'open', 'ord', 'pow', 'print', 'property', 'range', 'repr', 'reversed', 'round', 'runfile', 'set', 'setattr', 'slice', 'sorted', 'staticmethod', 'str', 'sum', 'super', 'tuple', 'type', 'vars', 'zip']\n"
     ]
    }
   ],
   "source": [
    "# И можно посмотреть встроенные вещи\n",
    "import builtins\n",
    "\n",
    "print(dir(builtins))"
   ]
  },
  {
   "cell_type": "markdown",
   "id": "48ec9997",
   "metadata": {
    "pycharm": {
     "name": "#%% md\n"
    },
    "slideshow": {
     "slide_type": "slide"
    }
   },
   "source": [
    "# [Регулярные выражения (регулярки/regexes)](https://ru.wikipedia.org/wiki/%D0%A0%D0%B5%D0%B3%D1%83%D0%BB%D1%8F%D1%80%D0%BD%D1%8B%D0%B5_%D0%B2%D1%8B%D1%80%D0%B0%D0%B6%D0%B5%D0%BD%D0%B8%D1%8F)\n",
    "\n",
    "Специального вида шаблоны, которые помогают вам отловить нужную часть в тексте. Казалось бы, у вас есть `some_string.find(some_substring)`, зачем еще что-то? Представьте ситуацию, когда вы хотите найти в последовательности какой-то мотив: если он выглядит не особенно однозначно (первая буква такая-то, вторая и третья могут быть любыми, кроме какой-то одной определенной, и т.д.). Сразу же появляется ощущение, что обычными питоновскими средствами это будет нетривиально сделать"
   ]
  },
  {
   "cell_type": "code",
   "execution_count": 23,
   "id": "28f5ea42",
   "metadata": {
    "scrolled": true,
    "slideshow": {
     "slide_type": "subslide"
    }
   },
   "outputs": [
    {
     "name": "stdout",
     "output_type": "stream",
     "text": [
      "Help on module re:\n",
      "\n",
      "NAME\n",
      "    re - Support for regular expressions (RE).\n",
      "\n",
      "MODULE REFERENCE\n",
      "    https://docs.python.org/3.10/library/re.html\n",
      "    \n",
      "    The following documentation is automatically generated from the Python\n",
      "    source files.  It may be incomplete, incorrect or include features that\n",
      "    are considered implementation detail and may vary between Python\n",
      "    implementations.  When in doubt, consult the module reference at the\n",
      "    location listed above.\n",
      "\n",
      "DESCRIPTION\n",
      "    This module provides regular expression matching operations similar to\n",
      "    those found in Perl.  It supports both 8-bit and Unicode strings; both\n",
      "    the pattern and the strings being processed can contain null bytes and\n",
      "    characters outside the US ASCII range.\n",
      "    \n",
      "    Regular expressions can contain both special and ordinary characters.\n",
      "    Most ordinary characters, like \"A\", \"a\", or \"0\", are the simplest\n",
      "    regular expressions; they simply match themselves.  You can\n",
      "    concatenate ordinary characters, so last matches the string 'last'.\n",
      "    \n",
      "    The special characters are:\n",
      "        \".\"      Matches any character except a newline.\n",
      "        \"^\"      Matches the start of the string.\n",
      "        \"$\"      Matches the end of the string or just before the newline at\n",
      "                 the end of the string.\n",
      "        \"*\"      Matches 0 or more (greedy) repetitions of the preceding RE.\n",
      "                 Greedy means that it will match as many repetitions as possible.\n",
      "        \"+\"      Matches 1 or more (greedy) repetitions of the preceding RE.\n",
      "        \"?\"      Matches 0 or 1 (greedy) of the preceding RE.\n",
      "        *?,+?,?? Non-greedy versions of the previous three special characters.\n",
      "        {m,n}    Matches from m to n repetitions of the preceding RE.\n",
      "        {m,n}?   Non-greedy version of the above.\n",
      "        \"\\\\\"     Either escapes special characters or signals a special sequence.\n",
      "        []       Indicates a set of characters.\n",
      "                 A \"^\" as the first character indicates a complementing set.\n",
      "        \"|\"      A|B, creates an RE that will match either A or B.\n",
      "        (...)    Matches the RE inside the parentheses.\n",
      "                 The contents can be retrieved or matched later in the string.\n",
      "        (?aiLmsux) The letters set the corresponding flags defined below.\n",
      "        (?:...)  Non-grouping version of regular parentheses.\n",
      "        (?P<name>...) The substring matched by the group is accessible by name.\n",
      "        (?P=name)     Matches the text matched earlier by the group named name.\n",
      "        (?#...)  A comment; ignored.\n",
      "        (?=...)  Matches if ... matches next, but doesn't consume the string.\n",
      "        (?!...)  Matches if ... doesn't match next.\n",
      "        (?<=...) Matches if preceded by ... (must be fixed length).\n",
      "        (?<!...) Matches if not preceded by ... (must be fixed length).\n",
      "        (?(id/name)yes|no) Matches yes pattern if the group with id/name matched,\n",
      "                           the (optional) no pattern otherwise.\n",
      "    \n",
      "    The special sequences consist of \"\\\\\" and a character from the list\n",
      "    below.  If the ordinary character is not on the list, then the\n",
      "    resulting RE will match the second character.\n",
      "        \\number  Matches the contents of the group of the same number.\n",
      "        \\A       Matches only at the start of the string.\n",
      "        \\Z       Matches only at the end of the string.\n",
      "        \\b       Matches the empty string, but only at the start or end of a word.\n",
      "        \\B       Matches the empty string, but not at the start or end of a word.\n",
      "        \\d       Matches any decimal digit; equivalent to the set [0-9] in\n",
      "                 bytes patterns or string patterns with the ASCII flag.\n",
      "                 In string patterns without the ASCII flag, it will match the whole\n",
      "                 range of Unicode digits.\n",
      "        \\D       Matches any non-digit character; equivalent to [^\\d].\n",
      "        \\s       Matches any whitespace character; equivalent to [ \\t\\n\\r\\f\\v] in\n",
      "                 bytes patterns or string patterns with the ASCII flag.\n",
      "                 In string patterns without the ASCII flag, it will match the whole\n",
      "                 range of Unicode whitespace characters.\n",
      "        \\S       Matches any non-whitespace character; equivalent to [^\\s].\n",
      "        \\w       Matches any alphanumeric character; equivalent to [a-zA-Z0-9_]\n",
      "                 in bytes patterns or string patterns with the ASCII flag.\n",
      "                 In string patterns without the ASCII flag, it will match the\n",
      "                 range of Unicode alphanumeric characters (letters plus digits\n",
      "                 plus underscore).\n",
      "                 With LOCALE, it will match the set [0-9_] plus characters defined\n",
      "                 as letters for the current locale.\n",
      "        \\W       Matches the complement of \\w.\n",
      "        \\\\       Matches a literal backslash.\n",
      "    \n",
      "    This module exports the following functions:\n",
      "        match     Match a regular expression pattern to the beginning of a string.\n",
      "        fullmatch Match a regular expression pattern to all of a string.\n",
      "        search    Search a string for the presence of a pattern.\n",
      "        sub       Substitute occurrences of a pattern found in a string.\n",
      "        subn      Same as sub, but also return the number of substitutions made.\n",
      "        split     Split a string by the occurrences of a pattern.\n",
      "        findall   Find all occurrences of a pattern in a string.\n",
      "        finditer  Return an iterator yielding a Match object for each match.\n",
      "        compile   Compile a pattern into a Pattern object.\n",
      "        purge     Clear the regular expression cache.\n",
      "        escape    Backslash all non-alphanumerics in a string.\n",
      "    \n",
      "    Each function other than purge and escape can take an optional 'flags' argument\n",
      "    consisting of one or more of the following module constants, joined by \"|\".\n",
      "    A, L, and U are mutually exclusive.\n",
      "        A  ASCII       For string patterns, make \\w, \\W, \\b, \\B, \\d, \\D\n",
      "                       match the corresponding ASCII character categories\n",
      "                       (rather than the whole Unicode categories, which is the\n",
      "                       default).\n",
      "                       For bytes patterns, this flag is the only available\n",
      "                       behaviour and needn't be specified.\n",
      "        I  IGNORECASE  Perform case-insensitive matching.\n",
      "        L  LOCALE      Make \\w, \\W, \\b, \\B, dependent on the current locale.\n",
      "        M  MULTILINE   \"^\" matches the beginning of lines (after a newline)\n",
      "                       as well as the string.\n",
      "                       \"$\" matches the end of lines (before a newline) as well\n",
      "                       as the end of the string.\n",
      "        S  DOTALL      \".\" matches any character at all, including the newline.\n",
      "        X  VERBOSE     Ignore whitespace and comments for nicer looking RE's.\n",
      "        U  UNICODE     For compatibility only. Ignored for string patterns (it\n",
      "                       is the default), and forbidden for bytes patterns.\n",
      "    \n",
      "    This module also defines an exception 'error'.\n",
      "\n",
      "CLASSES\n",
      "    builtins.Exception(builtins.BaseException)\n",
      "        error\n",
      "    builtins.object\n",
      "        Match\n",
      "        Pattern\n",
      "    \n",
      "    class Match(builtins.object)\n",
      "     |  The result of re.match() and re.search().\n",
      "     |  Match objects always have a boolean value of True.\n",
      "     |  \n",
      "     |  Methods defined here:\n",
      "     |  \n",
      "     |  __copy__(self, /)\n",
      "     |  \n",
      "     |  __deepcopy__(self, memo, /)\n",
      "     |  \n",
      "     |  __getitem__(self, key, /)\n",
      "     |      Return self[key].\n",
      "     |  \n",
      "     |  __repr__(self, /)\n",
      "     |      Return repr(self).\n",
      "     |  \n",
      "     |  end(self, group=0, /)\n",
      "     |      Return index of the end of the substring matched by group.\n",
      "     |  \n",
      "     |  expand(self, /, template)\n",
      "     |      Return the string obtained by doing backslash substitution on the string template, as done by the sub() method.\n",
      "     |  \n",
      "     |  group(...)\n",
      "     |      group([group1, ...]) -> str or tuple.\n",
      "     |      Return subgroup(s) of the match by indices or names.\n",
      "     |      For 0 returns the entire match.\n",
      "     |  \n",
      "     |  groupdict(self, /, default=None)\n",
      "     |      Return a dictionary containing all the named subgroups of the match, keyed by the subgroup name.\n",
      "     |      \n",
      "     |      default\n",
      "     |        Is used for groups that did not participate in the match.\n",
      "     |  \n",
      "     |  groups(self, /, default=None)\n",
      "     |      Return a tuple containing all the subgroups of the match, from 1.\n",
      "     |      \n",
      "     |      default\n",
      "     |        Is used for groups that did not participate in the match.\n",
      "     |  \n",
      "     |  span(self, group=0, /)\n",
      "     |      For match object m, return the 2-tuple (m.start(group), m.end(group)).\n",
      "     |  \n",
      "     |  start(self, group=0, /)\n",
      "     |      Return index of the start of the substring matched by group.\n",
      "     |  \n",
      "     |  ----------------------------------------------------------------------\n",
      "     |  Class methods defined here:\n",
      "     |  \n",
      "     |  __class_getitem__(...) from builtins.type\n",
      "     |      See PEP 585\n",
      "     |  \n",
      "     |  ----------------------------------------------------------------------\n",
      "     |  Data descriptors defined here:\n",
      "     |  \n",
      "     |  endpos\n",
      "     |      The index into the string beyond which the RE engine will not go.\n",
      "     |  \n",
      "     |  lastgroup\n",
      "     |      The name of the last matched capturing group.\n",
      "     |  \n",
      "     |  lastindex\n",
      "     |      The integer index of the last matched capturing group.\n",
      "     |  \n",
      "     |  pos\n",
      "     |      The index into the string at which the RE engine started looking for a match.\n",
      "     |  \n",
      "     |  re\n",
      "     |      The regular expression object.\n",
      "     |  \n",
      "     |  regs\n",
      "     |  \n",
      "     |  string\n",
      "     |      The string passed to match() or search().\n",
      "    \n",
      "    class Pattern(builtins.object)\n",
      "     |  Compiled regular expression object.\n",
      "     |  \n",
      "     |  Methods defined here:\n",
      "     |  \n",
      "     |  __copy__(self, /)\n",
      "     |  \n",
      "     |  __deepcopy__(self, memo, /)\n",
      "     |  \n",
      "     |  __eq__(self, value, /)\n",
      "     |      Return self==value.\n",
      "     |  \n",
      "     |  __ge__(self, value, /)\n",
      "     |      Return self>=value.\n",
      "     |  \n",
      "     |  __gt__(self, value, /)\n",
      "     |      Return self>value.\n",
      "     |  \n",
      "     |  __hash__(self, /)\n",
      "     |      Return hash(self).\n",
      "     |  \n",
      "     |  __le__(self, value, /)\n",
      "     |      Return self<=value.\n",
      "     |  \n",
      "     |  __lt__(self, value, /)\n",
      "     |      Return self<value.\n",
      "     |  \n",
      "     |  __ne__(self, value, /)\n",
      "     |      Return self!=value.\n",
      "     |  \n",
      "     |  __repr__(self, /)\n",
      "     |      Return repr(self).\n",
      "     |  \n",
      "     |  findall(self, /, string, pos=0, endpos=9223372036854775807)\n",
      "     |      Return a list of all non-overlapping matches of pattern in string.\n",
      "     |  \n",
      "     |  finditer(self, /, string, pos=0, endpos=9223372036854775807)\n",
      "     |      Return an iterator over all non-overlapping matches for the RE pattern in string.\n",
      "     |      \n",
      "     |      For each match, the iterator returns a match object.\n",
      "     |  \n",
      "     |  fullmatch(self, /, string, pos=0, endpos=9223372036854775807)\n",
      "     |      Matches against all of the string.\n",
      "     |  \n",
      "     |  match(self, /, string, pos=0, endpos=9223372036854775807)\n",
      "     |      Matches zero or more characters at the beginning of the string.\n",
      "     |  \n",
      "     |  scanner(self, /, string, pos=0, endpos=9223372036854775807)\n",
      "     |  \n",
      "     |  search(self, /, string, pos=0, endpos=9223372036854775807)\n",
      "     |      Scan through string looking for a match, and return a corresponding match object instance.\n",
      "     |      \n",
      "     |      Return None if no position in the string matches.\n",
      "     |  \n",
      "     |  split(self, /, string, maxsplit=0)\n",
      "     |      Split string by the occurrences of pattern.\n",
      "     |  \n",
      "     |  sub(self, /, repl, string, count=0)\n",
      "     |      Return the string obtained by replacing the leftmost non-overlapping occurrences of pattern in string by the replacement repl.\n",
      "     |  \n",
      "     |  subn(self, /, repl, string, count=0)\n",
      "     |      Return the tuple (new_string, number_of_subs_made) found by replacing the leftmost non-overlapping occurrences of pattern with the replacement repl.\n",
      "     |  \n",
      "     |  ----------------------------------------------------------------------\n",
      "     |  Class methods defined here:\n",
      "     |  \n",
      "     |  __class_getitem__(...) from builtins.type\n",
      "     |      See PEP 585\n",
      "     |  \n",
      "     |  ----------------------------------------------------------------------\n",
      "     |  Data descriptors defined here:\n",
      "     |  \n",
      "     |  flags\n",
      "     |      The regex matching flags.\n",
      "     |  \n",
      "     |  groupindex\n",
      "     |      A dictionary mapping group names to group numbers.\n",
      "     |  \n",
      "     |  groups\n",
      "     |      The number of capturing groups in the pattern.\n",
      "     |  \n",
      "     |  pattern\n",
      "     |      The pattern string from which the RE object was compiled.\n",
      "    \n",
      "    class error(builtins.Exception)\n",
      "     |  error(msg, pattern=None, pos=None)\n",
      "     |  \n",
      "     |  Exception raised for invalid regular expressions.\n",
      "     |  \n",
      "     |  Attributes:\n",
      "     |  \n",
      "     |      msg: The unformatted error message\n",
      "     |      pattern: The regular expression pattern\n",
      "     |      pos: The index in the pattern where compilation failed (may be None)\n",
      "     |      lineno: The line corresponding to pos (may be None)\n",
      "     |      colno: The column corresponding to pos (may be None)\n",
      "     |  \n",
      "     |  Method resolution order:\n",
      "     |      error\n",
      "     |      builtins.Exception\n",
      "     |      builtins.BaseException\n",
      "     |      builtins.object\n",
      "     |  \n",
      "     |  Methods defined here:\n",
      "     |  \n",
      "     |  __init__(self, msg, pattern=None, pos=None)\n",
      "     |      Initialize self.  See help(type(self)) for accurate signature.\n",
      "     |  \n",
      "     |  ----------------------------------------------------------------------\n",
      "     |  Data descriptors defined here:\n",
      "     |  \n",
      "     |  __weakref__\n",
      "     |      list of weak references to the object (if defined)\n",
      "     |  \n",
      "     |  ----------------------------------------------------------------------\n",
      "     |  Static methods inherited from builtins.Exception:\n",
      "     |  \n",
      "     |  __new__(*args, **kwargs) from builtins.type\n",
      "     |      Create and return a new object.  See help(type) for accurate signature.\n",
      "     |  \n",
      "     |  ----------------------------------------------------------------------\n",
      "     |  Methods inherited from builtins.BaseException:\n",
      "     |  \n",
      "     |  __delattr__(self, name, /)\n",
      "     |      Implement delattr(self, name).\n",
      "     |  \n",
      "     |  __getattribute__(self, name, /)\n",
      "     |      Return getattr(self, name).\n",
      "     |  \n",
      "     |  __reduce__(...)\n",
      "     |      Helper for pickle.\n",
      "     |  \n",
      "     |  __repr__(self, /)\n",
      "     |      Return repr(self).\n",
      "     |  \n",
      "     |  __setattr__(self, name, value, /)\n",
      "     |      Implement setattr(self, name, value).\n",
      "     |  \n",
      "     |  __setstate__(...)\n",
      "     |  \n",
      "     |  __str__(self, /)\n",
      "     |      Return str(self).\n",
      "     |  \n",
      "     |  with_traceback(...)\n",
      "     |      Exception.with_traceback(tb) --\n",
      "     |      set self.__traceback__ to tb and return self.\n",
      "     |  \n",
      "     |  ----------------------------------------------------------------------\n",
      "     |  Data descriptors inherited from builtins.BaseException:\n",
      "     |  \n",
      "     |  __cause__\n",
      "     |      exception cause\n",
      "     |  \n",
      "     |  __context__\n",
      "     |      exception context\n",
      "     |  \n",
      "     |  __dict__\n",
      "     |  \n",
      "     |  __suppress_context__\n",
      "     |  \n",
      "     |  __traceback__\n",
      "     |  \n",
      "     |  args\n",
      "\n",
      "FUNCTIONS\n",
      "    compile(pattern, flags=0)\n",
      "        Compile a regular expression pattern, returning a Pattern object.\n",
      "    \n",
      "    escape(pattern)\n",
      "        Escape special characters in a string.\n",
      "    \n",
      "    findall(pattern, string, flags=0)\n",
      "        Return a list of all non-overlapping matches in the string.\n",
      "        \n",
      "        If one or more capturing groups are present in the pattern, return\n",
      "        a list of groups; this will be a list of tuples if the pattern\n",
      "        has more than one group.\n",
      "        \n",
      "        Empty matches are included in the result.\n",
      "    \n",
      "    finditer(pattern, string, flags=0)\n",
      "        Return an iterator over all non-overlapping matches in the\n",
      "        string.  For each match, the iterator returns a Match object.\n",
      "        \n",
      "        Empty matches are included in the result.\n",
      "    \n",
      "    fullmatch(pattern, string, flags=0)\n",
      "        Try to apply the pattern to all of the string, returning\n",
      "        a Match object, or None if no match was found.\n",
      "    \n",
      "    match(pattern, string, flags=0)\n",
      "        Try to apply the pattern at the start of the string, returning\n",
      "        a Match object, or None if no match was found.\n",
      "    \n",
      "    purge()\n",
      "        Clear the regular expression caches\n",
      "    \n",
      "    search(pattern, string, flags=0)\n",
      "        Scan through string looking for a match to the pattern, returning\n",
      "        a Match object, or None if no match was found.\n",
      "    \n",
      "    split(pattern, string, maxsplit=0, flags=0)\n",
      "        Split the source string by the occurrences of the pattern,\n",
      "        returning a list containing the resulting substrings.  If\n",
      "        capturing parentheses are used in pattern, then the text of all\n",
      "        groups in the pattern are also returned as part of the resulting\n",
      "        list.  If maxsplit is nonzero, at most maxsplit splits occur,\n",
      "        and the remainder of the string is returned as the final element\n",
      "        of the list.\n",
      "    \n",
      "    sub(pattern, repl, string, count=0, flags=0)\n",
      "        Return the string obtained by replacing the leftmost\n",
      "        non-overlapping occurrences of the pattern in string by the\n",
      "        replacement repl.  repl can be either a string or a callable;\n",
      "        if a string, backslash escapes in it are processed.  If it is\n",
      "        a callable, it's passed the Match object and must return\n",
      "        a replacement string to be used.\n",
      "    \n",
      "    subn(pattern, repl, string, count=0, flags=0)\n",
      "        Return a 2-tuple containing (new_string, number).\n",
      "        new_string is the string obtained by replacing the leftmost\n",
      "        non-overlapping occurrences of the pattern in the source\n",
      "        string by the replacement repl.  number is the number of\n",
      "        substitutions that were made. repl can be either a string or a\n",
      "        callable; if a string, backslash escapes in it are processed.\n",
      "        If it is a callable, it's passed the Match object and must\n",
      "        return a replacement string to be used.\n",
      "    \n",
      "    template(pattern, flags=0)\n",
      "        Compile a template pattern, returning a Pattern object\n",
      "\n",
      "DATA\n",
      "    A = re.ASCII\n",
      "    ASCII = re.ASCII\n",
      "    DOTALL = re.DOTALL\n",
      "    I = re.IGNORECASE\n",
      "    IGNORECASE = re.IGNORECASE\n",
      "    L = re.LOCALE\n",
      "    LOCALE = re.LOCALE\n",
      "    M = re.MULTILINE\n",
      "    MULTILINE = re.MULTILINE\n",
      "    S = re.DOTALL\n",
      "    U = re.UNICODE\n",
      "    UNICODE = re.UNICODE\n",
      "    VERBOSE = re.VERBOSE\n",
      "    X = re.VERBOSE\n",
      "    __all__ = ['match', 'fullmatch', 'search', 'sub', 'subn', 'split', 'fi...\n",
      "\n",
      "VERSION\n",
      "    2.2.1\n",
      "\n",
      "FILE\n",
      "    /home/kivand/mambaforge/envs/experim/lib/python3.10/re.py\n",
      "\n",
      "\n"
     ]
    }
   ],
   "source": [
    "# Есть прямо специальный стандартный модуль\n",
    "\n",
    "import re\n",
    "\n",
    "help(re)"
   ]
  },
  {
   "cell_type": "code",
   "execution_count": 24,
   "id": "6af9b459",
   "metadata": {
    "slideshow": {
     "slide_type": "subslide"
    }
   },
   "outputs": [
    {
     "name": "stdout",
     "output_type": "stream",
     "text": [
      "DNA_sequence: AATGAAGGGCCGCTACGATAAGGAACTTCGTAATTTCAG\n",
      "Motif: ATG.*?TAA\n",
      "Found the motif   : ATGAAGGGCCGCTACGATAA\n",
      "Starting at index : 1\n",
      "Ending at index   : 21\n"
     ]
    }
   ],
   "source": [
    "# Примерчик\n",
    "\n",
    "DNA_sequence = 'AATGAAGGGCCGCTACGATAAGGAACTTCGTAATTTCAG'\n",
    "print('DNA_sequence:', DNA_sequence)\n",
    "\n",
    "motif = r'ATG.*?TAA'         # r for raw string\n",
    "print('Motif:', motif)\n",
    " \n",
    "found = re.search(motif, DNA_sequence)\n",
    " \n",
    "if found:\n",
    "    print('Found the motif   :', found.group())\n",
    "    print('Starting at index :', found.start())\n",
    "    print('Ending at index   :', found.end())\n",
    "else:\n",
    "    print('Did not find the motif.')"
   ]
  },
  {
   "cell_type": "markdown",
   "id": "5bde6ce1",
   "metadata": {
    "slideshow": {
     "slide_type": "subslide"
    }
   },
   "source": [
    "## [Хороший сайт, где можно практиковаться](https://regex101.com/)"
   ]
  },
  {
   "cell_type": "markdown",
   "id": "b56f7d2a",
   "metadata": {
    "slideshow": {
     "slide_type": "subslide"
    }
   },
   "source": [
    "## Небольшая шпаргалка\n",
    "\n",
    "Символы специального назначения в регулярках: `. ^ $ * + ? { } [ ] \\ | ( )`"
   ]
  },
  {
   "cell_type": "markdown",
   "id": "1f0c650d",
   "metadata": {
    "slideshow": {
     "slide_type": "subslide"
    }
   },
   "source": [
    "```\n",
    "^        Matches the beginning of a line\n",
    "$        Matches the end of the line\n",
    ".        Matches any character\n",
    "\\d       Matches any decimal digit; this is equivalent to the class [0-9]\n",
    "\\D       Matches any non-digit character; this is equivalent to the class [^0-9]\n",
    "\\s       Matches whitespace\n",
    "\\S       Matches any non-whitespace character\n",
    "\\w       Matches any alphanumeric character; this is equivalent to the class [a-zA-Z0-9_]\n",
    "\\W       Matches any non-alphanumeric character; this is equivalent to the class [^a-zA-Z0-9_]\n",
    "*        Repeats a character zero or more times\n",
    "*?       Repeats a character zero or more times (non-greedy)\n",
    "+        Repeats a character one or more times\n",
    "+?       Repeats a character one or more times (non-greedy)\n",
    "[aeiou]  Matches a single character in the listed set\n",
    "[^XYZ]   Matches a single character not in the listed set\n",
    "[a-z0-9] The set of characters can include a range\n",
    "(        Indicates where string extraction is to start\n",
    ")        Indicates where string extraction is to end\n",
    "```"
   ]
  },
  {
   "attachments": {
    "image.png": {
     "image/png": "[encoded data removed]"
    }
   },
   "cell_type": "markdown",
   "id": "a8fc26a8",
   "metadata": {
    "slideshow": {
     "slide_type": "subslide"
    }
   },
   "source": [
    "## Пример\n",
    "\n",
    "Ваш шаблон: `a[bcd]*b`\n",
    "\n",
    "Строка, к которой шаблон применяем: `'abcbd'`\n",
    "![image.png](attachment:image.png)"
   ]
  },
  {
   "cell_type": "markdown",
   "id": "f3604f13",
   "metadata": {
    "slideshow": {
     "slide_type": "subslide"
    }
   },
   "source": [
    "## Как этим пользоваться вообще?"
   ]
  },
  {
   "cell_type": "code",
   "execution_count": 25,
   "id": "9dfd947f",
   "metadata": {
    "slideshow": {
     "slide_type": "fragment"
    }
   },
   "outputs": [
    {
     "name": "stdout",
     "output_type": "stream",
     "text": [
      "re.compile('ATG.*?TAA', re.IGNORECASE)\n",
      "<class 're.Pattern'>\n"
     ]
    }
   ],
   "source": [
    "# Начнем с создания специального объекта типа Pattern\n",
    "\n",
    "pattern = re.compile(\"ATG.*?TAA\", re.IGNORECASE)\n",
    "print(pattern)\n",
    "print(type(pattern))"
   ]
  },
  {
   "cell_type": "code",
   "execution_count": null,
   "id": "8bac99a2",
   "metadata": {
    "slideshow": {
     "slide_type": "subslide"
    }
   },
   "outputs": [],
   "source": [
    "help(re.compile)"
   ]
  },
  {
   "cell_type": "markdown",
   "id": "f9cf2ec3",
   "metadata": {
    "slideshow": {
     "slide_type": "subslide"
    }
   },
   "source": [
    "## [Что не так с использованием обычных строк](https://docs.python.org/3/howto/regex.html#the-backslash-plague)"
   ]
  },
  {
   "cell_type": "code",
   "execution_count": null,
   "id": "c0375cf8",
   "metadata": {
    "slideshow": {
     "slide_type": "fragment"
    }
   },
   "outputs": [],
   "source": [
    "# Хотим искать '\\next' где-то в тексте\n",
    "\n",
    "print(\"\\next\", r\"\\next\")\n",
    "\"\\next\"[0], r\"\\next\"[0]"
   ]
  },
  {
   "cell_type": "code",
   "execution_count": null,
   "id": "df990464",
   "metadata": {
    "slideshow": {
     "slide_type": "fragment"
    }
   },
   "outputs": [],
   "source": [
    "# Т.е. видим, что возникает что-то странное местами, поэтому пользуются raw-строками\n",
    "\n",
    "pattern = re.compile(r\"\\\\next\")  # дополнительный слеш нужен, чтобы указать\n",
    "pattern                          # что сам слеш должен входить в искомую часть без специального значения\n",
    "                                 # иначе будет искаться перевод строки, а потом `ext`"
   ]
  },
  {
   "cell_type": "code",
   "execution_count": null,
   "id": "b34c43e0",
   "metadata": {
    "slideshow": {
     "slide_type": "fragment"
    }
   },
   "outputs": [],
   "source": [
    "# В общем, если вы хотите искать в тексте специальный символ, то его нужно экранировать с помощью \\:\n",
    "\n",
    "re.compile(r\"\\[\")  # ищем скобку [\n",
    "re.compile(r\"\\?\")  # ищем знак вопроса ?\n",
    "re.compile(r\"\\*\")  # ищем звездочку *"
   ]
  },
  {
   "cell_type": "markdown",
   "id": "03842dc0",
   "metadata": {
    "slideshow": {
     "slide_type": "subslide"
    }
   },
   "source": [
    "## Ok, получили свой Pattern object, дальше что?"
   ]
  },
  {
   "cell_type": "code",
   "execution_count": null,
   "id": "00392158",
   "metadata": {
    "slideshow": {
     "slide_type": "fragment"
    }
   },
   "outputs": [],
   "source": [
    "pattern = re.compile(r\"ATG.*?TAA\", re.IGNORECASE)"
   ]
  },
  {
   "attachments": {
    "image-2.png": {
     "image/png": "[encoded data removed]"
    }
   },
   "cell_type": "markdown",
   "id": "748eb1a3",
   "metadata": {
    "slideshow": {
     "slide_type": "subslide"
    }
   },
   "source": [
    "![image-2.png](attachment:image-2.png)"
   ]
  },
  {
   "cell_type": "markdown",
   "id": "bcf5f740",
   "metadata": {
    "slideshow": {
     "slide_type": "subslide"
    }
   },
   "source": [
    "### `re.match()` или `pattern_obj.match()` — ищет в начале строки"
   ]
  },
  {
   "cell_type": "code",
   "execution_count": null,
   "id": "9c8198dd",
   "metadata": {
    "slideshow": {
     "slide_type": "fragment"
    }
   },
   "outputs": [],
   "source": [
    "# Т.е. возвращает None, если не нашел шаблона в строке\n",
    "DNA_sequence = 'AATGAAGGGCCGCTACGATAAGGAACTTCGTAATTTCAG'\n",
    "print(pattern.match(DNA_sequence))\n",
    "\n",
    "# А если нашел, то возвращает специальный объект типа Match\n",
    "DNA_sequence = 'ATGAAGGGCCGCTACGATAAGGAACTTCGTAATTTCAG'\n",
    "print(pattern.match(DNA_sequence))"
   ]
  },
  {
   "cell_type": "code",
   "execution_count": null,
   "id": "cc814f40",
   "metadata": {
    "slideshow": {
     "slide_type": "subslide"
    }
   },
   "outputs": [],
   "source": [
    "# Это что за покемон?\n",
    "our_match = pattern.match(DNA_sequence)"
   ]
  },
  {
   "attachments": {
    "image.png": {
     "image/png": "[encoded data removed]"
    }
   },
   "cell_type": "markdown",
   "id": "0a5915ec",
   "metadata": {
    "slideshow": {
     "slide_type": "subslide"
    }
   },
   "source": [
    "![image.png](attachment:image.png)"
   ]
  },
  {
   "cell_type": "code",
   "execution_count": null,
   "id": "449cb0c1",
   "metadata": {
    "slideshow": {
     "slide_type": "subslide"
    }
   },
   "outputs": [],
   "source": [
    "print('Found the motif         :', our_match.group())\n",
    "print('Starting at index       :', our_match.start())\n",
    "print('Ending at index         :', our_match.end())\n",
    "print('Both indexes as a tuple :', our_match.span())"
   ]
  },
  {
   "cell_type": "code",
   "execution_count": null,
   "id": "bcde2d08",
   "metadata": {
    "slideshow": {
     "slide_type": "subslide"
    }
   },
   "outputs": [],
   "source": [
    "# Типичное использование\n",
    "p = re.compile( ... )\n",
    "m = p.match( 'string goes here' )  # or p.search(...)\n",
    "if m:\n",
    "    print('Match found: ', m.group())\n",
    "else:\n",
    "    print('No match')"
   ]
  },
  {
   "cell_type": "markdown",
   "id": "e28215da",
   "metadata": {
    "slideshow": {
     "slide_type": "subslide"
    }
   },
   "source": [
    "###  `re.search()` или `pattern_obj.search()`  — ищет по всей строке"
   ]
  },
  {
   "cell_type": "code",
   "execution_count": null,
   "id": "792019c7",
   "metadata": {
    "slideshow": {
     "slide_type": "fragment"
    }
   },
   "outputs": [],
   "source": [
    "# В целом, работает аналогично match-у, т.е. возвращает такие же штуки\n",
    "DNA_sequence = 'AATGAAGGGCCGCTACGATAAGGAACTTCGTAATTTCAG'\n",
    "print(pattern.search(DNA_sequence))\n",
    "\n",
    "DNA_sequence = 'ATGAAGGGCCGCTACGATAAGGAACTTCGTAATTTCAG'\n",
    "print(pattern.search(DNA_sequence))"
   ]
  },
  {
   "cell_type": "markdown",
   "id": "58501eae",
   "metadata": {
    "slideshow": {
     "slide_type": "subslide"
    }
   },
   "source": [
    "###  `re.findall()` или `pattern_obj.findall()`  — возвращает список со всеми найденными кусками"
   ]
  },
  {
   "cell_type": "code",
   "execution_count": null,
   "id": "45cae3fb",
   "metadata": {
    "slideshow": {
     "slide_type": "fragment"
    }
   },
   "outputs": [],
   "source": [
    "pattern = re.compile(r\"ATG.*?TAA\", re.IGNORECASE)\n",
    "DNA_sequence = 'AATGAAGGGCCGCTACGATAAGGAACTTCGTAATTTCAG'\n",
    "print(pattern.findall(DNA_sequence))\n",
    "\n",
    "pattern = re.compile(r\"AAGG\", re.IGNORECASE)\n",
    "DNA_sequence = 'AATGAAGGGCCGCTACGATAAGGAACTTCGTAATTTCAG'\n",
    "print(pattern.findall(DNA_sequence))"
   ]
  },
  {
   "cell_type": "code",
   "execution_count": null,
   "id": "730e1c8a",
   "metadata": {
    "slideshow": {
     "slide_type": "subslide"
    }
   },
   "outputs": [],
   "source": [
    "p = re.compile('\\d+')  # почему работает без r?\n",
    "p.findall('12 drummers drumming, 11 pipers piping, 10 lords a-leaping')"
   ]
  },
  {
   "cell_type": "markdown",
   "id": "6a515cdd",
   "metadata": {
    "slideshow": {
     "slide_type": "subslide"
    }
   },
   "source": [
    "###  `re.finditer()` или `pattern_obj.finditer()`  — возвращает итератор по найденным Match объектам"
   ]
  },
  {
   "cell_type": "code",
   "execution_count": null,
   "id": "043a1597",
   "metadata": {
    "slideshow": {
     "slide_type": "fragment"
    }
   },
   "outputs": [],
   "source": [
    "pattern = re.compile(r\"ATG.*?TAA\", re.IGNORECASE)\n",
    "DNA_sequence = 'AATGAAGGGCCGCTACGATAAGGAACTTCGTAATTTCAG'\n",
    "print(pattern.finditer(DNA_sequence))\n",
    "\n",
    "pattern = re.compile(r\"AAGG\", re.IGNORECASE)\n",
    "DNA_sequence = 'AATGAAGGGCCGCTACGATAAGGAACTTCGTAATTTCAG'\n",
    "print(pattern.finditer(DNA_sequence))"
   ]
  },
  {
   "cell_type": "code",
   "execution_count": null,
   "id": "d4712921",
   "metadata": {
    "slideshow": {
     "slide_type": "subslide"
    }
   },
   "outputs": [],
   "source": [
    "pattern = re.compile(r\"AAGG\", re.IGNORECASE)\n",
    "DNA_sequence = 'AATGAAGGGCCGCTACGATAAGGAACTTCGTAATTTCAG'\n",
    "for m in pattern.finditer(DNA_sequence):\n",
    "    print(m)"
   ]
  }
 ],
 "metadata": {
  "celltoolbar": "Slideshow",
  "kernelspec": {
   "display_name": "Python 3 (ipykernel)",
   "language": "python",
   "name": "python3"
  },
  "language_info": {
   "codemirror_mode": {
    "name": "ipython",
    "version": 3
   },
   "file_extension": ".py",
   "mimetype": "text/x-python",
   "name": "python",
   "nbconvert_exporter": "python",
   "pygments_lexer": "ipython3",
   "version": "3.10.10"
  }
 },
 "nbformat": 4,
 "nbformat_minor": 5
}
