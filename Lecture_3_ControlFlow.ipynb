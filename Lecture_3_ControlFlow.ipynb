{
 "cells": [
  {
   "cell_type": "markdown",
   "id": "79eb3c77",
   "metadata": {
    "pycharm": {
     "name": "#%% md\n"
    },
    "slideshow": {
     "slide_type": "slide"
    }
   },
   "source": [
    "<center>\n",
    "    <font>Анализ данных с использованием Python</font><br/>\n",
    "    <br/>\n",
    "    <br/>\n",
    "    <b style=\"font-size: 2em\">Управляющие конструкции в Python</b><br/>\n",
    "    <br/>\n",
    "    <font>Иван Кириллов</font><br/>\n",
    "</center>"
   ]
  },
  {
   "cell_type": "markdown",
   "id": "af5dbf94",
   "metadata": {
    "pycharm": {
     "name": "#%% md\n"
    },
    "slideshow": {
     "slide_type": "slide"
    }
   },
   "source": [
    "### Условный оператор, if, elif, else"
   ]
  },
  {
   "cell_type": "code",
   "execution_count": null,
   "id": "22d42181",
   "metadata": {
    "pycharm": {
     "name": "#%%\n"
    },
    "slideshow": {
     "slide_type": "subslide"
    }
   },
   "outputs": [],
   "source": [
    "# Неудобно :(\n",
    "print(20, \"Делится на 10\")\n",
    "print(25, \"Делится на 5\")\n",
    "print(13, \"Не делится на 5\")"
   ]
  },
  {
   "cell_type": "code",
   "execution_count": null,
   "id": "b0734349",
   "metadata": {
    "pycharm": {
     "name": "#%%\n"
    },
    "slideshow": {
     "slide_type": "subslide"
    }
   },
   "outputs": [],
   "source": [
    "x = 30"
   ]
  },
  {
   "cell_type": "code",
   "execution_count": null,
   "id": "e7e53f98",
   "metadata": {
    "pycharm": {
     "name": "#%%\n"
    },
    "slideshow": {
     "slide_type": "subslide"
    }
   },
   "outputs": [],
   "source": [
    "if x % 10 == 0:  # двоеточие означает, что далее будет выделенный блок кода\n",
    "    \n",
    "    # отступ выделяет блок кода. В данном случае -\n",
    "    # одну или несколько комманд, выполняющихся,\n",
    "    # когда условие верно.\n",
    "    \n",
    "    # Выделение блока выполняется только отступами, т.е.,\n",
    "    # например, фигурные скобки как в C++ – не требуются\n",
    "\n",
    "    print(x, \"Делится на 10\")\n",
    "elif x % 5 == 0:  # может быть от 0 до ∞ — попадаем сюда, если False в if-е\n",
    "    print(x, \"Делится на 5\")\n",
    "else:  # можно и пропустить else — попадаем сюда, если выше все было False\n",
    "    print(x, \"Не делится на 5\")"
   ]
  },
  {
   "cell_type": "code",
   "execution_count": null,
   "id": "b7b7d901",
   "metadata": {
    "pycharm": {
     "name": "#%%\n"
    },
    "slideshow": {
     "slide_type": "subslide"
    }
   },
   "outputs": [],
   "source": [
    "value = 5\n",
    "\n",
    "if value > 5:\n",
    "    print('> 5')\n",
    "elif value == 5:\n",
    "    print('5')\n",
    "elif value < 5:\n",
    "    print('< 5')\n",
    "else:\n",
    "    print('HOW?!')  # Q: На что можно заменить value чтоб напечаталось \"HOW?!\" ?"
   ]
  },
  {
   "cell_type": "markdown",
   "id": "6c2384b6",
   "metadata": {
    "pycharm": {
     "name": "#%% md\n"
    },
    "slideshow": {
     "slide_type": "subslide"
    }
   },
   "source": [
    "<div class=\"alert alert-danger\">\n",
    "<b>Антипаттерн:</b> ставить лишние скобки\n",
    "</div>"
   ]
  },
  {
   "cell_type": "code",
   "execution_count": null,
   "id": "451ce466",
   "metadata": {
    "pycharm": {
     "name": "#%%\n"
    },
    "slideshow": {
     "slide_type": "fragment"
    }
   },
   "outputs": [],
   "source": [
    "if (x % 10 == 0):  # не требуется и усложняет чтение\n",
    "    print(x, \"Делится на 10\")\n",
    "elif (x % 5 == 0):\n",
    "    print(x, \"Делится на 5\")\n",
    "else:\n",
    "    print(x, \"Не делится на 5\")"
   ]
  },
  {
   "cell_type": "code",
   "execution_count": null,
   "id": "3ecba0da",
   "metadata": {
    "slideshow": {
     "slide_type": "subslide"
    }
   },
   "outputs": [],
   "source": [
    "if <expression_1>:\n",
    "    the code within this indented block is executed if..\n",
    "    - bool(<expression_1>) is True\n",
    "elif <expression_2>:\n",
    "    the code within this indented block is executed if..\n",
    "     - bool(<expression_1>) was False\n",
    "     - bool(<expression_2>) is True\n",
    "...\n",
    "...\n",
    "elif <expression_n>:\n",
    "    the code within this indented block is executed if..\n",
    "      - bool(<expression_1>) was False\n",
    "      - bool(<expression_2>) was False\n",
    "      ...\n",
    "      ...\n",
    "      - bool(<expression_n-1>) was False\n",
    "      - bool(<expression_n>) is True\n",
    "else:\n",
    "    the code within this indented block is executed only if\n",
    "    all preceding expressions were False"
   ]
  },
  {
   "cell_type": "markdown",
   "id": "acfcee5e",
   "metadata": {
    "pycharm": {
     "name": "#%% md\n"
    },
    "slideshow": {
     "slide_type": "slide"
    }
   },
   "source": [
    "### Тернарный оператор"
   ]
  },
  {
   "cell_type": "code",
   "execution_count": null,
   "id": "6285879c",
   "metadata": {
    "pycharm": {
     "name": "#%%\n"
    },
    "slideshow": {
     "slide_type": "subslide"
    }
   },
   "outputs": [],
   "source": [
    "# Можно так, но целых 4 строчки\n",
    "if x % 10 == 0:\n",
    "    answer = \"Делится на 10\"\n",
    "else:\n",
    "    answer = \"Не делится на 10\""
   ]
  },
  {
   "cell_type": "code",
   "execution_count": null,
   "id": "9cc6c327",
   "metadata": {
    "pycharm": {
     "name": "#%%\n"
    },
    "slideshow": {
     "slide_type": "subslide"
    }
   },
   "outputs": [],
   "source": [
    "# А можно так — для небольших выражений компактнее и приятнее\n",
    "answer = \"Делится на 10\" if x % 10 == 0 else \"Не делится на 10\""
   ]
  },
  {
   "cell_type": "markdown",
   "id": "661e2ffb",
   "metadata": {
    "pycharm": {
     "name": "#%% md\n"
    },
    "slideshow": {
     "slide_type": "fragment"
    }
   },
   "source": [
    "<div class=\"alert alert-danger\">\n",
    "<b>Антипаттерн:</b> использовать тернарный оператор для длинных выражений\n",
    "</div>"
   ]
  },
  {
   "cell_type": "markdown",
   "id": "51dcbc6c",
   "metadata": {
    "pycharm": {
     "name": "#%% md\n"
    },
    "slideshow": {
     "slide_type": "subslide"
    }
   },
   "source": [
    "<div class=\"alert alert-danger\">\n",
    "<b>Антипаттерн:</b> возвращать разные типы в зависимости от условия\n",
    "</div>"
   ]
  },
  {
   "cell_type": "code",
   "execution_count": null,
   "id": "a496830c",
   "metadata": {
    "pycharm": {
     "name": "#%%\n"
    },
    "slideshow": {
     "slide_type": "fragment"
    }
   },
   "outputs": [],
   "source": [
    "x = 13\n",
    "\n",
    "answer = x % 10 if x > 0 else \"Wrong value!\""
   ]
  },
  {
   "cell_type": "markdown",
   "id": "85f8d3f2",
   "metadata": {
    "pycharm": {
     "name": "#%% md\n"
    },
    "slideshow": {
     "slide_type": "slide"
    }
   },
   "source": [
    "### or и and"
   ]
  },
  {
   "cell_type": "code",
   "execution_count": null,
   "id": "ae44a14e",
   "metadata": {
    "pycharm": {
     "name": "#%%\n"
    },
    "slideshow": {
     "slide_type": "subslide"
    }
   },
   "outputs": [],
   "source": [
    "bool(20), bool(0)"
   ]
  },
  {
   "cell_type": "code",
   "execution_count": null,
   "id": "a7a2a1cf",
   "metadata": {
    "pycharm": {
     "name": "#%%\n"
    },
    "slideshow": {
     "slide_type": "fragment"
    }
   },
   "outputs": [],
   "source": [
    "bool(20 or 0), bool(20 and 0)"
   ]
  },
  {
   "cell_type": "code",
   "execution_count": null,
   "id": "921257d9",
   "metadata": {
    "pycharm": {
     "name": "#%%\n"
    },
    "slideshow": {
     "slide_type": "fragment"
    }
   },
   "outputs": [],
   "source": [
    "type(20 or 0), type(20 and 0)"
   ]
  },
  {
   "cell_type": "code",
   "execution_count": null,
   "id": "c6d5fef0",
   "metadata": {
    "pycharm": {
     "name": "#%%\n"
    },
    "slideshow": {
     "slide_type": "subslide"
    }
   },
   "outputs": [],
   "source": [
    "x = \"\"\n",
    "if x:\n",
    "    pass  # pass это оператор, который просто не делает ничего.\n",
    "else:\n",
    "    x = \"default\"\n",
    "    \n",
    "x"
   ]
  },
  {
   "cell_type": "code",
   "execution_count": null,
   "id": "d4b7838b",
   "metadata": {
    "pycharm": {
     "name": "#%%\n"
    },
    "slideshow": {
     "slide_type": "subslide"
    }
   },
   "outputs": [],
   "source": [
    "x = \"\"\n",
    "x = x or \"default\"  # частый способ заменить пустое значение на другое\n",
    "\n",
    "x"
   ]
  },
  {
   "cell_type": "markdown",
   "id": "2010077a",
   "metadata": {
    "pycharm": {
     "name": "#%% md\n"
    },
    "slideshow": {
     "slide_type": "slide"
    }
   },
   "source": [
    "### Ленивое вычисление or и and"
   ]
  },
  {
   "cell_type": "code",
   "execution_count": null,
   "id": "cc9f50a7",
   "metadata": {
    "pycharm": {
     "name": "#%%\n"
    },
    "slideshow": {
     "slide_type": "subslide"
    }
   },
   "outputs": [],
   "source": [
    "# Q: Что произойдёт?\n",
    "print(0 and NEVER_EXISTED_VARIABLE)\n",
    "print([10] or NEVER_EXISTED_VARIABLE)"
   ]
  },
  {
   "cell_type": "code",
   "execution_count": null,
   "id": "75b7547c",
   "metadata": {
    "pycharm": {
     "name": "#%%\n"
    },
    "slideshow": {
     "slide_type": "fragment"
    }
   },
   "outputs": [],
   "source": [
    "print(10 and NEVER_EXISTED_VARIABLE)"
   ]
  },
  {
   "cell_type": "code",
   "execution_count": 3,
   "id": "e8fdda50",
   "metadata": {
    "pycharm": {
     "name": "#%%\n"
    },
    "slideshow": {
     "slide_type": "subslide"
    }
   },
   "outputs": [
    {
     "data": {
      "text/plain": [
       "True"
      ]
     },
     "execution_count": 3,
     "metadata": {},
     "output_type": "execute_result"
    }
   ],
   "source": [
    "10 or print(\"lazy\")"
   ]
  },
  {
   "cell_type": "code",
   "execution_count": null,
   "id": "92ffd304",
   "metadata": {
    "pycharm": {
     "name": "#%%\n"
    },
    "slideshow": {
     "slide_type": "fragment"
    }
   },
   "outputs": [],
   "source": [
    "print(\"start\") or print(\"end\")"
   ]
  },
  {
   "cell_type": "markdown",
   "id": "39dbec55",
   "metadata": {
    "pycharm": {
     "name": "#%% md\n"
    },
    "slideshow": {
     "slide_type": "slide"
    }
   },
   "source": [
    "### Базовый тип None"
   ]
  },
  {
   "cell_type": "code",
   "execution_count": null,
   "id": "4d569c71",
   "metadata": {
    "pycharm": {
     "name": "#%%\n"
    },
    "slideshow": {
     "slide_type": "subslide"
    }
   },
   "outputs": [],
   "source": [
    "# None обозначает отсутствие значения\n",
    "None"
   ]
  },
  {
   "cell_type": "code",
   "execution_count": null,
   "id": "e56cd60b",
   "metadata": {
    "pycharm": {
     "name": "#%%\n"
    },
    "slideshow": {
     "slide_type": "subslide"
    }
   },
   "outputs": [],
   "source": [
    "type(_)  # sic! None не записывается в _ (ведь означает \"значение отсувует\")\n",
    "         # поэтому в _ осталось одно из прошлых значений"
   ]
  },
  {
   "cell_type": "code",
   "execution_count": null,
   "id": "89bdaf3a",
   "metadata": {
    "pycharm": {
     "name": "#%%\n"
    },
    "slideshow": {
     "slide_type": "subslide"
    }
   },
   "outputs": [],
   "source": [
    "type(None)"
   ]
  },
  {
   "cell_type": "code",
   "execution_count": null,
   "id": "8b9f8abe",
   "metadata": {
    "pycharm": {
     "name": "#%%\n"
    },
    "slideshow": {
     "slide_type": "fragment"
    }
   },
   "outputs": [],
   "source": [
    "bool(None), str(None)"
   ]
  },
  {
   "cell_type": "code",
   "execution_count": null,
   "id": "98ca5ad6",
   "metadata": {
    "slideshow": {
     "slide_type": "subslide"
    }
   },
   "outputs": [],
   "source": [
    "# None существует в единственном экземпляре внутри одной программы\n",
    "# Такие штуки еще называют синглтонами в программировании\n",
    "first_none = None\n",
    "second_none = None\n",
    "first_none is second_none, id(first_none), id(second_none)"
   ]
  },
  {
   "cell_type": "markdown",
   "id": "2f4031aa",
   "metadata": {
    "pycharm": {
     "name": "#%% md\n"
    },
    "slideshow": {
     "slide_type": "slide"
    }
   },
   "source": [
    "### Примеры использования None"
   ]
  },
  {
   "cell_type": "code",
   "execution_count": null,
   "id": "8dba4159",
   "metadata": {
    "pycharm": {
     "name": "#%%\n"
    },
    "slideshow": {
     "slide_type": "subslide"
    }
   },
   "outputs": [],
   "source": [
    "# Включаем видео на ноутбуке\n",
    "# ...\n",
    "is_working = False  # ноутбук сломался\n",
    "\n",
    "if is_working:\n",
    "    channel = 'Megasuper Channel'\n",
    "else:\n",
    "    channel = None"
   ]
  },
  {
   "cell_type": "code",
   "execution_count": null,
   "id": "eaf7a4b2",
   "metadata": {
    "pycharm": {
     "name": "#%%\n"
    },
    "slideshow": {
     "slide_type": "subslide"
    }
   },
   "outputs": [],
   "source": [
    "value = print(\"I am print!\")  # print просто печатает объекты,\n",
    "                              # поэтому не возвращает ничего\n",
    "\n",
    "    \n",
    "print(\"value\", \"=\", value)"
   ]
  },
  {
   "cell_type": "markdown",
   "id": "a83a793a",
   "metadata": {
    "pycharm": {
     "name": "#%% md\n"
    },
    "slideshow": {
     "slide_type": "subslide"
    }
   },
   "source": [
    "<div class=\"alert alert-danger\">\n",
    "<b>Антипаттерн:</b> проверка на `== None` вместо `is None`\n",
    "</div>"
   ]
  },
  {
   "cell_type": "code",
   "execution_count": null,
   "id": "8fbadab9",
   "metadata": {
    "pycharm": {
     "name": "#%%\n"
    },
    "slideshow": {
     "slide_type": "subslide"
    }
   },
   "outputs": [],
   "source": [
    "# Напечатай размер value, если value не None\n",
    "\n",
    "value = None\n",
    "# value = \"Football\"\n",
    "# value = \"\"\n",
    "\n",
    "# Новичок\n",
    "if value != None:  # работает для базовых типов, но \n",
    "                   # нестандартные объекты могут быть равны None,\n",
    "                   # не являясь None\n",
    "    print(1, len(value))\n",
    "\n",
    "# Новичок 2\n",
    "if value:  # пустой список тоже приводится к False \n",
    "    print(2, len(value))\n",
    "    \n",
    "# Опытный\n",
    "if value is not None:  # is - проверка на то, что в value лежит\n",
    "                       # тот же самый объект (а не просто равный)\n",
    "    print(3, len(value))"
   ]
  },
  {
   "cell_type": "markdown",
   "id": "0768ea06",
   "metadata": {
    "pycharm": {
     "name": "#%% md\n"
    },
    "slideshow": {
     "slide_type": "slide"
    }
   },
   "source": [
    "### Циклы: for (часть I)"
   ]
  },
  {
   "cell_type": "code",
   "execution_count": null,
   "id": "e86f2806",
   "metadata": {
    "pycharm": {
     "name": "#%%\n"
    },
    "slideshow": {
     "slide_type": "subslide"
    }
   },
   "outputs": [],
   "source": [
    "# Напечатать числа от 1 до 10\n",
    "print(1)\n",
    "print(2)\n",
    "print(3)\n",
    "print(4)\n",
    "print(5)\n",
    "print(6)\n",
    "print(7)\n",
    "print(8)\n",
    "print(9)\n",
    "print(10)"
   ]
  },
  {
   "cell_type": "code",
   "execution_count": null,
   "id": "34ba49df",
   "metadata": {
    "pycharm": {
     "name": "#%%\n"
    },
    "slideshow": {
     "slide_type": "subslide"
    }
   },
   "outputs": [],
   "source": [
    "# В Питоне for всегда итерируется по элементам какой-либо последовательности\n",
    "# Такие объекты, поддерживающие итерацию, называются iterable\n",
    "for n in [1, 2, 3, 4, 5, 6, 7, 8, 9, 10]:\n",
    "    print(n)"
   ]
  },
  {
   "cell_type": "code",
   "execution_count": null,
   "id": "627ca93e",
   "metadata": {
    "pycharm": {
     "name": "#%%\n"
    },
    "slideshow": {
     "slide_type": "subslide"
    }
   },
   "outputs": [],
   "source": [
    "for letter in \"ABCDE\":\n",
    "    print(\"Letter\", letter)"
   ]
  },
  {
   "cell_type": "code",
   "execution_count": null,
   "id": "90fc8723",
   "metadata": {
    "pycharm": {
     "name": "#%%\n"
    },
    "slideshow": {
     "slide_type": "subslide"
    }
   },
   "outputs": [],
   "source": [
    "for obj in (int, 10.1, True, None):\n",
    "    print(obj)"
   ]
  },
  {
   "cell_type": "code",
   "execution_count": null,
   "id": "a6a3db74",
   "metadata": {
    "slideshow": {
     "slide_type": "subslide"
    }
   },
   "outputs": [],
   "source": [
    "for k in {\"a\": 1, \"b\": 2}:\n",
    "    print(k)"
   ]
  },
  {
   "cell_type": "code",
   "execution_count": null,
   "id": "f409bdc5",
   "metadata": {
    "pycharm": {
     "name": "#%%\n"
    },
    "slideshow": {
     "slide_type": "subslide"
    }
   },
   "outputs": [],
   "source": [
    "# Напечатать числа от 1 до 1000000\n",
    "\n",
    "for n in [1, 2, 3, ]:  # очень долго писать...\n",
    "    print(n)"
   ]
  },
  {
   "cell_type": "markdown",
   "id": "87fc6fbc",
   "metadata": {
    "pycharm": {
     "name": "#%% md\n"
    },
    "slideshow": {
     "slide_type": "slide"
    }
   },
   "source": [
    "### Базовый тип range"
   ]
  },
  {
   "cell_type": "code",
   "execution_count": null,
   "id": "d55531c4",
   "metadata": {
    "pycharm": {
     "name": "#%%\n"
    },
    "slideshow": {
     "slide_type": "subslide"
    }
   },
   "outputs": [],
   "source": [
    "numbers = range(10)"
   ]
  },
  {
   "cell_type": "code",
   "execution_count": null,
   "id": "c9c63412",
   "metadata": {
    "pycharm": {
     "name": "#%%\n"
    },
    "slideshow": {
     "slide_type": "fragment"
    }
   },
   "outputs": [],
   "source": [
    "type(numbers)"
   ]
  },
  {
   "cell_type": "code",
   "execution_count": null,
   "id": "197bb6d6",
   "metadata": {
    "pycharm": {
     "name": "#%%\n"
    },
    "slideshow": {
     "slide_type": "subslide"
    }
   },
   "outputs": [],
   "source": [
    "# Можно быстро получать элементы по индексам. Как?\n",
    "# Внутри просто хранятся start, stop, step\n",
    "\n",
    "numbers[0], numbers[-1]"
   ]
  },
  {
   "cell_type": "code",
   "execution_count": null,
   "id": "bf372191",
   "metadata": {
    "slideshow": {
     "slide_type": "fragment"
    }
   },
   "outputs": [],
   "source": [
    "numbers[10]"
   ]
  },
  {
   "cell_type": "code",
   "execution_count": null,
   "id": "6c3a67da",
   "metadata": {
    "pycharm": {
     "name": "#%%\n"
    },
    "scrolled": true,
    "slideshow": {
     "slide_type": "subslide"
    }
   },
   "outputs": [],
   "source": [
    "reversed_numbers = numbers[::-1]\n",
    "reversed_numbers"
   ]
  },
  {
   "cell_type": "code",
   "execution_count": null,
   "id": "e790b365",
   "metadata": {
    "pycharm": {
     "name": "#%%\n"
    },
    "slideshow": {
     "slide_type": "subslide"
    }
   },
   "outputs": [],
   "source": [
    "list(range(10))"
   ]
  },
  {
   "cell_type": "code",
   "execution_count": null,
   "id": "7b2c2c8b",
   "metadata": {
    "pycharm": {
     "name": "#%%\n"
    },
    "slideshow": {
     "slide_type": "fragment"
    }
   },
   "outputs": [],
   "source": [
    "list(range(4, 14))  # полуинтервал – включается первый аргумент, но исключается последний"
   ]
  },
  {
   "cell_type": "code",
   "execution_count": null,
   "id": "1614641d",
   "metadata": {
    "pycharm": {
     "name": "#%%\n"
    },
    "slideshow": {
     "slide_type": "fragment"
    }
   },
   "outputs": [],
   "source": [
    "list(range(4, 14, 3))"
   ]
  },
  {
   "cell_type": "code",
   "execution_count": null,
   "id": "f22a6ce2",
   "metadata": {
    "pycharm": {
     "name": "#%%\n"
    },
    "slideshow": {
     "slide_type": "fragment"
    }
   },
   "outputs": [],
   "source": [
    "list(range(14, 4, -2))"
   ]
  },
  {
   "cell_type": "code",
   "execution_count": null,
   "id": "a498800d",
   "metadata": {
    "pycharm": {
     "name": "#%%\n"
    },
    "slideshow": {
     "slide_type": "subslide"
    }
   },
   "outputs": [],
   "source": [
    "range(10**100)  # в память не поместилось бы, но range и не хранится в памяти"
   ]
  },
  {
   "cell_type": "code",
   "execution_count": null,
   "id": "3f522cb4",
   "metadata": {
    "pycharm": {
     "name": "#%%\n"
    },
    "slideshow": {
     "slide_type": "subslide"
    }
   },
   "outputs": [],
   "source": [
    "range('a', 'f', 2)  # Q: Что будет?"
   ]
  },
  {
   "cell_type": "markdown",
   "id": "0e7f730b",
   "metadata": {
    "pycharm": {
     "name": "#%% md\n"
    },
    "slideshow": {
     "slide_type": "slide"
    }
   },
   "source": [
    "### Циклы: for (часть II)"
   ]
  },
  {
   "cell_type": "code",
   "execution_count": null,
   "id": "ea394d46",
   "metadata": {
    "pycharm": {
     "name": "#%%\n"
    },
    "slideshow": {
     "slide_type": "subslide"
    }
   },
   "outputs": [],
   "source": [
    "# Напечатать числа от 1 до 1000000\n",
    "\n",
    "for n in range(1000000):\n",
    "    # print(n)  # закомментировано, чтоб случайно не напечатать и не подвесить jupyter ;]\n",
    "    pass"
   ]
  },
  {
   "cell_type": "code",
   "execution_count": null,
   "id": "e2f18ac9",
   "metadata": {
    "slideshow": {
     "slide_type": "subslide"
    }
   },
   "outputs": [],
   "source": [
    "# Знаем словарь — как по нему итерироваться?\n",
    "some_dict = {1: \"a\", 2: \"b\", 3: \"c\"}\n",
    "\n",
    "# По ключам\n",
    "for key in some_dict:\n",
    "    print(f\"{key} \", end=\"\")\n",
    "print()\n",
    "\n",
    "# По значениям\n",
    "for value in some_dict.values():\n",
    "    print(f\"{value} \", end=\"\")\n",
    "print()\n",
    "\n",
    "# По парам\n",
    "for key, value in some_dict.items():\n",
    "    print(f\"({key}, {value}) \", end=\"\")"
   ]
  },
  {
   "cell_type": "code",
   "execution_count": null,
   "id": "a045dfd3",
   "metadata": {
    "pycharm": {
     "name": "#%%\n"
    },
    "slideshow": {
     "slide_type": "subslide"
    }
   },
   "outputs": [],
   "source": [
    "# Напечатать алфавит сначала в прямом, потом в обратном порядке\n",
    "alphabet = 'abcdefghijklmnopqrstuvwxyz'\n",
    "for letter in alphabet:\n",
    "    print(letter, end=' ')\n",
    "    \n",
    "print()\n",
    "    \n",
    "for letter in alphabet[::-1]:\n",
    "    print(letter, end=' ')"
   ]
  },
  {
   "cell_type": "markdown",
   "id": "f3121500",
   "metadata": {
    "pycharm": {
     "name": "#%% md\n"
    },
    "slideshow": {
     "slide_type": "fragment"
    }
   },
   "source": [
    "<div class=\"alert alert-danger\">\n",
    "<b>Антипаттерн:</b> [::-1] плохо читается. Лучше использовать reversed\n",
    "</div>"
   ]
  },
  {
   "cell_type": "markdown",
   "id": "0561696e",
   "metadata": {
    "slideshow": {
     "slide_type": "slide"
    }
   },
   "source": [
    "### reversed"
   ]
  },
  {
   "cell_type": "code",
   "execution_count": null,
   "id": "9a0e3ad8",
   "metadata": {
    "pycharm": {
     "name": "#%%\n"
    },
    "slideshow": {
     "slide_type": "subslide"
    }
   },
   "outputs": [],
   "source": [
    "# Т.е. не возвращает уже развернутую последовательность\n",
    "# А только дает возможность теперь итерироваться обратно\n",
    "reversed(alphabet)"
   ]
  },
  {
   "cell_type": "code",
   "execution_count": null,
   "id": "75223b0c",
   "metadata": {
    "pycharm": {
     "name": "#%%\n"
    },
    "slideshow": {
     "slide_type": "fragment"
    }
   },
   "outputs": [],
   "source": [
    "for letter in reversed(alphabet):\n",
    "    print(letter, end=' ')"
   ]
  },
  {
   "cell_type": "code",
   "execution_count": null,
   "id": "a017c6c4",
   "metadata": {
    "pycharm": {
     "name": "#%%\n"
    },
    "slideshow": {
     "slide_type": "subslide"
    }
   },
   "outputs": [],
   "source": [
    "for value in range(9, -1, -1):\n",
    "    print(value, end=' ')\n",
    "\n",
    "print()\n",
    "\n",
    "for value in reversed(range(10)):\n",
    "    print(value, end=' ')"
   ]
  },
  {
   "cell_type": "markdown",
   "id": "e32927aa",
   "metadata": {
    "slideshow": {
     "slide_type": "slide"
    }
   },
   "source": [
    "### enumerate"
   ]
  },
  {
   "cell_type": "code",
   "execution_count": null,
   "id": "75122109",
   "metadata": {
    "slideshow": {
     "slide_type": "subslide"
    }
   },
   "outputs": [],
   "source": [
    "# Как легко получить индексы вместе с элементами:\n",
    "for i, elem in enumerate([\"a\", \"b\", \"c\"], start=1):\n",
    "    print(f\"номер: {i}, элемент: {elem}\")"
   ]
  },
  {
   "cell_type": "markdown",
   "id": "96b2ade1",
   "metadata": {
    "slideshow": {
     "slide_type": "slide"
    }
   },
   "source": [
    "### map"
   ]
  },
  {
   "cell_type": "code",
   "execution_count": null,
   "id": "e046fe85",
   "metadata": {
    "slideshow": {
     "slide_type": "subslide"
    }
   },
   "outputs": [],
   "source": [
    "# Как легко применить функцию к элементам:\n",
    "for integer in map(int, [\"1\", \"2\", \"3\"]):\n",
    "    print(integer, type(integer))"
   ]
  },
  {
   "cell_type": "code",
   "execution_count": null,
   "id": "f9eee06d",
   "metadata": {
    "slideshow": {
     "slide_type": "subslide"
    }
   },
   "outputs": [],
   "source": [
    "# Возвращает не список — просто знает,\n",
    "# что надо применить функцию к каждому следующему элементу\n",
    "\n",
    "map(int, [\"1\", \"2\", \"3\"]), list(map(int, [\"1\", \"2\", \"3\"]))"
   ]
  },
  {
   "cell_type": "markdown",
   "id": "6bc97597",
   "metadata": {
    "slideshow": {
     "slide_type": "slide"
    }
   },
   "source": [
    "### Comprehensions (списочные выражения)"
   ]
  },
  {
   "cell_type": "code",
   "execution_count": null,
   "id": "a78a95f0",
   "metadata": {
    "slideshow": {
     "slide_type": "subslide"
    }
   },
   "outputs": [],
   "source": [
    "# Хотим квадраты\n",
    "squares = []\n",
    "for x in range(10):\n",
    "    squares.append(x**2)\n",
    "\n",
    "squares"
   ]
  },
  {
   "cell_type": "code",
   "execution_count": null,
   "id": "2c57868c",
   "metadata": {
    "slideshow": {
     "slide_type": "subslide"
    }
   },
   "outputs": [],
   "source": [
    "# А можно в одну строчку\n",
    "squares = [x**2 for x in range(10)]\n",
    "squares"
   ]
  },
  {
   "cell_type": "code",
   "execution_count": null,
   "id": "d1c2af56",
   "metadata": {
    "slideshow": {
     "slide_type": "subslide"
    }
   },
   "outputs": [],
   "source": [
    "# И не только списки\n",
    "squares = {x**2 for x in range(10)}\n",
    "squares"
   ]
  },
  {
   "cell_type": "code",
   "execution_count": null,
   "id": "ff53fc70",
   "metadata": {
    "slideshow": {
     "slide_type": "subslide"
    }
   },
   "outputs": [],
   "source": [
    "squares = {x: x**2 for x in range(10)}\n",
    "squares"
   ]
  },
  {
   "cell_type": "code",
   "execution_count": null,
   "id": "7046ad92",
   "metadata": {
    "slideshow": {
     "slide_type": "subslide"
    }
   },
   "outputs": [],
   "source": [
    "# В чем еще польза? В for создается переменная\n",
    "# Списочные выражения позволяют этого избежать\n",
    "for i in range(314):\n",
    "    pass\n",
    "print(i)\n",
    "\n",
    "_ = [j for j in range(10)]\n",
    "print(j)"
   ]
  },
  {
   "cell_type": "code",
   "execution_count": null,
   "id": "46676b53",
   "metadata": {
    "slideshow": {
     "slide_type": "subslide"
    }
   },
   "outputs": [],
   "source": [
    "# Очень часто необходимо еще и отфильтровать значения\n",
    "even_squares = [y**2 for y in range(10) if y % 2 == 0]\n",
    "even_squares"
   ]
  },
  {
   "cell_type": "code",
   "execution_count": null,
   "id": "8c829da9",
   "metadata": {
    "slideshow": {
     "slide_type": "subslide"
    }
   },
   "outputs": [],
   "source": [
    "# Либо же в зависимости от условия выдать разное\n",
    "# Уже видели такую конструкцию — тернарный оператор\n",
    "\n",
    "[x**2 if x % 2 == 0 else x**3 for x in range(10)]"
   ]
  },
  {
   "cell_type": "code",
   "execution_count": null,
   "id": "63082444",
   "metadata": {
    "slideshow": {
     "slide_type": "subslide"
    }
   },
   "outputs": [],
   "source": [
    "# Иногда надо применить функцию/метод к элементам\n",
    "vec = [-4, -2, 0, 2, 4]\n",
    "[abs(x) for x in vec]"
   ]
  },
  {
   "cell_type": "code",
   "execution_count": null,
   "id": "aa358a95",
   "metadata": {
    "slideshow": {
     "slide_type": "fragment"
    }
   },
   "outputs": [],
   "source": [
    "freshfruit = ['  banana', '  loganberry ', 'passion fruit  ']\n",
    "[weapon.strip() for weapon in freshfruit]"
   ]
  },
  {
   "cell_type": "code",
   "execution_count": null,
   "id": "ea48e8e3",
   "metadata": {
    "slideshow": {
     "slide_type": "subslide"
    }
   },
   "outputs": [],
   "source": [
    "# Или \"распрямить\" вложенные структуры\n",
    "mat = [[1, 2, 3],\n",
    "       [4, 5, 6],\n",
    "       [7, 8, 9]]\n",
    "[num for row in mat for num in row]"
   ]
  },
  {
   "cell_type": "code",
   "execution_count": null,
   "id": "9f72caa3",
   "metadata": {
    "slideshow": {
     "slide_type": "subslide"
    }
   },
   "outputs": [],
   "source": [
    "# Вложенность циклов тоже работает\n",
    "# Обратите внимание на круглые скобочки\n",
    "# Обязательны для создания кортежей внутри\n",
    "\n",
    "[(x, y) for x in [1, 2, 3] for y in [3, 1, 4] if x != y]"
   ]
  },
  {
   "cell_type": "code",
   "execution_count": null,
   "id": "3f04fd96",
   "metadata": {
    "slideshow": {
     "slide_type": "subslide"
    }
   },
   "outputs": [],
   "source": [
    "# Это было эквивалентно такому\n",
    "# Как запомнить порядок for-ов и if-ов: они одинаковы\n",
    "combs = []\n",
    "for x in [1, 2, 3]:\n",
    "    for y in [3, 1, 4]:\n",
    "        if x != y:\n",
    "            combs.append((x, y))\n",
    "\n",
    "combs"
   ]
  },
  {
   "cell_type": "code",
   "execution_count": null,
   "id": "e33e1a7a",
   "metadata": {
    "slideshow": {
     "slide_type": "subslide"
    }
   },
   "outputs": [],
   "source": [
    "# Можно и вложенные структуры создавать\n",
    "matrix = [[int(x) for x in input().split()] for i in range(3)]\n",
    "print(matrix)"
   ]
  },
  {
   "cell_type": "markdown",
   "id": "31669fd7",
   "metadata": {
    "slideshow": {
     "slide_type": "slide"
    }
   },
   "source": [
    "### zip"
   ]
  },
  {
   "cell_type": "code",
   "execution_count": null,
   "id": "0638a35e",
   "metadata": {
    "slideshow": {
     "slide_type": "subslide"
    }
   },
   "outputs": [],
   "source": [
    "# Представим, что есть две последовательности\n",
    "# Хотим одновременно по ним бежать\n",
    "\n",
    "names = [\"Alice\", \"Bob\", \"Clint\"]\n",
    "phones = [123, 456, 789]\n",
    "for name, num in zip(names, phones):\n",
    "    print(f\"{name}: {num}\")"
   ]
  },
  {
   "cell_type": "code",
   "execution_count": null,
   "id": "275cbabf",
   "metadata": {
    "slideshow": {
     "slide_type": "subslide"
    }
   },
   "outputs": [],
   "source": [
    "# Q: Что получится?\n",
    "names = [\"Alice\", \"Bob\", \"Clint\"]\n",
    "phones = [123, 456]\n",
    "for name, num in zip(names, phones):\n",
    "    print(f\"{name}: {num}\")"
   ]
  },
  {
   "cell_type": "code",
   "execution_count": null,
   "id": "edbef042",
   "metadata": {
    "slideshow": {
     "slide_type": "subslide"
    }
   },
   "outputs": [],
   "source": [
    "# Небольшой фокус (продумайте на досуге)\n",
    "matrix = [[1, 2, 3],\n",
    "          [4, 5, 6],\n",
    "          [7, 8, 9]]\n",
    "list(zip(*matrix))"
   ]
  },
  {
   "cell_type": "markdown",
   "id": "289acaa4",
   "metadata": {
    "slideshow": {
     "slide_type": "slide"
    }
   },
   "source": [
    "### sorted"
   ]
  },
  {
   "cell_type": "code",
   "execution_count": null,
   "id": "96224ae7",
   "metadata": {
    "slideshow": {
     "slide_type": "subslide"
    }
   },
   "outputs": [],
   "source": [
    "# Возвращает именно отсортированный список, а не как прошлые функции\n",
    "sorted([\"b\", \"c\", \"a\"])"
   ]
  },
  {
   "cell_type": "code",
   "execution_count": null,
   "id": "8f9f10ee",
   "metadata": {
    "slideshow": {
     "slide_type": "subslide"
    }
   },
   "outputs": [],
   "source": [
    "# Аргументы: key — какую функцию применить перед сравнением\n",
    "# Заметим, что сами значения не меняет, как map\n",
    "\n",
    "sorted([\"1\", \"2\", \"10\"]), sorted([\"1\", \"2\", \"10\"], key=int)"
   ]
  },
  {
   "cell_type": "code",
   "execution_count": null,
   "id": "efbe06e9",
   "metadata": {
    "slideshow": {
     "slide_type": "subslide"
    }
   },
   "outputs": [],
   "source": [
    "# Аргументы: reverse — True для убывания, False для возрастания (по умолчанию)\n",
    "sorted({1: \"a\", 2: \"b\", 3: \"c\"}, reverse=True)"
   ]
  },
  {
   "cell_type": "code",
   "execution_count": null,
   "id": "b8e83763",
   "metadata": {
    "slideshow": {
     "slide_type": "subslide"
    }
   },
   "outputs": [],
   "source": [
    "# Пройтись по уникальным элементам в порядке:\n",
    "basket = ['apple', 'orange', 'apple', 'pear', 'orange', 'banana']\n",
    "for f in sorted(set(basket)):\n",
    "    print(f)"
   ]
  },
  {
   "cell_type": "markdown",
   "id": "1b856149",
   "metadata": {
    "pycharm": {
     "name": "#%% md\n"
    },
    "slideshow": {
     "slide_type": "slide"
    }
   },
   "source": [
    "### Циклы: while"
   ]
  },
  {
   "cell_type": "code",
   "execution_count": null,
   "id": "10bb3597",
   "metadata": {
    "pycharm": {
     "name": "#%%\n"
    },
    "scrolled": true,
    "slideshow": {
     "slide_type": "subslide"
    }
   },
   "outputs": [],
   "source": [
    "x = 17\n",
    "\n",
    "while x != 1:  # выполняется любое число раз, пока верно условие\n",
    "    \n",
    "    if x % 2 == 0:\n",
    "        x //= 2\n",
    "    else:\n",
    "        x = 3 * x + 1\n",
    "    \n",
    "    print(x)"
   ]
  },
  {
   "cell_type": "code",
   "execution_count": null,
   "id": "e0d21df0",
   "metadata": {
    "pycharm": {
     "name": "#%%\n"
    },
    "slideshow": {
     "slide_type": "subslide"
    }
   },
   "outputs": [],
   "source": [
    "data = [.0, .0, .0, 1.2]\n",
    "\n",
    "while len(data) > data[-1]:\n",
    "    last = data[-1]\n",
    "    data.append(last * last)\n",
    "    \n",
    "    print(data)"
   ]
  },
  {
   "cell_type": "code",
   "execution_count": null,
   "id": "57390528",
   "metadata": {
    "slideshow": {
     "slide_type": "subslide"
    }
   },
   "outputs": [],
   "source": [
    "# Как еще теперь можно считывать входные данные\n",
    "saved_pwd = \"right_password\"\n",
    "while input(\"Введите пароль для входа: \") != saved_pwd:\n",
    "    pass\n",
    "print(\"Пароль верный. Вход разрешён.\")"
   ]
  },
  {
   "cell_type": "code",
   "execution_count": null,
   "id": "f1f55053",
   "metadata": {
    "slideshow": {
     "slide_type": "subslide"
    }
   },
   "outputs": [],
   "source": [
    "# Считать каждую строчку по очереди до пустой (т.е. до конца всех данных)\n",
    "# := — моржовый оператор (записывает в переменную и сразу возвращает значение)\n",
    "\n",
    "while line := input():  # эквивалентно while (line := input()) != \"\"\n",
    "    print(\"Введите пустую строку, чтобы выйти из цикла\")\n",
    "print(\"Ура!\")"
   ]
  },
  {
   "cell_type": "markdown",
   "id": "ae480e40",
   "metadata": {
    "slideshow": {
     "slide_type": "slide"
    }
   },
   "source": [
    "### Циклы: for vs. while"
   ]
  },
  {
   "cell_type": "markdown",
   "id": "82866a75",
   "metadata": {
    "pycharm": {
     "name": "#%% md\n"
    },
    "slideshow": {
     "slide_type": "subslide"
    }
   },
   "source": [
    "<div class=\"alert alert-info\">\n",
    "    <b>Рекомендация:</b> использовать <b>for</b>, когда нужно работать с элементами последовательно и независимо друг от друга\n",
    "</div>"
   ]
  },
  {
   "cell_type": "code",
   "execution_count": null,
   "id": "b0aa3219",
   "metadata": {
    "pycharm": {
     "name": "#%%\n"
    },
    "slideshow": {
     "slide_type": "subslide"
    }
   },
   "outputs": [],
   "source": [
    "data = [10, 20, 30, 40]\n",
    "\n",
    "print(\"Для каждого элемента из списка напечатай его\")\n",
    "\n",
    "for value in data:\n",
    "    print(value, end=', ')\n",
    "\n",
    "print()\n",
    "print(\"Для каждого элемента из списка напечатай пару: (порядковый номер, элемент)\")\n",
    "\n",
    "for i, value in enumerate(data):\n",
    "    print(i, value, end=', ')\n",
    "\n",
    "print()\n",
    "print(\"Для каждого элемента из списка напечатай его индекс\")\n",
    "\n",
    "for i in range(len(data)):\n",
    "    print(i, end=', ')"
   ]
  },
  {
   "cell_type": "markdown",
   "id": "69348eb1",
   "metadata": {
    "pycharm": {
     "name": "#%% md\n"
    },
    "slideshow": {
     "slide_type": "subslide"
    }
   },
   "source": [
    "<div class=\"alert alert-danger\">\n",
    "<b>Антипаттерн:</b> изменять объект, по которому сейчас запущен цикл for\n",
    "</div>"
   ]
  },
  {
   "cell_type": "code",
   "execution_count": 1,
   "id": "f6341c2d",
   "metadata": {
    "pycharm": {
     "name": "#%%\n"
    },
    "slideshow": {
     "slide_type": "fragment"
    }
   },
   "outputs": [
    {
     "name": "stdout",
     "output_type": "stream",
     "text": [
      "0, 2, 4, 6, 8, 10, "
     ]
    }
   ],
   "source": [
    "data = [0, 1, 2, 3, 4, 5, 6, 7, 8, 9, 10]\n",
    "\n",
    "for value in data:\n",
    "    print(value, end=', ')\n",
    "    data.pop(0)  # удаление начального элемента"
   ]
  },
  {
   "cell_type": "markdown",
   "id": "3efd1703",
   "metadata": {
    "pycharm": {
     "name": "#%% md\n"
    },
    "slideshow": {
     "slide_type": "subslide"
    }
   },
   "source": [
    "<div class=\"alert alert-info\">\n",
    "    <b>Рекомендация:</b> использовать <b>while</b> если список изменяется на каждой итерации, если заранее сложно предсказать количество итераций\n",
    "</div>"
   ]
  },
  {
   "cell_type": "code",
   "execution_count": null,
   "id": "2ca51c85",
   "metadata": {
    "pycharm": {
     "name": "#%%\n"
    },
    "slideshow": {
     "slide_type": "fragment"
    }
   },
   "outputs": [],
   "source": [
    "data = [0, 1, 2, 3, 4, 5, 6, 7, 8, 9, 10]\n",
    "\n",
    "while data:\n",
    "    value = data.pop(0)\n",
    "    print(value, end=', ')"
   ]
  },
  {
   "cell_type": "code",
   "execution_count": null,
   "id": "9bb4f8f2",
   "metadata": {
    "pycharm": {
     "name": "#%%\n"
    },
    "slideshow": {
     "slide_type": "subslide"
    }
   },
   "outputs": [],
   "source": [
    "n = 257\n",
    "while n > 1:\n",
    "    print(n, end=', ')\n",
    "    if n % 2 == 0:\n",
    "        n //= 2\n",
    "    else:\n",
    "        n *= 3\n",
    "        n += 1"
   ]
  },
  {
   "cell_type": "markdown",
   "id": "a9df361b",
   "metadata": {
    "slideshow": {
     "slide_type": "slide"
    }
   },
   "source": [
    "### Вложенные циклы"
   ]
  },
  {
   "cell_type": "code",
   "execution_count": 10,
   "id": "596cab49",
   "metadata": {
    "scrolled": true,
    "slideshow": {
     "slide_type": "subslide"
    }
   },
   "outputs": [
    {
     "name": "stdout",
     "output_type": "stream",
     "text": [
      "aa\n",
      "ab\n",
      "ac\n",
      "ad\n",
      "ae\n",
      "af\n",
      "ag\n",
      "ah\n",
      "ai\n",
      "aj\n",
      "ak\n",
      "al\n",
      "am\n",
      "an\n",
      "ao\n",
      "ap\n",
      "aq\n",
      "ar\n",
      "as\n",
      "at\n",
      "au\n",
      "av\n",
      "aw\n",
      "ax\n",
      "ay\n",
      "az\n",
      "ba\n",
      "bb\n",
      "bc\n",
      "bd\n",
      "be\n",
      "bf\n",
      "bg\n",
      "bh\n",
      "bi\n",
      "bj\n",
      "bk\n",
      "bl\n",
      "bm\n",
      "bn\n",
      "bo\n",
      "bp\n",
      "bq\n",
      "br\n",
      "bs\n",
      "bt\n",
      "bu\n",
      "bv\n",
      "bw\n",
      "bx\n",
      "by\n",
      "bz\n",
      "ca\n",
      "cb\n",
      "cc\n",
      "cd\n",
      "ce\n",
      "cf\n",
      "cg\n",
      "ch\n",
      "ci\n",
      "cj\n",
      "ck\n",
      "cl\n",
      "cm\n",
      "cn\n",
      "co\n",
      "cp\n",
      "cq\n",
      "cr\n",
      "cs\n",
      "ct\n",
      "cu\n",
      "cv\n",
      "cw\n",
      "cx\n",
      "cy\n",
      "cz\n",
      "da\n",
      "db\n",
      "dc\n",
      "dd\n",
      "de\n",
      "df\n",
      "dg\n",
      "dh\n",
      "di\n",
      "dj\n",
      "dk\n",
      "dl\n",
      "dm\n",
      "dn\n",
      "do\n",
      "dp\n",
      "dq\n",
      "dr\n",
      "ds\n",
      "dt\n",
      "du\n",
      "dv\n",
      "dw\n",
      "dx\n",
      "dy\n",
      "dz\n",
      "ea\n",
      "eb\n",
      "ec\n",
      "ed\n",
      "ee\n",
      "ef\n",
      "eg\n",
      "eh\n",
      "ei\n",
      "ej\n",
      "ek\n",
      "el\n",
      "em\n",
      "en\n",
      "eo\n",
      "ep\n",
      "eq\n",
      "er\n",
      "es\n",
      "et\n",
      "eu\n",
      "ev\n",
      "ew\n",
      "ex\n",
      "ey\n",
      "ez\n",
      "fa\n",
      "fb\n",
      "fc\n",
      "fd\n",
      "fe\n",
      "ff\n",
      "fg\n",
      "fh\n",
      "fi\n",
      "fj\n",
      "fk\n",
      "fl\n",
      "fm\n",
      "fn\n",
      "fo\n",
      "fp\n",
      "fq\n",
      "fr\n",
      "fs\n",
      "ft\n",
      "fu\n",
      "fv\n",
      "fw\n",
      "fx\n",
      "fy\n",
      "fz\n",
      "ga\n",
      "gb\n",
      "gc\n",
      "gd\n",
      "ge\n",
      "gf\n",
      "gg\n",
      "gh\n",
      "gi\n",
      "gj\n",
      "gk\n",
      "gl\n",
      "gm\n",
      "gn\n",
      "go\n",
      "gp\n",
      "gq\n",
      "gr\n",
      "gs\n",
      "gt\n",
      "gu\n",
      "gv\n",
      "gw\n",
      "gx\n",
      "gy\n",
      "gz\n",
      "ha\n",
      "hb\n",
      "hc\n",
      "hd\n",
      "he\n",
      "hf\n",
      "hg\n",
      "hh\n",
      "hi\n",
      "hj\n",
      "hk\n",
      "hl\n",
      "hm\n",
      "hn\n",
      "ho\n",
      "hp\n",
      "hq\n",
      "hr\n",
      "hs\n",
      "ht\n",
      "hu\n",
      "hv\n",
      "hw\n",
      "hx\n",
      "hy\n",
      "hz\n",
      "ia\n",
      "ib\n",
      "ic\n",
      "id\n",
      "ie\n",
      "if\n",
      "ig\n",
      "ih\n",
      "ii\n",
      "ij\n",
      "ik\n",
      "il\n",
      "im\n",
      "in\n",
      "io\n",
      "ip\n",
      "iq\n",
      "ir\n",
      "is\n",
      "it\n",
      "iu\n",
      "iv\n",
      "iw\n",
      "ix\n",
      "iy\n",
      "iz\n",
      "ja\n",
      "jb\n",
      "jc\n",
      "jd\n",
      "je\n",
      "jf\n",
      "jg\n",
      "jh\n",
      "ji\n",
      "jj\n",
      "jk\n",
      "jl\n",
      "jm\n",
      "jn\n",
      "jo\n",
      "jp\n",
      "jq\n",
      "jr\n",
      "js\n",
      "jt\n",
      "ju\n",
      "jv\n",
      "jw\n",
      "jx\n",
      "jy\n",
      "jz\n",
      "ka\n",
      "kb\n",
      "kc\n",
      "kd\n",
      "ke\n",
      "kf\n",
      "kg\n",
      "kh\n",
      "ki\n",
      "kj\n",
      "kk\n",
      "kl\n",
      "km\n",
      "kn\n",
      "ko\n",
      "kp\n",
      "kq\n",
      "kr\n",
      "ks\n",
      "kt\n",
      "ku\n",
      "kv\n",
      "kw\n",
      "kx\n",
      "ky\n",
      "kz\n",
      "la\n",
      "lb\n",
      "lc\n",
      "ld\n",
      "le\n",
      "lf\n",
      "lg\n",
      "lh\n",
      "li\n",
      "lj\n",
      "lk\n",
      "ll\n",
      "lm\n",
      "ln\n",
      "lo\n",
      "lp\n",
      "lq\n",
      "lr\n",
      "ls\n",
      "lt\n",
      "lu\n",
      "lv\n",
      "lw\n",
      "lx\n",
      "ly\n",
      "lz\n",
      "ma\n",
      "mb\n",
      "mc\n",
      "md\n",
      "me\n",
      "mf\n",
      "mg\n",
      "mh\n",
      "mi\n",
      "mj\n",
      "mk\n",
      "ml\n",
      "mm\n",
      "mn\n",
      "mo\n",
      "mp\n",
      "mq\n",
      "mr\n",
      "ms\n",
      "mt\n",
      "mu\n",
      "mv\n",
      "mw\n",
      "mx\n",
      "my\n",
      "mz\n",
      "na\n",
      "nb\n",
      "nc\n",
      "nd\n",
      "ne\n",
      "nf\n",
      "ng\n",
      "nh\n",
      "ni\n",
      "nj\n",
      "nk\n",
      "nl\n",
      "nm\n",
      "nn\n",
      "no\n",
      "np\n",
      "nq\n",
      "nr\n",
      "ns\n",
      "nt\n",
      "nu\n",
      "nv\n",
      "nw\n",
      "nx\n",
      "ny\n",
      "nz\n",
      "oa\n",
      "ob\n",
      "oc\n",
      "od\n",
      "oe\n",
      "of\n",
      "og\n",
      "oh\n",
      "oi\n",
      "oj\n",
      "ok\n",
      "ol\n",
      "om\n",
      "on\n",
      "oo\n",
      "op\n",
      "oq\n",
      "or\n",
      "os\n",
      "ot\n",
      "ou\n",
      "ov\n",
      "ow\n",
      "ox\n",
      "oy\n",
      "oz\n",
      "pa\n",
      "pb\n",
      "pc\n",
      "pd\n",
      "pe\n",
      "pf\n",
      "pg\n",
      "ph\n",
      "pi\n",
      "pj\n",
      "pk\n",
      "pl\n",
      "pm\n",
      "pn\n",
      "po\n",
      "pp\n",
      "pq\n",
      "pr\n",
      "ps\n",
      "pt\n",
      "pu\n",
      "pv\n",
      "pw\n",
      "px\n",
      "py\n",
      "pz\n",
      "qa\n",
      "qb\n",
      "qc\n",
      "qd\n",
      "qe\n",
      "qf\n",
      "qg\n",
      "qh\n",
      "qi\n",
      "qj\n",
      "qk\n",
      "ql\n",
      "qm\n",
      "qn\n",
      "qo\n",
      "qp\n",
      "qq\n",
      "qr\n",
      "qs\n",
      "qt\n",
      "qu\n",
      "qv\n",
      "qw\n",
      "qx\n",
      "qy\n",
      "qz\n",
      "ra\n",
      "rb\n",
      "rc\n",
      "rd\n",
      "re\n",
      "rf\n",
      "rg\n",
      "rh\n",
      "ri\n",
      "rj\n",
      "rk\n",
      "rl\n",
      "rm\n",
      "rn\n",
      "ro\n",
      "rp\n",
      "rq\n",
      "rr\n",
      "rs\n",
      "rt\n",
      "ru\n",
      "rv\n",
      "rw\n",
      "rx\n",
      "ry\n",
      "rz\n",
      "sa\n",
      "sb\n",
      "sc\n",
      "sd\n",
      "se\n",
      "sf\n",
      "sg\n",
      "sh\n",
      "si\n",
      "sj\n",
      "sk\n",
      "sl\n",
      "sm\n",
      "sn\n",
      "so\n",
      "sp\n",
      "sq\n",
      "sr\n",
      "ss\n",
      "st\n",
      "su\n",
      "sv\n",
      "sw\n",
      "sx\n",
      "sy\n",
      "sz\n",
      "ta\n",
      "tb\n",
      "tc\n",
      "td\n",
      "te\n",
      "tf\n",
      "tg\n",
      "th\n",
      "ti\n",
      "tj\n",
      "tk\n",
      "tl\n",
      "tm\n",
      "tn\n",
      "to\n",
      "tp\n",
      "tq\n",
      "tr\n",
      "ts\n",
      "tt\n",
      "tu\n",
      "tv\n",
      "tw\n",
      "tx\n",
      "ty\n",
      "tz\n",
      "ua\n",
      "ub\n",
      "uc\n",
      "ud\n",
      "ue\n",
      "uf\n",
      "ug\n",
      "uh\n",
      "ui\n",
      "uj\n",
      "uk\n",
      "ul\n",
      "um\n",
      "un\n",
      "uo\n",
      "up\n",
      "uq\n",
      "ur\n",
      "us\n",
      "ut\n",
      "uu\n",
      "uv\n",
      "uw\n",
      "ux\n",
      "uy\n",
      "uz\n",
      "va\n",
      "vb\n",
      "vc\n",
      "vd\n",
      "ve\n",
      "vf\n",
      "vg\n",
      "vh\n",
      "vi\n",
      "vj\n",
      "vk\n",
      "vl\n",
      "vm\n",
      "vn\n",
      "vo\n",
      "vp\n",
      "vq\n",
      "vr\n",
      "vs\n",
      "vt\n",
      "vu\n",
      "vv\n",
      "vw\n",
      "vx\n",
      "vy\n",
      "vz\n",
      "wa\n",
      "wb\n",
      "wc\n",
      "wd\n",
      "we\n",
      "wf\n",
      "wg\n",
      "wh\n",
      "wi\n",
      "wj\n",
      "wk\n",
      "wl\n",
      "wm\n",
      "wn\n",
      "wo\n",
      "wp\n",
      "wq\n",
      "wr\n",
      "ws\n",
      "wt\n",
      "wu\n",
      "wv\n",
      "ww\n",
      "wx\n",
      "wy\n",
      "wz\n",
      "xa\n",
      "xb\n",
      "xc\n",
      "xd\n",
      "xe\n",
      "xf\n",
      "xg\n",
      "xh\n",
      "xi\n",
      "xj\n",
      "xk\n",
      "xl\n",
      "xm\n",
      "xn\n",
      "xo\n",
      "xp\n",
      "xq\n",
      "xr\n",
      "xs\n",
      "xt\n",
      "xu\n",
      "xv\n",
      "xw\n",
      "xx\n",
      "xy\n",
      "xz\n",
      "ya\n",
      "yb\n",
      "yc\n",
      "yd\n",
      "ye\n",
      "yf\n",
      "yg\n",
      "yh\n",
      "yi\n",
      "yj\n",
      "yk\n",
      "yl\n",
      "ym\n",
      "yn\n",
      "yo\n",
      "yp\n",
      "yq\n",
      "yr\n",
      "ys\n",
      "yt\n",
      "yu\n",
      "yv\n",
      "yw\n",
      "yx\n",
      "yy\n",
      "yz\n",
      "za\n",
      "zb\n",
      "zc\n",
      "zd\n",
      "ze\n",
      "zf\n",
      "zg\n",
      "zh\n",
      "zi\n",
      "zj\n",
      "zk\n",
      "zl\n",
      "zm\n",
      "zn\n",
      "zo\n",
      "zp\n",
      "zq\n",
      "zr\n",
      "zs\n",
      "zt\n",
      "zu\n",
      "zv\n",
      "zw\n",
      "zx\n",
      "zy\n",
      "zz\n"
     ]
    }
   ],
   "source": [
    "# Сгенерировать все возможные комбинации строчных букв длиной два\n",
    "for i in range(26):\n",
    "    for j in range(26):\n",
    "        print(f\"{chr(ord('a') + i)}{chr(ord('a') + j)}\")"
   ]
  },
  {
   "cell_type": "markdown",
   "id": "8455860e",
   "metadata": {
    "pycharm": {
     "name": "#%% md\n"
    },
    "slideshow": {
     "slide_type": "slide"
    }
   },
   "source": [
    "### Циклы: break, continue, else"
   ]
  },
  {
   "cell_type": "markdown",
   "id": "3de4c070",
   "metadata": {
    "pycharm": {
     "name": "#%% md\n"
    },
    "slideshow": {
     "slide_type": "slide"
    }
   },
   "source": [
    "#### continue"
   ]
  },
  {
   "cell_type": "code",
   "execution_count": null,
   "id": "9e99e5a8",
   "metadata": {
    "pycharm": {
     "name": "#%%\n"
    },
    "slideshow": {
     "slide_type": "subslide"
    }
   },
   "outputs": [],
   "source": [
    "# continue заканчивает исполнение текущей итерации\n",
    "# и сразу же переходит к следущей"
   ]
  },
  {
   "cell_type": "code",
   "execution_count": null,
   "id": "7b3ddab5",
   "metadata": {
    "pycharm": {
     "name": "#%%\n"
    },
    "slideshow": {
     "slide_type": "fragment"
    }
   },
   "outputs": [],
   "source": [
    "skip = 7\n",
    "\n",
    "for n in range(10):\n",
    "    if n == skip:\n",
    "        print('*', end=', ')\n",
    "        continue\n",
    "    print(n, end=', ')"
   ]
  },
  {
   "cell_type": "code",
   "execution_count": null,
   "id": "d6f82cd0",
   "metadata": {
    "pycharm": {
     "name": "#%%\n"
    },
    "slideshow": {
     "slide_type": "subslide"
    }
   },
   "outputs": [],
   "source": [
    "data = [1, 2, 3, 4, 5, 6, 7]\n",
    "\n",
    "while data:\n",
    "    value = data.pop()  # удаляем последний элемент\n",
    "    if 2 <= len(data) <= 4:\n",
    "        continue\n",
    "    print(value, end=', ')"
   ]
  },
  {
   "cell_type": "code",
   "execution_count": null,
   "id": "c667b1a9",
   "metadata": {
    "slideshow": {
     "slide_type": "subslide"
    }
   },
   "outputs": [],
   "source": [
    "# Надо использовать внимательно при вложенных циклах\n",
    "# Т.к. действует на самый последний цикл\n",
    "\n",
    "for i in range(5):\n",
    "    for j in range(5):\n",
    "        continue\n",
    "        print(j)\n",
    "    print(i)"
   ]
  },
  {
   "cell_type": "markdown",
   "id": "b1975132",
   "metadata": {
    "pycharm": {
     "name": "#%% md\n"
    },
    "slideshow": {
     "slide_type": "slide"
    }
   },
   "source": [
    "#### break"
   ]
  },
  {
   "cell_type": "code",
   "execution_count": null,
   "id": "a105c4da",
   "metadata": {
    "pycharm": {
     "name": "#%%\n"
    },
    "slideshow": {
     "slide_type": "subslide"
    }
   },
   "outputs": [],
   "source": [
    "# break полностью прерывает исполнение цикла"
   ]
  },
  {
   "cell_type": "code",
   "execution_count": null,
   "id": "ea600005",
   "metadata": {
    "pycharm": {
     "name": "#%%\n"
    },
    "slideshow": {
     "slide_type": "fragment"
    }
   },
   "outputs": [],
   "source": [
    "for natural in [1, 2, 3, 4, -1, 20]:\n",
    "    if natural < 0:\n",
    "        print(\"ERROR\")\n",
    "        break"
   ]
  },
  {
   "cell_type": "code",
   "execution_count": null,
   "id": "c9a8d42d",
   "metadata": {
    "pycharm": {
     "name": "#%%\n"
    },
    "slideshow": {
     "slide_type": "subslide"
    }
   },
   "outputs": [],
   "source": [
    "bad = [13, 5, 10]\n",
    "errors = 0\n",
    "\n",
    "n = 17\n",
    "while n > 1:\n",
    "    print(n, end=', ')\n",
    "    n = n // 2 if n % 2 == 0 else n * 3 + 1\n",
    "        \n",
    "    if n in bad:\n",
    "        print('ERROR', end='! ')\n",
    "        errors += 1\n",
    "        if errors == len(bad):\n",
    "            print(\"FATAL ERROR - BREAK\")\n",
    "            break"
   ]
  },
  {
   "cell_type": "code",
   "execution_count": null,
   "id": "5ec169c8",
   "metadata": {
    "slideshow": {
     "slide_type": "subslide"
    }
   },
   "outputs": [],
   "source": [
    "# Один из частых юзкейсов: выйти из бесконечного цикла\n",
    "password = \"right_password\"\n",
    "while True:\n",
    "    if input(\"Введите пароль: \") == password:\n",
    "        print(\"Пароль принимается\")\n",
    "        break"
   ]
  },
  {
   "cell_type": "code",
   "execution_count": null,
   "id": "dc437b95",
   "metadata": {
    "slideshow": {
     "slide_type": "subslide"
    }
   },
   "outputs": [],
   "source": [
    "# Тоже надо быть внимательным при вложенных циклах\n",
    "# Т.к. действует на самый последний цикл\n",
    "\n",
    "for i in range(3):\n",
    "    for j in range(5):\n",
    "        if j > 1:\n",
    "            break\n",
    "        print(i, j)"
   ]
  },
  {
   "cell_type": "markdown",
   "id": "adeeab3e",
   "metadata": {
    "pycharm": {
     "name": "#%% md\n"
    },
    "slideshow": {
     "slide_type": "slide"
    }
   },
   "source": [
    "#### else"
   ]
  },
  {
   "cell_type": "code",
   "execution_count": null,
   "id": "2fdc2764",
   "metadata": {
    "pycharm": {
     "name": "#%%\n"
    },
    "slideshow": {
     "slide_type": "subslide"
    }
   },
   "outputs": [],
   "source": [
    "# Если цикл не прерывался на break то выполняется блок else"
   ]
  },
  {
   "cell_type": "code",
   "execution_count": null,
   "id": "446ea51d",
   "metadata": {
    "pycharm": {
     "name": "#%%\n"
    },
    "slideshow": {
     "slide_type": "fragment"
    }
   },
   "outputs": [],
   "source": [
    "for line in ['Hello', 'World', 'Library']:\n",
    "    if len(line) > 7:\n",
    "        print(\"Found long line!\")\n",
    "        break\n",
    "else:\n",
    "    print(\"All lines are short\")"
   ]
  },
  {
   "cell_type": "code",
   "execution_count": null,
   "id": "78759789",
   "metadata": {
    "pycharm": {
     "name": "#%%\n"
    },
    "slideshow": {
     "slide_type": "subslide"
    }
   },
   "outputs": [],
   "source": [
    "vault = 257\n",
    "while vault > 1:\n",
    "    vault = vault // 2 if vault % 2 == 0 else vault * 3 + 1\n",
    "    if vault == 13:\n",
    "        break\n",
    "else:\n",
    "    print(\"Vault 13 not found!\")"
   ]
  },
  {
   "cell_type": "markdown",
   "id": "3d9f8ffb",
   "metadata": {
    "pycharm": {
     "name": "#%% md\n"
    },
    "slideshow": {
     "slide_type": "slide"
    }
   },
   "source": [
    "### Встроенные функции"
   ]
  },
  {
   "cell_type": "code",
   "execution_count": null,
   "id": "0c388fcc",
   "metadata": {
    "pycharm": {
     "name": "#%%\n"
    },
    "scrolled": true,
    "slideshow": {
     "slide_type": "subslide"
    }
   },
   "outputs": [],
   "source": [
    "dir(__builtins__)"
   ]
  },
  {
   "cell_type": "markdown",
   "id": "c77381a1",
   "metadata": {
    "pycharm": {
     "name": "#%% md\n"
    },
    "slideshow": {
     "slide_type": "subslide"
    }
   },
   "source": [
    "<div class=\"alert alert-danger\">\n",
    "<b>Антипаттерн:</b> использовать объекты из builtins в качестве имен переменных\n",
    "</div>"
   ]
  },
  {
   "cell_type": "code",
   "execution_count": null,
   "id": "a1405f6f",
   "metadata": {
    "pycharm": {
     "name": "#%%\n"
    },
    "slideshow": {
     "slide_type": "fragment"
    }
   },
   "outputs": [],
   "source": [
    "# Q: Что тут получится?\n",
    "str = 'hello'\n",
    "str(1)"
   ]
  },
  {
   "cell_type": "code",
   "execution_count": null,
   "id": "81e0ba06",
   "metadata": {
    "pycharm": {
     "name": "#%%\n"
    },
    "slideshow": {
     "slide_type": "fragment"
    }
   },
   "outputs": [],
   "source": [
    "str = __builtins__.str  # Восстанавливаем"
   ]
  },
  {
   "cell_type": "code",
   "execution_count": null,
   "id": "29ad217e",
   "metadata": {
    "pycharm": {
     "name": "#%%\n"
    },
    "slideshow": {
     "slide_type": "subslide"
    }
   },
   "outputs": [],
   "source": [
    "# типы, которые уже были выше\n",
    "print, reversed, enumerate"
   ]
  },
  {
   "cell_type": "code",
   "execution_count": null,
   "id": "71311282",
   "metadata": {
    "pycharm": {
     "name": "#%%\n"
    },
    "slideshow": {
     "slide_type": "fragment"
    }
   },
   "outputs": [],
   "source": [
    "# другие функции и типы\n",
    "min, max, sum, ..."
   ]
  },
  {
   "cell_type": "markdown",
   "id": "12ab2ad1",
   "metadata": {
    "pycharm": {
     "name": "#%% md\n"
    },
    "slideshow": {
     "slide_type": "fragment"
    }
   },
   "source": [
    "<div class=\"alert alert-danger\">\n",
    "<b>Антипаттерн:</b> не использовать встроенные функции для простых операций\n",
    "</div>"
   ]
  },
  {
   "cell_type": "code",
   "execution_count": null,
   "id": "2cef30bd",
   "metadata": {
    "pycharm": {
     "name": "#%%\n"
    },
    "slideshow": {
     "slide_type": "subslide"
    }
   },
   "outputs": [],
   "source": [
    "data = [1, 2, 3, 4, 5]\n",
    "\n",
    "# Новичок\n",
    "total = 0\n",
    "for el in data:\n",
    "    total += el\n",
    "    \n",
    "# Опытный\n",
    "total = sum(data)\n",
    "\n",
    "total"
   ]
  },
  {
   "cell_type": "code",
   "execution_count": null,
   "id": "1d9467d5",
   "metadata": {
    "pycharm": {
     "name": "#%%\n"
    },
    "slideshow": {
     "slide_type": "subslide"
    }
   },
   "outputs": [],
   "source": [
    "data = [1, 2, 3, 4, 5]\n",
    "\n",
    "# Новичок\n",
    "\n",
    "min_value = None\n",
    "\n",
    "for el in data:\n",
    "    if min_value is None:\n",
    "        min_value = el\n",
    "    else:\n",
    "        if el < min_value:\n",
    "            min_value = el\n",
    "    \n",
    "# Опытный\n",
    "min_value = min(data)"
   ]
  },
  {
   "cell_type": "code",
   "execution_count": null,
   "id": "fbbbaa1d",
   "metadata": {
    "pycharm": {
     "name": "#%%\n"
    },
    "slideshow": {
     "slide_type": "subslide"
    }
   },
   "outputs": [],
   "source": [
    "# Q: Чему равно?\n",
    "max([])"
   ]
  },
  {
   "cell_type": "code",
   "execution_count": null,
   "id": "5a384c6e",
   "metadata": {
    "pycharm": {
     "name": "#%%\n"
    },
    "slideshow": {
     "slide_type": "subslide"
    }
   },
   "outputs": [],
   "source": [
    "# Новичок\n",
    "for value in [1, 2, 3, 4, 5]:\n",
    "    print(value, end=', ')\n",
    "\n",
    "print()\n",
    "\n",
    "# Опытный\n",
    "for value in range(1, 6):\n",
    "    print(value, end=', ')"
   ]
  },
  {
   "cell_type": "code",
   "execution_count": null,
   "id": "2da13193",
   "metadata": {
    "pycharm": {
     "name": "#%%\n"
    },
    "slideshow": {
     "slide_type": "subslide"
    }
   },
   "outputs": [],
   "source": [
    "data = [1, 2, 3, 4, 5]\n",
    "\n",
    "# Новичок\n",
    "for i in range(len(data)):\n",
    "    print(i, data[i], end=', ')\n",
    "\n",
    "print()\n",
    "    \n",
    "# Опытный\n",
    "for i, value in enumerate(data):\n",
    "    print(i, value, end=', ')"
   ]
  },
  {
   "cell_type": "code",
   "execution_count": null,
   "id": "175af065",
   "metadata": {
    "pycharm": {
     "name": "#%%\n"
    },
    "slideshow": {
     "slide_type": "subslide"
    }
   },
   "outputs": [],
   "source": [
    "data = [1, 2, 3, 4, 5]\n",
    "\n",
    "# Новичок\n",
    "for value in data[::-1]:\n",
    "    print(value, end=', ')\n",
    "\n",
    "print()\n",
    "\n",
    "# Опытный\n",
    "for value in reversed(data):\n",
    "    print(value, end=', ')"
   ]
  },
  {
   "cell_type": "code",
   "execution_count": null,
   "id": "311068ca",
   "metadata": {
    "pycharm": {
     "name": "#%%\n"
    },
    "slideshow": {
     "slide_type": "subslide"
    }
   },
   "outputs": [],
   "source": [
    "data = [1, 2, 3, 4, 5]\n",
    "letters = ['a', 'b', 'c', 'd', 'e']\n",
    "\n",
    "# Новичок\n",
    "for i in range(len(data)):\n",
    "    print(i, (data[i], letters[i]), end=', ')\n",
    "\n",
    "print()\n",
    "    \n",
    "# Опытный\n",
    "for value in zip(data, letters):\n",
    "    print(i, value, end=', ')"
   ]
  },
  {
   "cell_type": "code",
   "execution_count": null,
   "id": "d50c65e5",
   "metadata": {
    "pycharm": {
     "name": "#%%\n"
    },
    "slideshow": {
     "slide_type": "subslide"
    }
   },
   "outputs": [],
   "source": [
    "math_vector_first = [1.0, -3.5, 4.1]\n",
    "math_vector_second = [7.0, -1.1, -1.4]\n",
    "#math_vector_sum - ?\n",
    "\n",
    "math_vector_sum = []\n",
    "for element_first, element_second in zip(math_vector_first, math_vector_second):\n",
    "    # теперь на каждой итерации мы видим пару элементов и можем их сложить\n",
    "    math_vector_sum.append(\n",
    "        element_first + element_second\n",
    "    )\n",
    "    \n",
    "math_vector_sum"
   ]
  }
 ],
 "metadata": {
  "celltoolbar": "Slideshow",
  "kernelspec": {
   "display_name": "Python 3 (ipykernel)",
   "language": "python",
   "name": "python3"
  },
  "language_info": {
   "codemirror_mode": {
    "name": "ipython",
    "version": 3
   },
   "file_extension": ".py",
   "mimetype": "text/x-python",
   "name": "python",
   "nbconvert_exporter": "python",
   "pygments_lexer": "ipython3",
   "version": "3.10.10"
  }
 },
 "nbformat": 4,
 "nbformat_minor": 5
}
