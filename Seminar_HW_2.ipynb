{
 "cells": [
  {
   "cell_type": "markdown",
   "id": "2814b5c1",
   "metadata": {},
   "source": [
    "# Я календарь переверну..."
   ]
  },
  {
   "cell_type": "code",
   "execution_count": null,
   "id": "0d40951d",
   "metadata": {},
   "outputs": [],
   "source": [
    "# Самый простой рабочий вариант\n",
    "\n",
    "n = int(input())\n",
    "days = (\"Понедельник\", \"Вторник\", \"Среда\", \"Четверг\",\n",
    "        \"Пятница\", \"Суббота\", \"Воскресенье\")\n",
    "\n",
    "for i in range(n):\n",
    "    print(f\"{i} {items[i % 7]}\")"
   ]
  },
  {
   "cell_type": "code",
   "execution_count": null,
   "id": "9a5c97db",
   "metadata": {},
   "outputs": [],
   "source": [
    "# Второй способ, чтобы показать арифметику на кортежах/списках\n",
    "\n",
    "n = int(input())\n",
    "days = (\"Понедельник\", \"Вторник\", \"Среда\", \"Четверг\",\n",
    "        \"Пятница\", \"Суббота\", \"Воскресенье\")\n",
    "\n",
    "full, remained = divmod(n, len(days))\n",
    "calendar = days * full + days[:remained]\n",
    "for i, day in enumerate(days, start=1):\n",
    "    print(f\"{i} {day}\")"
   ]
  },
  {
   "cell_type": "markdown",
   "id": "75d2c025",
   "metadata": {},
   "source": [
    "# Биологи"
   ]
  },
  {
   "cell_type": "code",
   "execution_count": null,
   "id": "7b4eb002",
   "metadata": {},
   "outputs": [],
   "source": [
    "# В этой и следующей задаче я тупанул и тесты не перемешал :}\n",
    "# Поэтому проходили решения, считывающие сначала одних биологов (n), потом других (m)\n",
    "# Оставил как есть, но для исходного варианта решения примерно следующие\n",
    "\n",
    "n = int(input())\n",
    "m = int(input())\n",
    "total = len({input() for i in range(n + m)})\n",
    "only_one = total - n + total - m\n",
    "if only_one:\n",
    "    print(only_one)\n",
    "else:\n",
    "    print(\"Таких нет\")"
   ]
  },
  {
   "attachments": {
    "biologists.png": {
     "image/png": "[encoded data removed]"
    }
   },
   "cell_type": "markdown",
   "id": "f41a0dac",
   "metadata": {},
   "source": [
    "![biologists.png](attachment:biologists.png)"
   ]
  },
  {
   "cell_type": "markdown",
   "id": "bf81835c",
   "metadata": {},
   "source": [
    "# Биологи+"
   ]
  },
  {
   "cell_type": "code",
   "execution_count": null,
   "id": "8a54b213",
   "metadata": {},
   "outputs": [],
   "source": [
    "n = int(input())\n",
    "m = int(input())\n",
    "total = {}\n",
    "for i in range(n + m):\n",
    "    surname = input()\n",
    "    total[surname] = total.get(surname, 0) + 1\n",
    "only_one = sorted([surname for surname, count in total.items() if count == 1])\n",
    "if only_one:\n",
    "    print(*only_one, sep=\"\\n\")\n",
    "else:\n",
    "    print(\"Таких нет\")"
   ]
  },
  {
   "cell_type": "markdown",
   "id": "fe1900f3",
   "metadata": {},
   "source": [
    "# Чаще других"
   ]
  },
  {
   "cell_type": "code",
   "execution_count": null,
   "id": "9e331cce",
   "metadata": {},
   "outputs": [],
   "source": [
    "import sys\n",
    "\n",
    "\n",
    "words = sys.stdin.read().split()\n",
    "counts = {}\n",
    "max_count = 0\n",
    "max_count_words = set()\n",
    "for word in words:\n",
    "    counts[word] = counts.get(word, 0) + 1\n",
    "    max_count = max(max_count, counts[word])\n",
    "for word, count in counts.items():\n",
    "    if count == max_count:\n",
    "        max_count_words.add(word)\n",
    "print(min(max_count_words))"
   ]
  },
  {
   "cell_type": "markdown",
   "id": "46855638",
   "metadata": {},
   "source": [
    "# Мишени"
   ]
  },
  {
   "cell_type": "code",
   "execution_count": null,
   "id": "f02b843e",
   "metadata": {},
   "outputs": [],
   "source": [
    "n = int(input())\n",
    "cols_xs = {input().split()[0] for i in range(n)}\n",
    "print(len(cols_xs))"
   ]
  },
  {
   "cell_type": "markdown",
   "id": "555b611f",
   "metadata": {},
   "source": [
    "# Черепахи"
   ]
  },
  {
   "cell_type": "code",
   "execution_count": null,
   "id": "26ed1d79",
   "metadata": {},
   "outputs": [],
   "source": [
    "n = int(input())\n",
    "true_places = set()\n",
    "given_places = set()\n",
    "for ahead in range(n):\n",
    "    true_places.add((ahead, n - ahead - 1))\n",
    "    given_places.add(tuple(map(int, input().split())))\n",
    "print(len(true_places & given_places))"
   ]
  },
  {
   "cell_type": "markdown",
   "id": "8243c013",
   "metadata": {},
   "source": [
    "# Магазин"
   ]
  },
  {
   "cell_type": "code",
   "execution_count": null,
   "id": "30538ddc",
   "metadata": {},
   "outputs": [],
   "source": [
    "import sys\n",
    "\n",
    "\n",
    "clients = {}\n",
    "for operation in sys.stdin:\n",
    "    name, item, num = operation.split()\n",
    "    if name not in clients:\n",
    "        clients[name] = {}\n",
    "    if item not in clients[name]:\n",
    "        clients[name][item] = 0\n",
    "    clients[name][item] += int(num)\n",
    "for name in sorted(clients):\n",
    "    print(f\"{name}:\")\n",
    "    for item in sorted(clients[name]):\n",
    "        print(item, clients[name][item])"
   ]
  },
  {
   "cell_type": "markdown",
   "id": "d2ad32ef",
   "metadata": {},
   "source": [
    "# Банк"
   ]
  },
  {
   "cell_type": "code",
   "execution_count": null,
   "id": "2dfba1a5",
   "metadata": {},
   "outputs": [],
   "source": [
    "import sys\n",
    "\n",
    "\n",
    "accounts = {}\n",
    "for operation in sys.stdin:\n",
    "    op, *rest = operation.split()\n",
    "    if op == \"DEPOSIT\":\n",
    "        name, summ = rest\n",
    "        accounts[name] = accounts.get(name, 0) + int(summ)\n",
    "    elif op == \"WITHDRAW\":\n",
    "        name, summ = rest\n",
    "        accounts[name] = accounts.get(name, 0) - int(summ)\n",
    "    elif op == \"BALANCE\":\n",
    "        name, = rest\n",
    "        print(accounts.get(name, \"ERROR\"))\n",
    "    elif op == \"TRANSFER\":\n",
    "        from_name, to_name, summ = rest\n",
    "        accounts[from_name] = accounts.get(from_name, 0) - int(summ)\n",
    "        accounts[to_name] = accounts.get(to_name, 0) + int(summ)\n",
    "    elif op == \"INCOME\":\n",
    "        p = int(rest[0]) / 100\n",
    "        for name, total in accounts.items():\n",
    "            if total > 0:\n",
    "                accounts[name] += int(total * p)"
   ]
  }
 ],
 "metadata": {
  "kernelspec": {
   "display_name": "Python 3 (ipykernel)",
   "language": "python",
   "name": "python3"
  },
  "language_info": {
   "codemirror_mode": {
    "name": "ipython",
    "version": 3
   },
   "file_extension": ".py",
   "mimetype": "text/x-python",
   "name": "python",
   "nbconvert_exporter": "python",
   "pygments_lexer": "ipython3",
   "version": "3.10.10"
  }
 },
 "nbformat": 4,
 "nbformat_minor": 5
}
